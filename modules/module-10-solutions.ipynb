{
 "cells": [
  {
   "cell_type": "markdown",
   "metadata": {},
   "source": [
    "## CIS189 Module \\#10\n",
    "---\n",
    "Author: James D. Triveri\n",
    "\n",
    "---"
   ]
  },
  {
   "cell_type": "markdown",
   "metadata": {},
   "source": [
    "### **Introduction to Object-Oriented Programming**\n",
    "\n",
    "* Object-oriented programming (OOP) is a programming paradigm that revolves around the concept of **objects**, which are **instances** of classes. Python is a multi-paradigm programming language that fully supports OOP. \n",
    "\n",
    "\n",
    "    * **Classes and Objects:** A class is a blueprint for creating objects. It defines the properties (attributes) and behaviors (methods) that all objects of that class will have. An object, also known as an instance, is a specific realization of a class. \n",
    "\n",
    "\n",
    "    * **Attributes and Methods:** *Attributes* are data variables that characterize the state of an object. They represent the properties or characteristics of an object. *Methods* are functions that define the behavior of an object. They encapsulate the actions or operations that an object can perform.\n",
    "\n",
    "\n",
    "    * **Encapsulation:** Encapsulation is the bundling of data (attributes) and methods that operate on that data within a single unit (i.e., a class).\n",
    "    It allows for data hiding, which means that the internal state of an object is hidden from the outside world, and access to it is controlled through methods.\n",
    "\n",
    "\n",
    "    * **Inheritance:** Inheritance is a mechanism that allows a class (subclass) to inherit attributes and methods from another class (superclass).\n",
    "    It promotes code reuse and supports the creation of a hierarchy of classes with specialized behavior.\n",
    "\n",
    "\n",
    "    * **Polymorphism:** Polymorphism allows objects of different classes to be treated as objects of a common superclass.\n",
    "    It enables flexibility and extensibility in code by allowing methods to behave differently based on the object they are invoked on.\n",
    "\n",
    "\n",
    "* **Classes normally implement data *with* behaviors:  pure behaviors are just functions.**\n",
    "\n",
    "* The convention in Python is to use title case when defining classes:\n"
   ]
  },
  {
   "cell_type": "code",
   "execution_count": 1,
   "metadata": {},
   "outputs": [],
   "source": [
    "\"\"\"\n",
    "Class to represent a point in a 2D plane. \n",
    "\"\"\"\n",
    "\n",
    "class Point2D:\n",
    "\n",
    "    def __init__(self, x, y):\n",
    "        \"\"\"\n",
    "        Point class.\n",
    "        \"\"\"\n",
    "        self.x = x\n",
    "        self.y = y\n",
    "\n",
    "\n",
    "    def get_distance(self):\n",
    "        \"\"\"\n",
    "        Compute distance from origin.\n",
    "        \"\"\"\n",
    "        dist = (self.x**2 + self.y**2)**.50\n",
    "        return dist\n"
   ]
  },
  {
   "cell_type": "markdown",
   "metadata": {},
   "source": [
    "<br>\n",
    "\n",
    "- `Point2D` is the class name. The `Point2D` class is the blueprint used to create 2-D point instances. \n",
    "\n",
    "- `def __init__(self, x, y)` is special method used for initializing new objects. This method is also known as the constructor in other object-oriented languages. When you create a new instance of a class, Python automatically calls the `__init__` method for that class.\n",
    "\n",
    "    - `self` refers to the instance of the class itself. It's used within class method definitions to access attributes and methods of the current object. \n",
    "\n",
    "    - `x, y` are arguments used to initialize `Point2D` instances. These are similar to function arguments. \n",
    "\n",
    "- `self.x` and `self.y` are class *attributes*. We prefix variable names with `self` in order for them to be accessible within class methods.\n",
    "\n",
    "- `get_distance` is a class *method*. Class methods are functionally equivalent to regular functions, but always have `self` as the first argument. Within class methods, we can access any class attributes with a `self` suffix defined in `__init__`.\n"
   ]
  },
  {
   "cell_type": "markdown",
   "metadata": {},
   "source": [
    "\n",
    "Create `Point2D` instance. Note that we do not use `self` when creating instances: `self` is only used when creating the class blueprint:"
   ]
  },
  {
   "cell_type": "code",
   "execution_count": 2,
   "metadata": {},
   "outputs": [
    {
     "data": {
      "text/plain": [
       "2.8284271247461903"
      ]
     },
     "execution_count": 2,
     "metadata": {},
     "output_type": "execute_result"
    }
   ],
   "source": [
    "\n",
    "# Create instance of Point class.\n",
    "p = Point2D(2, 2)\n",
    "\n",
    "# Get distance from origin of specified point. \n",
    "p.get_distance()\n"
   ]
  },
  {
   "cell_type": "markdown",
   "metadata": {},
   "source": [
    "Example of why we need `self`:\n"
   ]
  },
  {
   "cell_type": "code",
   "execution_count": 3,
   "metadata": {},
   "outputs": [
    {
     "ename": "NameError",
     "evalue": "name 'x' is not defined",
     "output_type": "error",
     "traceback": [
      "\u001b[1;31m---------------------------------------------------------------------------\u001b[0m",
      "\u001b[1;31mNameError\u001b[0m                                 Traceback (most recent call last)",
      "Cell \u001b[1;32mIn[3], line 21\u001b[0m\n\u001b[0;32m     16\u001b[0m         \u001b[38;5;28;01mreturn\u001b[39;00m dist\n\u001b[0;32m     19\u001b[0m p \u001b[38;5;241m=\u001b[39m Point2D(\u001b[38;5;241m5\u001b[39m, \u001b[38;5;241m6\u001b[39m)\n\u001b[1;32m---> 21\u001b[0m \u001b[43mp\u001b[49m\u001b[38;5;241;43m.\u001b[39;49m\u001b[43mget_distance\u001b[49m\u001b[43m(\u001b[49m\u001b[43m)\u001b[49m\n",
      "Cell \u001b[1;32mIn[3], line 15\u001b[0m, in \u001b[0;36mPoint2D.get_distance\u001b[1;34m(self)\u001b[0m\n\u001b[0;32m     11\u001b[0m \u001b[38;5;28;01mdef\u001b[39;00m \u001b[38;5;21mget_distance\u001b[39m(\u001b[38;5;28mself\u001b[39m):\n\u001b[0;32m     12\u001b[0m \u001b[38;5;250m    \u001b[39m\u001b[38;5;124;03m\"\"\"\u001b[39;00m\n\u001b[0;32m     13\u001b[0m \u001b[38;5;124;03m    Compute distance from origin.\u001b[39;00m\n\u001b[0;32m     14\u001b[0m \u001b[38;5;124;03m    \"\"\"\u001b[39;00m\n\u001b[1;32m---> 15\u001b[0m     dist \u001b[38;5;241m=\u001b[39m (\u001b[43mx\u001b[49m\u001b[38;5;241m*\u001b[39m\u001b[38;5;241m*\u001b[39m\u001b[38;5;241m2\u001b[39m \u001b[38;5;241m+\u001b[39m y\u001b[38;5;241m*\u001b[39m\u001b[38;5;241m*\u001b[39m\u001b[38;5;241m2\u001b[39m)\u001b[38;5;241m*\u001b[39m\u001b[38;5;241m*\u001b[39m\u001b[38;5;241m.50\u001b[39m\n\u001b[0;32m     16\u001b[0m     \u001b[38;5;28;01mreturn\u001b[39;00m dist\n",
      "\u001b[1;31mNameError\u001b[0m: name 'x' is not defined"
     ]
    }
   ],
   "source": [
    "\n",
    "class Point2D:\n",
    "\n",
    "    def __init__(self, x, y):\n",
    "        \"\"\"\n",
    "        Point class (DON'T DO THIS: CODE WILL THROW AN ERROR!)\n",
    "        \"\"\"\n",
    "        x = x\n",
    "        y = y\n",
    "\n",
    "\n",
    "    def get_distance(self):\n",
    "        \"\"\"\n",
    "        Compute distance from origin.\n",
    "        \"\"\"\n",
    "        dist = (x**2 + y**2)**.50\n",
    "        return dist\n",
    "    \n",
    "\n",
    "p = Point2D(5, 6)\n",
    "\n",
    "p.get_distance()"
   ]
  },
  {
   "cell_type": "markdown",
   "metadata": {},
   "source": [
    "\n",
    "<br>\n",
    "\n",
    "Two additional special methods frequently used in classes are `__str__` and `__repr__`:\n",
    "\n",
    "- `__str__`: Aimed to be readable and friendly, possibly at the expense of completeness or precision.\n",
    "\n",
    "- `__repr__`: Aimed to be unambiguous, often following the convention of being a valid Python expression that could recreate the object.\n",
    "  \n",
    "\n",
    "If `__str__` is not implemented, Python uses `__repr__` as a fallback for functions that require a string representation.\n",
    "\n",
    "<br>\n",
    "\n",
    "We can add `__str__` and `__repr__` to the `Point2D` class:"
   ]
  },
  {
   "cell_type": "code",
   "execution_count": 4,
   "metadata": {},
   "outputs": [
    {
     "name": "stdout",
     "output_type": "stream",
     "text": [
      "A Point2D instance with x=6 and y=7.\n"
     ]
    }
   ],
   "source": [
    "\n",
    "class Point2D:\n",
    "\n",
    "    def __init__(self, x, y):\n",
    "        \"\"\"\n",
    "        Point class.\n",
    "        \"\"\"\n",
    "        self.x = x\n",
    "        self.y = y\n",
    "\n",
    "\n",
    "    def get_distance(self):\n",
    "        \"\"\"\n",
    "        Compute distance from origin.\n",
    "        \"\"\"\n",
    "        dist = (self.x**2 + self.y**2)**.50\n",
    "        return dist\n",
    "\n",
    "\n",
    "    def __str__(self):\n",
    "        return f\"A Point2D instance with x={self.x} and y={self.y}.\"\n",
    "    \n",
    "\n",
    "    def __repr__(self):\n",
    "        return f\"Point2D({self.x}, {self.y})\"\n",
    "    \n",
    "\n",
    "p = Point2D(6, 7)\n",
    "\n",
    "# Calling print(p) dispatches call to __str__.\n",
    "print(p)\n",
    "\n",
    "\n"
   ]
  },
  {
   "cell_type": "markdown",
   "metadata": {},
   "source": [
    "We can define *class variables*, which are shared across all instances of a class."
   ]
  },
  {
   "cell_type": "code",
   "execution_count": 8,
   "metadata": {},
   "outputs": [
    {
     "data": {
      "text/plain": [
       "'My name is JT and I am in grade 12 at St. Laurence High School.'"
      ]
     },
     "execution_count": 8,
     "metadata": {},
     "output_type": "execute_result"
    }
   ],
   "source": [
    "\n",
    "class Student:\n",
    "\n",
    "    school_name = \"St. Laurence High School\"  # Class variable shared by all instances\n",
    "\n",
    "    def __init__(self, name, grade):\n",
    "        self.name = name\n",
    "        self.grade = grade\n",
    "\n",
    "    def introduce(self):\n",
    "        return f\"My name is {self.name} and I am in grade {self.grade} at {self.school_name}.\"\n",
    "        \n",
    "s = Student(\"JT\", 12)\n",
    "\n",
    "s.introduce()\n",
    "\n",
    "\n"
   ]
  },
  {
   "cell_type": "markdown",
   "metadata": {},
   "source": [
    "<br>\n",
    "\n",
    "### Class Examples\n",
    "\n"
   ]
  },
  {
   "cell_type": "markdown",
   "metadata": {},
   "source": [
    "<br>\n",
    "\n",
    "\n",
    "A `Circle` class which accepts a single `radius` argument:"
   ]
  },
  {
   "cell_type": "code",
   "execution_count": 9,
   "metadata": {},
   "outputs": [],
   "source": [
    "\n",
    "class Circle:\n",
    "\n",
    "    pi = 3.14159\n",
    "\n",
    "    def __init__(self,  radius):\n",
    "\n",
    "        self.radius = radius\n",
    "\n",
    "    def area(self):\n",
    "        \"\"\"\n",
    "        Compute area of circle.\n",
    "        \"\"\"\n",
    "        return self.pi * (self.radius ** 2)\n",
    "    \n",
    "    def circumference(self):\n",
    "        \"\"\"\n",
    "        Compute circumference of circle.\n",
    "        \"\"\"\n",
    "        return 2 * self.pi * self.radius\n",
    "    \n",
    "    \n",
    "    def __repr__(self):\n",
    "        return f\"Circle({self.radius})\"\n",
    "\n"
   ]
  },
  {
   "cell_type": "markdown",
   "metadata": {},
   "source": [
    "<br>\n",
    "\n",
    "A `BankAccount` class:"
   ]
  },
  {
   "cell_type": "code",
   "execution_count": null,
   "metadata": {},
   "outputs": [],
   "source": [
    "\n",
    "class BankAccount:\n",
    "\n",
    "    def __init__(self, initial_balance):\n",
    "\n",
    "        self.balance = initial_balance\n",
    "\n",
    "    def deposit(self, amount):\n",
    "        if amount > 0:\n",
    "            self.balance += amount\n",
    "\n",
    "    def withdraw(self, amount):\n",
    "        pass\n",
    "            \n",
    "    def get_balance(self):\n",
    "        return self.balance\n"
   ]
  },
  {
   "cell_type": "markdown",
   "metadata": {},
   "source": [
    "<br>\n",
    "\n",
    "A `Library` class:"
   ]
  },
  {
   "cell_type": "code",
   "execution_count": null,
   "metadata": {},
   "outputs": [],
   "source": [
    "\n",
    "class Library:\n",
    "    def __init__(self):\n",
    "        \n",
    "        self.books = []\n",
    "\n",
    "    def add_book(self, book):\n",
    "        self.books.append(book)\n",
    "\n",
    "    def list_books(self):\n",
    "        for book in self.books:\n",
    "            print(book)"
   ]
  },
  {
   "cell_type": "markdown",
   "metadata": {},
   "source": [
    "<br>\n",
    "\n",
    "A `Car` class:\n"
   ]
  },
  {
   "cell_type": "code",
   "execution_count": 10,
   "metadata": {},
   "outputs": [
    {
     "name": "stdout",
     "output_type": "stream",
     "text": [
      "Car: 2020 Toyota Camry, Mileage: 100.0 miles\n"
     ]
    }
   ],
   "source": [
    "\n",
    "class Car:\n",
    "    def __init__(self, make, model, year):\n",
    "        self.make = make\n",
    "        self.model = model\n",
    "        self.year = year\n",
    "        self.mileage = 0.0\n",
    "        \n",
    "    def drive(self, miles):\n",
    "        self.mileage += miles\n",
    "        \n",
    "    def display(self):\n",
    "        print(f\"Car: {self.year} {self.make} {self.model}, Mileage: {self.mileage} miles\")\n",
    "\n",
    "\n",
    "# Example usage:\n",
    "my_car = Car(\"Toyota\", \"Camry\", 2020)\n",
    "my_car.drive(100)\n",
    "my_car.display()\n",
    "\n"
   ]
  },
  {
   "cell_type": "markdown",
   "metadata": {},
   "source": [
    "\n",
    "<br>\n",
    "\n",
    "Real-world example of class usage: Defining neural network architecture:\n",
    "\n",
    "- https://gist.github.com/jtrive84/383bf2e3bbba89918d612ab402584276\n",
    "\n"
   ]
  },
  {
   "cell_type": "markdown",
   "metadata": {},
   "source": [
    "<br>\n",
    "\n",
    "#### **Checkpoint \\#1:**\n",
    "\n",
    "Create a simple `Person` class with a single `name` attribute and a single `hello` method, which prints `\"Hello, my name is <name>, how are you today?\"`. Initialize an instance of your `Person` class, and invoke the `hello` method.\n"
   ]
  },
  {
   "cell_type": "code",
   "execution_count": 5,
   "metadata": {},
   "outputs": [
    {
     "name": "stdout",
     "output_type": "stream",
     "text": [
      "Hello, my name is JT, how are you today?\n"
     ]
    }
   ],
   "source": [
    "\n",
    "##### YOUR CODE HERE #####\n",
    "\n",
    "class Person:\n",
    "\n",
    "    def __init__(self, name):\n",
    "\n",
    "        self.name = name\n",
    "\n",
    "    def hello(self):\n",
    "        print(f\"Hello, my name is {self.name}, how are you today?\")\n",
    "\n",
    "\n",
    "# Initialize instance of Person class.\n",
    "p = Person(\"JT\")\n",
    "\n",
    "# Invoke hello method.\n",
    "p.hello()\n"
   ]
  },
  {
   "cell_type": "markdown",
   "metadata": {},
   "source": [
    "<br>\n",
    "\n",
    "#### **Checkpoint \\#2:**\n",
    "\n",
    "Create a `Rectangle` class that accepts `height` and `width` arguments with the following attributes and methods:\n",
    "\n",
    "**Attributes:**\n",
    "- `height`\n",
    "- `width`\n",
    "\n",
    "**Methods:**\n",
    "\n",
    "- `area`: Computes area of rectangle.\n",
    "- `perimeter`: Computes the perimeter of the rectangle.\n",
    "- `is_square`: Returns `True` if height == width, otherwise return `False`. \n",
    "- `__repr__`: A Valid Python expression that could recreate your object.\n",
    "\n",
    "\n",
    "**Challenge**:\n",
    "\n",
    "- Include a `diagonal` method that computes the length of the diagonal connecting opposite corners of the rectangle (from the upper-left most corner to the lower-right most corner, or vice-versa).\n",
    "\n",
    "\n",
    "**Be sure to run the test cell below your code cell to ensure proper class construction. If no output is produced, your code passed the tests.**\n",
    "\n",
    "\n"
   ]
  },
  {
   "cell_type": "code",
   "execution_count": 11,
   "metadata": {},
   "outputs": [],
   "source": [
    "\n",
    "##### YOUR CODE HERE #####\n",
    "\n",
    "class Rectangle:\n",
    "    def __init__(self, height, width):\n",
    "        self.height = height\n",
    "        self.width = width \n",
    "\n",
    "    def area(self):\n",
    "        return self.height * self.width\n",
    "    \n",
    "    def perimeter(self):\n",
    "        return 2 * self.height + 2 * self.width\n",
    "    \n",
    "    def is_square(self):\n",
    "        return True if self.height == self.width else False\n",
    "    \n",
    "    def diagonal(self):\n",
    "        return (self.height**2 + self.width**2)**.50\n",
    "    \n",
    "    def __repr__(self):\n",
    "        return f\"Rectangle({self.height}, {self.width})\"\n"
   ]
  },
  {
   "cell_type": "code",
   "execution_count": null,
   "metadata": {},
   "outputs": [],
   "source": [
    "\n",
    "# Test Rectangle class. Be sure to execute cell above to load your Rectangle\n",
    "# class into the current Python session. If nothing is printed, your code\n",
    "# passed the tests. \n",
    "\n",
    "r1 = Rectangle(10, 5)\n",
    "r2 = Rectangle(10, 10)\n",
    "\n",
    "assert r1.area() == 50, \"Incorrect area method for r1.\"\n",
    "assert r1.perimeter() == 30, \"Incorrect perimeter method for r1.\"\n",
    "assert r1.is_square() == False, \"Incorrect is_square method for r1.\"\n",
    "\n",
    "assert r2.area() == 100, \"Incorrect area method for r2.\"\n",
    "assert r2.perimeter() == 40, \"Incorrect perimeter method for r2.\"\n",
    "assert r2.is_square() == True, \"Incorrect is_square method for r2.\"\n",
    "\n"
   ]
  },
  {
   "cell_type": "markdown",
   "metadata": {},
   "source": [
    "\n",
    "<br>\n",
    "\n",
    "### The `property` decorator\n",
    "\n",
    "Using the `property` decorator in a class definition in Python allows you to define methods that are accessible like attributes, but actually invoke a method behind the scenes. This is useful for adding logic to attribute access, such as validation or automatic conversion. Here's an example of how to use properties in a class to ensure the user-provided radius is greater than or equal to 0.\n"
   ]
  },
  {
   "cell_type": "code",
   "execution_count": 17,
   "metadata": {},
   "outputs": [
    {
     "name": "stdout",
     "output_type": "stream",
     "text": [
      "Get radius\n",
      "10\n",
      "Set radius\n",
      "Get radius\n",
      "18\n"
     ]
    }
   ],
   "source": [
    "\n",
    "class Circle:\n",
    "    def __init__(self, radius):\n",
    "        self._radius = radius\n",
    "\n",
    "    @property\n",
    "    def radius(self):\n",
    "        \"\"\"The radius property.\"\"\"\n",
    "        print(\"Get radius\")\n",
    "        return self._radius\n",
    "\n",
    "    @radius.setter\n",
    "    def radius(self, value):\n",
    "        print(\"Set radius\")\n",
    "        if value > 0:\n",
    "            self._radius = value\n",
    "\n",
    "\n",
    "\n",
    "c = Circle(10)\n",
    "\n",
    "print(c.radius)\n",
    "\n",
    "c.radius = 18\n",
    "\n",
    "print(c.radius)\n"
   ]
  },
  {
   "cell_type": "markdown",
   "metadata": {},
   "source": [
    "**References**:\n",
    "\n",
    "- [Introduction to Object Oriented Programming in Python](https://realpython.com/python3-object-oriented-programming/)\n",
    "- [Add managed attributes to your classes](https://realpython.com/python-property/)"
   ]
  }
 ],
 "metadata": {
  "kernelspec": {
   "display_name": "Python 3",
   "language": "python",
   "name": "python3"
  },
  "language_info": {
   "codemirror_mode": {
    "name": "ipython",
    "version": 3
   },
   "file_extension": ".py",
   "mimetype": "text/x-python",
   "name": "python",
   "nbconvert_exporter": "python",
   "pygments_lexer": "ipython3",
   "version": "3.12.0"
  }
 },
 "nbformat": 4,
 "nbformat_minor": 2
}
