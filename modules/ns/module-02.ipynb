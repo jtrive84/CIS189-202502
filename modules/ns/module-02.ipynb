{
 "cells": [
  {
   "cell_type": "markdown",
   "metadata": {},
   "source": [
    "## CIS189 Module \\#2\n",
    "---\n",
    "Author: James D. Triveri\n",
    "\n",
    "---"
   ]
  },
  {
   "cell_type": "markdown",
   "metadata": {},
   "source": [
    "## Strings\n",
    "\n",
    "- Documentation: https://docs.python.org/3/library/stdtypes.html#text-sequence-type-str\n"
   ]
  },
  {
   "cell_type": "markdown",
   "metadata": {},
   "source": [
    "Strings are immutable sequences of Unicode code points. *Immutable* means the object cannot be changed once it has been defined. "
   ]
  },
  {
   "cell_type": "code",
   "execution_count": 1,
   "metadata": {},
   "outputs": [
    {
     "name": "stdout",
     "output_type": "stream",
     "text": [
      "phrase: Do what you say you're going to do, and do it a little better than you said you would.\n",
      "type(phrase): <class 'str'>\n"
     ]
    }
   ],
   "source": [
    "\n",
    "phrase = \"Do what you say you're going to do, and do it a little better than you said you would.\"\n",
    "\n",
    "print(f\"phrase: {phrase}\")\n",
    "print(f\"type(phrase): {type(phrase)}\")"
   ]
  },
  {
   "cell_type": "code",
   "execution_count": 2,
   "metadata": {},
   "outputs": [
    {
     "ename": "TypeError",
     "evalue": "'str' object does not support item assignment",
     "output_type": "error",
     "traceback": [
      "\u001b[1;31m---------------------------------------------------------------------------\u001b[0m",
      "\u001b[1;31mTypeError\u001b[0m                                 Traceback (most recent call last)",
      "Cell \u001b[1;32mIn[2], line 2\u001b[0m\n\u001b[0;32m      1\u001b[0m \u001b[38;5;66;03m# immutable means we can't do this:\u001b[39;00m\n\u001b[1;32m----> 2\u001b[0m \u001b[43mphrase\u001b[49m\u001b[43m[\u001b[49m\u001b[38;5;241;43m0\u001b[39;49m\u001b[43m]\u001b[49m \u001b[38;5;241m=\u001b[39m \u001b[38;5;124m\"\u001b[39m\u001b[38;5;124ma\u001b[39m\u001b[38;5;124m\"\u001b[39m\n",
      "\u001b[1;31mTypeError\u001b[0m: 'str' object does not support item assignment"
     ]
    }
   ],
   "source": [
    "\n",
    "# immutable means we can't do this:\n",
    "phrase[0] = \"a\"\n"
   ]
  },
  {
   "cell_type": "code",
   "execution_count": 3,
   "metadata": {},
   "outputs": [
    {
     "data": {
      "text/plain": [
       "False"
      ]
     },
     "execution_count": 3,
     "metadata": {},
     "output_type": "execute_result"
    }
   ],
   "source": [
    "# phrase: Do what you say you're going to do, and do it a little better than you said you would.\n",
    "# Check if the letter `z` is in phrase:\n",
    "\"z\" in phrase\n"
   ]
  },
  {
   "cell_type": "code",
   "execution_count": 4,
   "metadata": {},
   "outputs": [
    {
     "data": {
      "text/plain": [
       "True"
      ]
     },
     "execution_count": 4,
     "metadata": {},
     "output_type": "execute_result"
    }
   ],
   "source": [
    "# phrase: Do what you say you're going to do, and do it a little better than you said you would.\n",
    "# Check if `better` is in phrase:\n",
    "\"better\" in phrase\n"
   ]
  },
  {
   "cell_type": "code",
   "execution_count": 5,
   "metadata": {},
   "outputs": [
    {
     "data": {
      "text/plain": [
       "True"
      ]
     },
     "execution_count": 5,
     "metadata": {},
     "output_type": "execute_result"
    }
   ],
   "source": [
    "\n",
    "# Check if phrase starts with \"do\":\n",
    "phrase.startswith(\"Do\")\n"
   ]
  },
  {
   "cell_type": "code",
   "execution_count": 6,
   "metadata": {},
   "outputs": [
    {
     "data": {
      "text/plain": [
       "False"
      ]
     },
     "execution_count": 6,
     "metadata": {},
     "output_type": "execute_result"
    }
   ],
   "source": [
    "# phrase: Do what you say you're going to do, and do it a little better than you said you would.\n",
    "# Check if phrase ends with turtles:\n",
    "phrase.endswith(\"turtles\")\n"
   ]
  },
  {
   "cell_type": "code",
   "execution_count": 7,
   "metadata": {},
   "outputs": [
    {
     "data": {
      "text/plain": [
       "6"
      ]
     },
     "execution_count": 7,
     "metadata": {},
     "output_type": "execute_result"
    }
   ],
   "source": [
    "# phrase: Do what you say you're going to do, and do it a little better than you said you would.\n",
    "# Count the number of `a`s in phrase:\n",
    "phrase.count(\"a\")\n"
   ]
  },
  {
   "cell_type": "code",
   "execution_count": 8,
   "metadata": {},
   "outputs": [
    {
     "data": {
      "text/plain": [
       "'D'"
      ]
     },
     "execution_count": 8,
     "metadata": {},
     "output_type": "execute_result"
    }
   ],
   "source": [
    "\n",
    "# Get first character in phrase. Recall that Python uses 0-based indexing.\n",
    "phrase[0]\n"
   ]
  },
  {
   "cell_type": "code",
   "execution_count": 9,
   "metadata": {},
   "outputs": [
    {
     "data": {
      "text/plain": [
       "'.'"
      ]
     },
     "execution_count": 9,
     "metadata": {},
     "output_type": "execute_result"
    }
   ],
   "source": [
    "\n",
    "# Get last character in phrase: (example using string length as index):\n",
    "phrase[-1]\n"
   ]
  },
  {
   "cell_type": "code",
   "execution_count": 10,
   "metadata": {},
   "outputs": [
    {
     "data": {
      "text/plain": [
       "'Do wh'"
      ]
     },
     "execution_count": 10,
     "metadata": {},
     "output_type": "execute_result"
    }
   ],
   "source": [
    "\n",
    "# Get first 5 characters of phrase:\n",
    "phrase[:5]\n"
   ]
  },
  {
   "cell_type": "code",
   "execution_count": 11,
   "metadata": {},
   "outputs": [
    {
     "data": {
      "text/plain": [
       "'ould.'"
      ]
     },
     "execution_count": 11,
     "metadata": {},
     "output_type": "execute_result"
    }
   ],
   "source": [
    "\n",
    "# Get last 5 characters of phrase:\n",
    "phrase[-5:]\n"
   ]
  },
  {
   "cell_type": "code",
   "execution_count": 12,
   "metadata": {},
   "outputs": [
    {
     "data": {
      "text/plain": [
       "'what'"
      ]
     },
     "execution_count": 12,
     "metadata": {},
     "output_type": "execute_result"
    }
   ],
   "source": [
    "\n",
    "# Get characters 4 thru 7 of phrase. Note that when using slice notation, \n",
    "# the last index is not included. \n",
    "phrase[3:7]"
   ]
  },
  {
   "cell_type": "code",
   "execution_count": 13,
   "metadata": {},
   "outputs": [
    {
     "name": "stdout",
     "output_type": "stream",
     "text": [
      "type(phrase)   : <class 'str'>\n",
      "len(phrase)    : 86\n",
      "\n",
      "type(word_list) : <class 'list'>\n",
      "len(word_list)  : 19\n",
      "\n",
      "word_list : ['Do', 'what', 'you', 'say', \"you're\", 'going', 'to', 'do,', 'and', 'do', 'it', 'a', 'little', 'better', 'than', 'you', 'said', 'you', 'would.']\n"
     ]
    }
   ],
   "source": [
    "\n",
    "# Convert phrase into a list of words split on whitespace.\n",
    "word_list = phrase.split(\" \")\n",
    "\n",
    "\n",
    "print(f\"type(phrase)   : {type(phrase)}\")\n",
    "print(f\"len(phrase)    : {len(phrase)}\")\n",
    "\n",
    "print(f\"\\ntype(word_list) : {type(word_list)}\")\n",
    "print(f\"len(word_list)  : {len(word_list)}\")\n",
    "\n",
    "print(f\"\\nword_list : {word_list}\")\n"
   ]
  },
  {
   "cell_type": "code",
   "execution_count": 14,
   "metadata": {},
   "outputs": [
    {
     "data": {
      "text/plain": [
       "['Do wh',\n",
       " 't you s',\n",
       " \"y you're going to do, \",\n",
       " 'nd do it ',\n",
       " ' little better th',\n",
       " 'n you s',\n",
       " 'id you would.']"
      ]
     },
     "execution_count": 14,
     "metadata": {},
     "output_type": "execute_result"
    }
   ],
   "source": [
    "\n",
    "# What happens if we split phrase on a non-whitespace character?\n",
    "# phrase = \"Do what you say you're going to do, and do it a little better than you said you would.\"\n",
    "phrase.split(\"a\")"
   ]
  },
  {
   "cell_type": "code",
   "execution_count": 15,
   "metadata": {},
   "outputs": [
    {
     "data": {
      "text/plain": [
       "['D',\n",
       " 'o',\n",
       " ' ',\n",
       " 'w',\n",
       " 'h',\n",
       " 'a',\n",
       " 't',\n",
       " ' ',\n",
       " 'y',\n",
       " 'o',\n",
       " 'u',\n",
       " ' ',\n",
       " 's',\n",
       " 'a',\n",
       " 'y',\n",
       " ' ',\n",
       " 'y',\n",
       " 'o',\n",
       " 'u',\n",
       " \"'\",\n",
       " 'r',\n",
       " 'e',\n",
       " ' ',\n",
       " 'g',\n",
       " 'o',\n",
       " 'i',\n",
       " 'n',\n",
       " 'g',\n",
       " ' ',\n",
       " 't',\n",
       " 'o',\n",
       " ' ',\n",
       " 'd',\n",
       " 'o',\n",
       " ',',\n",
       " ' ',\n",
       " 'a',\n",
       " 'n',\n",
       " 'd',\n",
       " ' ',\n",
       " 'd',\n",
       " 'o',\n",
       " ' ',\n",
       " 'i',\n",
       " 't',\n",
       " ' ',\n",
       " 'a',\n",
       " ' ',\n",
       " 'l',\n",
       " 'i',\n",
       " 't',\n",
       " 't',\n",
       " 'l',\n",
       " 'e',\n",
       " ' ',\n",
       " 'b',\n",
       " 'e',\n",
       " 't',\n",
       " 't',\n",
       " 'e',\n",
       " 'r',\n",
       " ' ',\n",
       " 't',\n",
       " 'h',\n",
       " 'a',\n",
       " 'n',\n",
       " ' ',\n",
       " 'y',\n",
       " 'o',\n",
       " 'u',\n",
       " ' ',\n",
       " 's',\n",
       " 'a',\n",
       " 'i',\n",
       " 'd',\n",
       " ' ',\n",
       " 'y',\n",
       " 'o',\n",
       " 'u',\n",
       " ' ',\n",
       " 'w',\n",
       " 'o',\n",
       " 'u',\n",
       " 'l',\n",
       " 'd',\n",
       " '.']"
      ]
     },
     "execution_count": 15,
     "metadata": {},
     "output_type": "execute_result"
    }
   ],
   "source": [
    "\n",
    "# Convert a string into a list of characters.\n",
    "list(phrase)\n"
   ]
  },
  {
   "cell_type": "markdown",
   "metadata": {},
   "source": [
    "<br>\n",
    "\n",
    "### **Checkpoint \\#1:**\n",
    "\n",
    "In the next cell, create a string variable named `verse` with a line from your favorite (or any) song. Answer the questions in each subsequent cell. Replace `##### YOUR CODE HERE #####` with your actual code."
   ]
  },
  {
   "cell_type": "code",
   "execution_count": 16,
   "metadata": {},
   "outputs": [],
   "source": [
    "\n",
    "##### YOUR CODE HERE #####\n"
   ]
  },
  {
   "cell_type": "markdown",
   "metadata": {},
   "source": [
    "Print the number of characters in the `verse` variable."
   ]
  },
  {
   "cell_type": "code",
   "execution_count": null,
   "metadata": {},
   "outputs": [],
   "source": [
    "\n",
    "##### YOUR CODE HERE #####\n"
   ]
  },
  {
   "cell_type": "markdown",
   "metadata": {},
   "source": [
    "Print the number of words contained in `verse`."
   ]
  },
  {
   "cell_type": "code",
   "execution_count": null,
   "metadata": {},
   "outputs": [],
   "source": [
    "\n",
    "##### YOUR CODE HERE #####\n"
   ]
  },
  {
   "cell_type": "markdown",
   "metadata": {},
   "source": [
    "\n",
    "Count the number of occurrences of \"e\" and \"s\" in `verse`. Print the results.\n"
   ]
  },
  {
   "cell_type": "code",
   "execution_count": null,
   "metadata": {},
   "outputs": [],
   "source": [
    "\n",
    "##### YOUR CODE HERE #####\n"
   ]
  },
  {
   "cell_type": "markdown",
   "metadata": {},
   "source": [
    "\n",
    "**Challenge:** What is the second character of the third word of `verse` (remember Python uses 0-based indexing)?\n"
   ]
  },
  {
   "cell_type": "code",
   "execution_count": null,
   "metadata": {},
   "outputs": [],
   "source": [
    "\n",
    "##### YOUR CODE HERE #####\n"
   ]
  },
  {
   "cell_type": "markdown",
   "metadata": {},
   "source": [
    "<br>\n",
    "\n",
    "We can list all the methods associated with an object in Python by running `dir(object)`. For now, you can ignore \n",
    "all the results that start with a leading underscore (or two). These are special methods, and shouldn't\n",
    "be accessed. We can filter down to just the attributes we are interested in as follows:"
   ]
  },
  {
   "cell_type": "code",
   "execution_count": 23,
   "metadata": {},
   "outputs": [
    {
     "data": {
      "text/plain": [
       "['__add__',\n",
       " '__class__',\n",
       " '__contains__',\n",
       " '__delattr__',\n",
       " '__dir__',\n",
       " '__doc__',\n",
       " '__eq__',\n",
       " '__format__',\n",
       " '__ge__',\n",
       " '__getattribute__',\n",
       " '__getitem__',\n",
       " '__getnewargs__',\n",
       " '__getstate__',\n",
       " '__gt__',\n",
       " '__hash__',\n",
       " '__init__',\n",
       " '__init_subclass__',\n",
       " '__iter__',\n",
       " '__le__',\n",
       " '__len__',\n",
       " '__lt__',\n",
       " '__mod__',\n",
       " '__mul__',\n",
       " '__ne__',\n",
       " '__new__',\n",
       " '__reduce__',\n",
       " '__reduce_ex__',\n",
       " '__repr__',\n",
       " '__rmod__',\n",
       " '__rmul__',\n",
       " '__setattr__',\n",
       " '__sizeof__',\n",
       " '__str__',\n",
       " '__subclasshook__',\n",
       " 'capitalize',\n",
       " 'casefold',\n",
       " 'center',\n",
       " 'count',\n",
       " 'encode',\n",
       " 'endswith',\n",
       " 'expandtabs',\n",
       " 'find',\n",
       " 'format',\n",
       " 'format_map',\n",
       " 'index',\n",
       " 'isalnum',\n",
       " 'isalpha',\n",
       " 'isascii',\n",
       " 'isdecimal',\n",
       " 'isdigit',\n",
       " 'isidentifier',\n",
       " 'islower',\n",
       " 'isnumeric',\n",
       " 'isprintable',\n",
       " 'isspace',\n",
       " 'istitle',\n",
       " 'isupper',\n",
       " 'join',\n",
       " 'ljust',\n",
       " 'lower',\n",
       " 'lstrip',\n",
       " 'maketrans',\n",
       " 'partition',\n",
       " 'removeprefix',\n",
       " 'removesuffix',\n",
       " 'replace',\n",
       " 'rfind',\n",
       " 'rindex',\n",
       " 'rjust',\n",
       " 'rpartition',\n",
       " 'rsplit',\n",
       " 'rstrip',\n",
       " 'split',\n",
       " 'splitlines',\n",
       " 'startswith',\n",
       " 'strip',\n",
       " 'swapcase',\n",
       " 'title',\n",
       " 'translate',\n",
       " 'upper',\n",
       " 'zfill']"
      ]
     },
     "execution_count": 23,
     "metadata": {},
     "output_type": "execute_result"
    }
   ],
   "source": [
    "\n",
    "dir(verse)"
   ]
  },
  {
   "cell_type": "code",
   "execution_count": 24,
   "metadata": {},
   "outputs": [
    {
     "data": {
      "text/plain": [
       "['capitalize',\n",
       " 'casefold',\n",
       " 'center',\n",
       " 'count',\n",
       " 'encode',\n",
       " 'endswith',\n",
       " 'expandtabs',\n",
       " 'find',\n",
       " 'format',\n",
       " 'format_map',\n",
       " 'index',\n",
       " 'isalnum',\n",
       " 'isalpha',\n",
       " 'isascii',\n",
       " 'isdecimal',\n",
       " 'isdigit',\n",
       " 'isidentifier',\n",
       " 'islower',\n",
       " 'isnumeric',\n",
       " 'isprintable',\n",
       " 'isspace',\n",
       " 'istitle',\n",
       " 'isupper',\n",
       " 'join',\n",
       " 'ljust',\n",
       " 'lower',\n",
       " 'lstrip',\n",
       " 'maketrans',\n",
       " 'partition',\n",
       " 'removeprefix',\n",
       " 'removesuffix',\n",
       " 'replace',\n",
       " 'rfind',\n",
       " 'rindex',\n",
       " 'rjust',\n",
       " 'rpartition',\n",
       " 'rsplit',\n",
       " 'rstrip',\n",
       " 'split',\n",
       " 'splitlines',\n",
       " 'startswith',\n",
       " 'strip',\n",
       " 'swapcase',\n",
       " 'title',\n",
       " 'translate',\n",
       " 'upper',\n",
       " 'zfill']"
      ]
     },
     "execution_count": 24,
     "metadata": {},
     "output_type": "execute_result"
    }
   ],
   "source": [
    "[i for i in dir(verse) if not i.startswith(\"_\")]\n"
   ]
  },
  {
   "cell_type": "markdown",
   "metadata": {},
   "source": [
    "Get help for a function or attribute as follows:"
   ]
  },
  {
   "cell_type": "code",
   "execution_count": 25,
   "metadata": {},
   "outputs": [
    {
     "name": "stdout",
     "output_type": "stream",
     "text": [
      "Help on built-in function startswith:\n",
      "\n",
      "startswith(...) method of builtins.str instance\n",
      "    S.startswith(prefix[, start[, end]]) -> bool\n",
      "\n",
      "    Return True if S starts with the specified prefix, False otherwise.\n",
      "    With optional start, test S beginning at that position.\n",
      "    With optional end, stop comparing S at that position.\n",
      "    prefix can also be a tuple of strings to try.\n",
      "\n"
     ]
    }
   ],
   "source": [
    "\n",
    "help(verse.startswith)\n"
   ]
  },
  {
   "cell_type": "markdown",
   "metadata": {},
   "source": [
    "<br>\n",
    "\n",
    "## Lists\n",
    "\n",
    "\n",
    "References: \n",
    "- https://www.digitalocean.com/community/tutorials/understanding-lists-in-python-3\n",
    "- https://docs.python.org/3/tutorial/introduction.html#lists\n",
    "- https://docs.python.org/3/tutorial/datastructures.html#more-on-lists\n"
   ]
  },
  {
   "cell_type": "markdown",
   "metadata": {},
   "source": [
    "- Lists are the workhorse data structure in Python, and are used everywhere for multiple purposes. \n",
    "- A list is a mutable, or changeable, ordered sequence of elements.\n",
    "- Lists elements can be accessed using (0-based) indices just as we did with strings.\n",
    "- Lists can contain mixed types, but this is generally not a good practice. \n"
   ]
  },
  {
   "cell_type": "code",
   "execution_count": 26,
   "metadata": {},
   "outputs": [
    {
     "name": "stdout",
     "output_type": "stream",
     "text": [
      "type(list_of_ints): <class 'list'>\n",
      "type(list_of_ints[0]): <class 'int'>\n",
      "\n",
      "type(list_of_strs): <class 'list'>\n",
      "type(list_of_strs[0]): <class 'str'>\n",
      "\n",
      "type(list_of_floats): <class 'list'>\n",
      "type(list_of_floats[0]): <class 'float'>\n"
     ]
    }
   ],
   "source": [
    "\n",
    "# Creating a list of integers.\n",
    "list_of_ints = [2, 4, 6, 8, 10]\n",
    "\n",
    "# Creating a list of strings.\n",
    "list_of_strs = [\"Help!\", \"Rubber Soul\", \"Revolver\", \"Sgt. Pepper\", \"Magical Mystery Tour\"]\n",
    "\n",
    "# Creating a list of floats.\n",
    "list_of_floats = [2.1, 4.2, 8.4, 16.8, 33.6, 67.2]\n",
    "\n",
    "\n",
    "# Print the type of list_of_ints, list_of_strs and list_of_floats,\n",
    "# along with the type of the first element of each.\n",
    "print(f\"type(list_of_ints): {type(list_of_ints)}\")\n",
    "print(f\"type(list_of_ints[0]): {type(list_of_ints[0])}\\n\")\n",
    "\n",
    "print(f\"type(list_of_strs): {type(list_of_strs)}\")\n",
    "print(f\"type(list_of_strs[0]): {type(list_of_strs[0])}\\n\")\n",
    "\n",
    "print(f\"type(list_of_floats): {type(list_of_floats)}\")\n",
    "print(f\"type(list_of_floats[0]): {type(list_of_floats[0])}\")\n"
   ]
  },
  {
   "cell_type": "markdown",
   "metadata": {},
   "source": [
    "<br>\n",
    "\n",
    "As we did with strings, we can list all the methods associated with a list by calling `dir(object)`. We filter out\n",
    "all the special methods to list only public attributes:"
   ]
  },
  {
   "cell_type": "code",
   "execution_count": 27,
   "metadata": {},
   "outputs": [
    {
     "data": {
      "text/plain": [
       "['append',\n",
       " 'clear',\n",
       " 'copy',\n",
       " 'count',\n",
       " 'extend',\n",
       " 'index',\n",
       " 'insert',\n",
       " 'pop',\n",
       " 'remove',\n",
       " 'reverse',\n",
       " 'sort']"
      ]
     },
     "execution_count": 27,
     "metadata": {},
     "output_type": "execute_result"
    }
   ],
   "source": [
    "\n",
    "[i for i in dir(list_of_strs) if not i.startswith(\"_\")]\n"
   ]
  },
  {
   "cell_type": "code",
   "execution_count": 28,
   "metadata": {},
   "outputs": [
    {
     "name": "stdout",
     "output_type": "stream",
     "text": [
      "albums before adding new_album: ['Help!', 'Rubber Soul', 'Revolver', 'Sgt. Pepper', 'Magical Mystery Tour']\n",
      "albums after adding new_album : ['Help!', 'Rubber Soul', 'Revolver', 'Sgt. Pepper', 'Magical Mystery Tour', 'The White Album']\n"
     ]
    }
   ],
   "source": [
    "\n",
    "# `append` adds the specified element to end of list.\n",
    "albums = [\"Help!\", \"Rubber Soul\", \"Revolver\", \"Sgt. Pepper\", \"Magical Mystery Tour\"]\n",
    "\n",
    "\n",
    "new_album = \"The White Album\"\n",
    "\n",
    "print(f\"albums before adding new_album: {albums}\")\n",
    "\n",
    "albums.append(new_album)\n",
    "\n",
    "print(f\"albums after adding new_album : {albums}\")\n",
    "\n"
   ]
  },
  {
   "cell_type": "code",
   "execution_count": 29,
   "metadata": {},
   "outputs": [
    {
     "name": "stdout",
     "output_type": "stream",
     "text": [
      "[]\n"
     ]
    }
   ],
   "source": [
    "\n",
    "# `clear` removes all items from the list.\n",
    "albums.clear()\n",
    "\n",
    "print(albums)\n"
   ]
  },
  {
   "cell_type": "code",
   "execution_count": 30,
   "metadata": {},
   "outputs": [
    {
     "data": {
      "text/plain": [
       "2"
      ]
     },
     "execution_count": 30,
     "metadata": {},
     "output_type": "execute_result"
    }
   ],
   "source": [
    "\n",
    "# count returns the number of occurrences of an element. \n",
    "album_years = [1965, 1965, 1966, 1967, 1967, 1968]\n",
    "\n",
    "album_years.count(1967)\n"
   ]
  },
  {
   "cell_type": "code",
   "execution_count": 31,
   "metadata": {},
   "outputs": [
    {
     "data": {
      "text/plain": [
       "2"
      ]
     },
     "execution_count": 31,
     "metadata": {},
     "output_type": "execute_result"
    }
   ],
   "source": [
    "\n",
    "# index gives the index of the specified value.\n",
    "albums = [\"Help!\", \"Rubber Soul\", \"Revolver\", \"Sgt. Pepper\", \"Magical Mystery Tour\", \"The White Album\"]\n",
    "\n",
    "albums.index(\"Revolver\")\n"
   ]
  },
  {
   "cell_type": "code",
   "execution_count": 32,
   "metadata": {},
   "outputs": [
    {
     "ename": "ValueError",
     "evalue": "'Abbey Road' is not in list",
     "output_type": "error",
     "traceback": [
      "\u001b[1;31m---------------------------------------------------------------------------\u001b[0m",
      "\u001b[1;31mValueError\u001b[0m                                Traceback (most recent call last)",
      "Cell \u001b[1;32mIn[32], line 2\u001b[0m\n\u001b[0;32m      1\u001b[0m \u001b[38;5;66;03m# index will raises a ValueError if the value is not present.\u001b[39;00m\n\u001b[1;32m----> 2\u001b[0m \u001b[43malbums\u001b[49m\u001b[38;5;241;43m.\u001b[39;49m\u001b[43mindex\u001b[49m\u001b[43m(\u001b[49m\u001b[38;5;124;43m\"\u001b[39;49m\u001b[38;5;124;43mAbbey Road\u001b[39;49m\u001b[38;5;124;43m\"\u001b[39;49m\u001b[43m)\u001b[49m\n",
      "\u001b[1;31mValueError\u001b[0m: 'Abbey Road' is not in list"
     ]
    }
   ],
   "source": [
    "\n",
    "# index will raises a ValueError if the value is not present.\n",
    "albums.index(\"Abbey Road\")\n"
   ]
  },
  {
   "cell_type": "code",
   "execution_count": 33,
   "metadata": {},
   "outputs": [
    {
     "name": "stdout",
     "output_type": "stream",
     "text": [
      "album_years before calling remove: [1965, 1965, 1966, 1967, 1967, 1968]\n",
      "album_years after calling remove : [1965, 1965, 1966, 1967, 1968]\n"
     ]
    }
   ],
   "source": [
    "\n",
    "# remove removes only the first occurrence of value. In-place operation. \n",
    "\n",
    "print(f\"album_years before calling remove: {album_years}\")\n",
    "\n",
    "album_years.remove(1967)\n",
    "\n",
    "print(f\"album_years after calling remove : {album_years}\")\n"
   ]
  },
  {
   "cell_type": "markdown",
   "metadata": {},
   "source": [
    "`reverse` returns the reversed sequence, and is an *in-place operator*.   \n",
    "\n",
    "The main difference between a function and an in-place operation in Python is that a **function** performs an action on a given input and returns a result, while an **in-place operation** modifies an object directly without returning a result.\n",
    "\n",
    "- `sorted(my_list)` is a function, and returns the sorted list.\n",
    "- `my_list.sort()` is an in-place operation, modifying `my_list` directly (doesn't return a result)"
   ]
  },
  {
   "cell_type": "code",
   "execution_count": 34,
   "metadata": {},
   "outputs": [
    {
     "name": "stdout",
     "output_type": "stream",
     "text": [
      "album_years before calling reverse: [1965, 1965, 1966, 1967, 1968]\n",
      "album_years after calling reverse: [1968, 1967, 1966, 1965, 1965]\n"
     ]
    }
   ],
   "source": [
    "\n",
    "# .sort/.reverse/.remove are in-place operations.\n",
    "print(f\"album_years before calling reverse: {album_years}\")\n",
    "\n",
    "album_years.reverse()\n",
    "\n",
    "print(f\"album_years after calling reverse: {album_years}\")\n",
    "\n"
   ]
  },
  {
   "cell_type": "code",
   "execution_count": 35,
   "metadata": {},
   "outputs": [
    {
     "name": "stdout",
     "output_type": "stream",
     "text": [
      "album_years before calling sort: [1968, 1967, 1966, 1965, 1965]\n",
      "album_years after calling sort : [1965, 1965, 1966, 1967, 1968]\n"
     ]
    }
   ],
   "source": [
    "\n",
    "# sort orders the list in-place. \n",
    "print(f\"album_years before calling sort: {album_years}\")\n",
    "\n",
    "album_years.sort()\n",
    "\n",
    "print(f\"album_years after calling sort : {album_years}\")\n"
   ]
  },
  {
   "cell_type": "code",
   "execution_count": 36,
   "metadata": {},
   "outputs": [
    {
     "name": "stdout",
     "output_type": "stream",
     "text": [
      "rev_album_years: None\n",
      "type(rev_album_years): <class 'NoneType'>\n"
     ]
    }
   ],
   "source": [
    "# Note that sort/reverse/remove are in-place operations, so we do not assign \n",
    "# it to a new variable. DO NOT DO THIS!!!\n",
    "rev_album_years = album_years.reverse()\n",
    "\n",
    "print(f\"rev_album_years: {rev_album_years}\")\n",
    "print(f\"type(rev_album_years): {type(rev_album_years)}\")"
   ]
  },
  {
   "cell_type": "code",
   "execution_count": 37,
   "metadata": {},
   "outputs": [
    {
     "name": "stdout",
     "output_type": "stream",
     "text": [
      "album_years before calling pop: [1968, 1967, 1966, 1965, 1965]\n",
      "album_years after calling pop : [1968, 1967, 1966, 1965]\n"
     ]
    }
   ],
   "source": [
    "\n",
    "# pop removes the element at the specified index. If no index is specified,\n",
    "# the last element will be removed from the list and returned.\n",
    "\n",
    "print(f\"album_years before calling pop: {album_years}\")\n",
    "\n",
    "last_element = album_years.pop()\n",
    "\n",
    "print(f\"album_years after calling pop : {album_years}\")\n",
    "\n",
    "\n"
   ]
  },
  {
   "cell_type": "code",
   "execution_count": 38,
   "metadata": {},
   "outputs": [
    {
     "name": "stdout",
     "output_type": "stream",
     "text": [
      "all_albums: ['Help!', 'Rubber Soul', 'Revolver', 'Sgt. Pepper', 'Magical Mystery Tour', 'The White Album', 'Yellow Submarine', 'Abbey Road', 'Let it Be']\n"
     ]
    }
   ],
   "source": [
    "\n",
    "# Two lists can be combined to create a new list using `+`.\n",
    "later_albums = [\"Yellow Submarine\", \"Abbey Road\", \"Let it Be\"]\n",
    "\n",
    "# Combine albums with later albums\n",
    "all_albums = albums + later_albums\n",
    "\n",
    "print(f\"all_albums: {all_albums}\")\n"
   ]
  },
  {
   "cell_type": "code",
   "execution_count": 39,
   "metadata": {},
   "outputs": [
    {
     "name": "stdout",
     "output_type": "stream",
     "text": [
      "length of all_albums: 9\n"
     ]
    }
   ],
   "source": [
    "\n",
    "# len gives us the length of the list.\n",
    "albums_length = len(all_albums)\n",
    "print(f\"length of all_albums: {albums_length}\")\n",
    "\n"
   ]
  },
  {
   "cell_type": "code",
   "execution_count": 40,
   "metadata": {},
   "outputs": [
    {
     "data": {
      "text/plain": [
       "'Help!'"
      ]
     },
     "execution_count": 40,
     "metadata": {},
     "output_type": "execute_result"
    }
   ],
   "source": [
    "\n",
    "# Access the first element of albums:\n",
    "albums[0]"
   ]
  },
  {
   "cell_type": "code",
   "execution_count": 41,
   "metadata": {},
   "outputs": [
    {
     "data": {
      "text/plain": [
       "'The White Album'"
      ]
     },
     "execution_count": 41,
     "metadata": {},
     "output_type": "execute_result"
    }
   ],
   "source": [
    "\n",
    "# Access the last element of albums:\n",
    "albums[-1]\n"
   ]
  },
  {
   "cell_type": "code",
   "execution_count": 42,
   "metadata": {},
   "outputs": [
    {
     "name": "stdout",
     "output_type": "stream",
     "text": [
      "sum_of_vals: 24.7\n",
      "min_of_vals: 2.2\n",
      "max_of_vals: 9.1\n"
     ]
    }
   ],
   "source": [
    "\n",
    "# Computing the sum, min and max of a list of values.\n",
    "vals = [2.2, 7.8, 9.1, 5.6]\n",
    "\n",
    "sum_of_vals = sum(vals)\n",
    "min_of_vals = min(vals)\n",
    "max_of_vals = max(vals)\n",
    "\n",
    "print(f\"sum_of_vals: {sum_of_vals}\")\n",
    "print(f\"min_of_vals: {min_of_vals}\")\n",
    "print(f\"max_of_vals: {max_of_vals}\")"
   ]
  },
  {
   "cell_type": "code",
   "execution_count": 43,
   "metadata": {},
   "outputs": [
    {
     "name": "stdout",
     "output_type": "stream",
     "text": [
      "mean_of_vals: 6.175\n"
     ]
    }
   ],
   "source": [
    "\n",
    "# To compute the average, we need to import mean from the statistics library.\n",
    "from statistics import mean\n",
    "\n",
    "mean_of_vals = mean(vals)\n",
    "\n",
    "print(f\"mean_of_vals: {mean_of_vals}\")"
   ]
  },
  {
   "cell_type": "markdown",
   "metadata": {},
   "source": [
    "### `range`"
   ]
  },
  {
   "cell_type": "markdown",
   "metadata": {},
   "source": [
    "`range` creates an object that returns a sequence of integers. Calling range by itself will not yield the list of numbers:"
   ]
  },
  {
   "cell_type": "code",
   "execution_count": 44,
   "metadata": {},
   "outputs": [
    {
     "data": {
      "text/plain": [
       "range(0, 11)"
      ]
     },
     "execution_count": 44,
     "metadata": {},
     "output_type": "execute_result"
    }
   ],
   "source": [
    "\n",
    "# Calling range by itself will not yield the list of numbers:\n",
    "range(11)\n"
   ]
  },
  {
   "cell_type": "code",
   "execution_count": 45,
   "metadata": {},
   "outputs": [
    {
     "data": {
      "text/plain": [
       "[0, 1, 2, 3, 4, 5, 6, 7, 8, 9, 10]"
      ]
     },
     "execution_count": 45,
     "metadata": {},
     "output_type": "execute_result"
    }
   ],
   "source": [
    "\n",
    "# In order to obtain the list of actual values created by range, you \n",
    "# must convert range to a list:\n",
    "list(range(11))\n"
   ]
  },
  {
   "cell_type": "code",
   "execution_count": 46,
   "metadata": {},
   "outputs": [
    {
     "name": "stdout",
     "output_type": "stream",
     "text": [
      "0\n",
      "1\n",
      "2\n",
      "3\n",
      "4\n",
      "5\n",
      "6\n",
      "7\n",
      "8\n",
      "9\n"
     ]
    }
   ],
   "source": [
    "\n",
    "# Note that as commonly used in iteration, it isn't necessary to convert range \n",
    "# to a list. We can iterate over the range object directly, and it will provide \n",
    "# the elements as needed:\n",
    "\n",
    "# Not necessary to convert range to list, but will still work. \n",
    "for i in list(range(10)): \n",
    "    print(i) \n",
    "    "
   ]
  },
  {
   "cell_type": "code",
   "execution_count": 47,
   "metadata": {},
   "outputs": [
    {
     "name": "stdout",
     "output_type": "stream",
     "text": [
      "0\n",
      "1\n",
      "2\n",
      "3\n",
      "4\n",
      "5\n",
      "6\n",
      "7\n",
      "8\n",
      "9\n"
     ]
    }
   ],
   "source": [
    "\n",
    "# Correct way to use range in for loop: No need to convert to list:\n",
    "for i in range(10):\n",
    "    print(i)"
   ]
  },
  {
   "cell_type": "code",
   "execution_count": 48,
   "metadata": {},
   "outputs": [
    {
     "data": {
      "text/plain": [
       "[0, 1, 2, 3, 4, 5, 6, 7, 8, 9, 10]"
      ]
     },
     "execution_count": 48,
     "metadata": {},
     "output_type": "execute_result"
    }
   ],
   "source": [
    "\n",
    "# Generate a sequence of numbers 0 - 10:\n",
    "list(range(11))\n"
   ]
  },
  {
   "cell_type": "code",
   "execution_count": 49,
   "metadata": {},
   "outputs": [
    {
     "data": {
      "text/plain": [
       "[0, 2, 4, 6, 8, 10, 12, 14, 16, 18, 20]"
      ]
     },
     "execution_count": 49,
     "metadata": {},
     "output_type": "execute_result"
    }
   ],
   "source": [
    "\n",
    "# Generate a sequence of numbers from 0-20 by 2:\n",
    "list(range(0, 21, 2))"
   ]
  },
  {
   "cell_type": "code",
   "execution_count": 50,
   "metadata": {},
   "outputs": [
    {
     "data": {
      "text/plain": [
       "[20, 18, 16, 14, 12, 10, 8, 6, 4, 2, 0]"
      ]
     },
     "execution_count": 50,
     "metadata": {},
     "output_type": "execute_result"
    }
   ],
   "source": [
    "\n",
    "# Generate a sequence from 20 to 0 by 2:\n",
    "list(range(20, -1, -2))\n"
   ]
  },
  {
   "cell_type": "code",
   "execution_count": 51,
   "metadata": {},
   "outputs": [
    {
     "ename": "TypeError",
     "evalue": "'float' object cannot be interpreted as an integer",
     "output_type": "error",
     "traceback": [
      "\u001b[1;31m---------------------------------------------------------------------------\u001b[0m",
      "\u001b[1;31mTypeError\u001b[0m                                 Traceback (most recent call last)",
      "Cell \u001b[1;32mIn[51], line 2\u001b[0m\n\u001b[0;32m      1\u001b[0m \u001b[38;5;66;03m# Must use integers with range: Attempting to use floats will err:\u001b[39;00m\n\u001b[1;32m----> 2\u001b[0m \u001b[38;5;28;43mrange\u001b[39;49m\u001b[43m(\u001b[49m\u001b[38;5;241;43m1.1\u001b[39;49m\u001b[43m,\u001b[49m\u001b[43m \u001b[49m\u001b[38;5;241;43m10.7\u001b[39;49m\u001b[43m)\u001b[49m\n",
      "\u001b[1;31mTypeError\u001b[0m: 'float' object cannot be interpreted as an integer"
     ]
    }
   ],
   "source": [
    "\n",
    "# Must use integers with range: Attempting to use floats will err:\n",
    "range(1.1, 10.7)\n"
   ]
  },
  {
   "cell_type": "markdown",
   "metadata": {},
   "source": [
    "Reason we don't convert range to list for large sequences (task manager demo)."
   ]
  },
  {
   "cell_type": "code",
   "execution_count": 52,
   "metadata": {},
   "outputs": [],
   "source": [
    "\n",
    "# Initializing range object. \n",
    "a = range(500_000_000)"
   ]
  },
  {
   "cell_type": "code",
   "execution_count": 53,
   "metadata": {},
   "outputs": [],
   "source": [
    "\n",
    "# Converting range object to list for large sequence. \n",
    "b = list(range(500_000_000))\n"
   ]
  },
  {
   "cell_type": "markdown",
   "metadata": {},
   "source": [
    "### **Checkpoint \\#2:** \n",
    "Create a list of strings named `fruits` consisting of your 5 favorite fruits. Answer the questions in each subsequent cell. Replace `##### YOUR CODE HERE #####` with your actual code.\n"
   ]
  },
  {
   "cell_type": "code",
   "execution_count": 54,
   "metadata": {},
   "outputs": [],
   "source": [
    "\n",
    "##### YOUR CODE HERE #####\n"
   ]
  },
  {
   "cell_type": "markdown",
   "metadata": {},
   "source": [
    "\n",
    "Sort `fruits` in-place (i.e., using `fruits.sort()`). Using index notation, print the first element of the sorted list."
   ]
  },
  {
   "cell_type": "code",
   "execution_count": null,
   "metadata": {},
   "outputs": [],
   "source": [
    "\n",
    "##### YOUR CODE HERE #####\n"
   ]
  },
  {
   "cell_type": "markdown",
   "metadata": {},
   "source": [
    "\n",
    "Using index notation, print the last element of the sorted list."
   ]
  },
  {
   "cell_type": "code",
   "execution_count": null,
   "metadata": {},
   "outputs": [],
   "source": [
    "\n",
    "##### YOUR CODE HERE #####\n"
   ]
  },
  {
   "cell_type": "markdown",
   "metadata": {},
   "source": [
    "\n",
    "Without using loops (haven't covered these yet), test if the letter `b` is contained in any of your favorite fruits. Print the results of each test.\n"
   ]
  },
  {
   "cell_type": "code",
   "execution_count": null,
   "metadata": {},
   "outputs": [],
   "source": [
    "\n",
    "##### YOUR CODE HERE #####\n"
   ]
  },
  {
   "cell_type": "markdown",
   "metadata": {},
   "source": [
    "Remove the second-to-last element of your sorted `fruits` list. Print the list with the second-to-last element removed. "
   ]
  },
  {
   "cell_type": "code",
   "execution_count": null,
   "metadata": {},
   "outputs": [],
   "source": [
    "\n",
    "##### YOUR CODE HERE #####\n"
   ]
  },
  {
   "cell_type": "markdown",
   "metadata": {},
   "source": [
    "**Challenge:** Replace the fruit in your list at index 2 with \"chicozapote\". Write code to test if the fruit at index 0 has more characters than \"chicozapote\"."
   ]
  },
  {
   "cell_type": "code",
   "execution_count": null,
   "metadata": {},
   "outputs": [],
   "source": [
    "\n",
    "##### YOUR CODE HERE #####\n"
   ]
  },
  {
   "cell_type": "markdown",
   "metadata": {},
   "source": [
    "<br>\n",
    "\n",
    "\n",
    "**Bonus:** Emojis can be included in markdown cells using decimal unicode representation:\n",
    "\n",
    "&#x1F602;\n",
    "\n",
    "\n",
    "Full list available here:\n",
    "\n",
    "- https://www.quackit.com/character_sets/emoji/emoji_v3.0/unicode_emoji_v3.0_characters_all.cfm\n",
    "\n"
   ]
  }
 ],
 "metadata": {
  "kernelspec": {
   "display_name": "Python 3",
   "language": "python",
   "name": "python3"
  },
  "language_info": {
   "codemirror_mode": {
    "name": "ipython",
    "version": 3
   },
   "file_extension": ".py",
   "mimetype": "text/x-python",
   "name": "python",
   "nbconvert_exporter": "python",
   "pygments_lexer": "ipython3",
   "version": "3.12.0"
  }
 },
 "nbformat": 4,
 "nbformat_minor": 2
}
