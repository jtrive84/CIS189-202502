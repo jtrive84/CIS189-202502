{
 "cells": [
  {
   "cell_type": "markdown",
   "metadata": {},
   "source": [
    "## CIS189 Module \\#8\n",
    "---\n",
    "Author: James D. Triveri\n"
   ]
  },
  {
   "cell_type": "markdown",
   "metadata": {},
   "source": [
    "## Sets"
   ]
  },
  {
   "cell_type": "markdown",
   "metadata": {},
   "source": [
    "In Python, sets are unordered collections of unique elements, defined using curly braces `{}` or the `set()` function. They are mutable, allowing for the addition and removal of elements. However, elements within a set must be immutable, such as numbers, strings, or tuples. "
   ]
  },
  {
   "cell_type": "code",
   "execution_count": 1,
   "metadata": {},
   "outputs": [
    {
     "name": "stdout",
     "output_type": "stream",
     "text": [
      "s1: {1, 3, 5, 7, 9}\n"
     ]
    }
   ],
   "source": [
    "\n",
    "# Create a set using `set`. Takes an iterable as an argument (list, tuple, etc.).\n",
    "s1 = set([1, 3, 5, 7, 9])\n",
    "\n",
    "# Create a set using curly brackets.\n",
    "s2 = {1, 3, 5, 7, 9}\n",
    "\n",
    "# Verify s1 and s2 are equal.\n",
    "assert s1 == s2\n",
    "\n",
    "print(f\"s1: {s1}\")"
   ]
  },
  {
   "cell_type": "markdown",
   "metadata": {},
   "source": [
    "<br>\n",
    "\n",
    "Sets are unordered, so it is not possible to access elements by index as with lists and tuples. New elements can be added using `add`. Elements can be removed using `remove`:"
   ]
  },
  {
   "cell_type": "code",
   "execution_count": 2,
   "metadata": {},
   "outputs": [
    {
     "name": "stdout",
     "output_type": "stream",
     "text": [
      "s1: {1, 3, 7, 9, 11}\n"
     ]
    }
   ],
   "source": [
    "\n",
    "# Adding elements to a set.\n",
    "s1.add(11)\n",
    "\n",
    "\n",
    "# Removing elements from a set.\n",
    "s1.remove(5)\n",
    "\n",
    "\n",
    "print(f\"s1: {s1}\")\n"
   ]
  },
  {
   "cell_type": "markdown",
   "metadata": {},
   "source": [
    "\n",
    "<br>\n",
    "\n",
    "Sets can be used to obtain the unique entries in a collection (this is a favorite interview question for entry-level Python development positions):"
   ]
  },
  {
   "cell_type": "code",
   "execution_count": 3,
   "metadata": {},
   "outputs": [
    {
     "name": "stdout",
     "output_type": "stream",
     "text": [
      "uniq_elements: {1, 2, 3, 4, 5}\n"
     ]
    }
   ],
   "source": [
    "\n",
    "list_with_dups = [1, 2, 2, 3, 3, 3, 4, 4, 4, 4, 5, 5, 5, 5]\n",
    "\n",
    "uniq_elements = set(list_with_dups)\n",
    "\n",
    "print(f\"uniq_elements: {uniq_elements}\")"
   ]
  },
  {
   "cell_type": "markdown",
   "metadata": {},
   "source": [
    "### Set operations\n",
    "\n",
    "Sets support mathematical set operations such as union, intersection, difference, and symmetric difference, making them ideal for tasks like finding common elements between collections or removing duplicates from lists efficiently.\n",
    "\n",
    "- `union`: Find all elements that are in either set.\n",
    "- `intersection`: Find the elements that are common to both sets.\n",
    "- `difference`: Find elements that are in the first set but not the second.\n",
    "- `symmetric_difference`: Find all elements that are in exactly one of the sets.\n",
    "\n",
    "<br>\n",
    "\n",
    "\n",
    "![](https://www.learnbyexample.org/wp-content/uploads/python/Python-Set-Operatioons.png)\n"
   ]
  },
  {
   "cell_type": "code",
   "execution_count": 4,
   "metadata": {},
   "outputs": [
    {
     "name": "stdout",
     "output_type": "stream",
     "text": [
      "s1                          : {1, 2, 3, 4, 5}\n",
      "s2                          : {3, 4, 5, 6, 7}\n",
      "s1.intersection(s2)         : {3, 4, 5}\n",
      "s1.union(s2)                : {1, 2, 3, 4, 5, 6, 7}\n",
      "s1.difference(s2)           : {1, 2}\n",
      "s2.difference(s1)           : {6, 7}\n",
      "s1.symmetric_difference(s2) : {1, 2, 6, 7}\n"
     ]
    }
   ],
   "source": [
    "\"\"\"\n",
    "Set operations.\n",
    "\"\"\"\n",
    "s1 = {1, 2, 3, 4, 5}\n",
    "s2 = {3, 4, 5, 6, 7}\n",
    "\n",
    "\n",
    "# Set operations for s1 and s2.\n",
    "inter = s1.intersection(s2)         # Same as s2.intersection(s1)\n",
    "union = s1.union(s2)                # Same as s1.intersection(s2)\n",
    "diff1 = s1.difference(s2)           # Not symmetric.\n",
    "diff2 = s2.difference(s1)           # Not symmetric.\n",
    "diff3 = s1.symmetric_difference(s2) # Same as s2.symmetric_difference(s1)\n",
    "\n",
    "\n",
    "print(f\"s1                          : {s1}\")\n",
    "print(f\"s2                          : {s2}\")\n",
    "print(f\"s1.intersection(s2)         : {inter}\")\n",
    "print(f\"s1.union(s2)                : {union}\")\n",
    "print(f\"s1.difference(s2)           : {diff1}\")\n",
    "print(f\"s2.difference(s1)           : {diff2}\")\n",
    "print(f\"s1.symmetric_difference(s2) : {diff3}\")\n",
    "\n"
   ]
  },
  {
   "cell_type": "markdown",
   "metadata": {},
   "source": [
    "<br>\n",
    "\n",
    "### **Checkpoint \\#1:**\n",
    "\n",
    "Follow the instructions in the code below."
   ]
  },
  {
   "cell_type": "code",
   "execution_count": null,
   "metadata": {},
   "outputs": [],
   "source": [
    "\n",
    "# Create a set consisting of the colors of the rainbow. (ROYGBIV).\n",
    "s1 = {}\n",
    "\n",
    "# Create a set consisting of the colors of the Iowa state flag \n",
    "# (red, white,  blue, plus orange for the eagle's beak). Be sure to \n",
    "# use casing consistent with the colors defined in s1. \n",
    "s2 = {}\n",
    "\n",
    "\n",
    "# Determine the union of s1 and s2. How many elements?\n",
    "\n",
    "\n",
    "\n",
    "# Determine the intersection of s1 and s2. How many elements?\n",
    "\n",
    "\n",
    "\n",
    "# Determine the symmetric difference between s1 and s2. \n",
    "\n",
    "\n",
    "\n",
    "# Convert the union of s1 and s2 to a list. Sort the values alphabetically. \n",
    "\n",
    "\n",
    "\n",
    "# Remove elements from s1 with character length greater than or equal to 5. \n",
    "\n"
   ]
  },
  {
   "cell_type": "markdown",
   "metadata": {},
   "source": [
    "<br>\n",
    "\n",
    "## Dictionaries\n",
    "\n",
    "See also:\n",
    "- https://docs.python.org/3/library/stdtypes.html#mapping-types-dict\n",
    "\n",
    "\n",
    "In Python, dictionaries (also referred to as hash tables, dicts or associateive arrays) are a type of collection that allows you to store data in key-value pairs. They are defined by enclosing a comma-separated list of key-value pairs in curly braces `{}`. \n",
    "\n",
    "\n",
    "![](https://pynative.com/wp-content/uploads/2021/02/dictionaries-in-python.jpg)\n",
    "\n",
    "\n",
    "\n",
    "Each key in a dictionary must be unique, immutable, and typically of a hashable data type, such as strings, numbers, or tuples. The values associated with the keys can be of any data type and can be mutable or immutable. Each key in a dictionary must be unique, typically serving as the identifier or label for its associated value. We can create a dictionary in one of two ways:\n",
    "\n"
   ]
  },
  {
   "cell_type": "code",
   "execution_count": 15,
   "metadata": {},
   "outputs": [
    {
     "name": "stdout",
     "output_type": "stream",
     "text": [
      "my_dict: {'name': 'JT', 'age': 43, 'city': 'West Des Moines'}\n"
     ]
    }
   ],
   "source": [
    "\n",
    "# Using curly braces.\n",
    "my_dict = {\n",
    "    'name': 'JT',\n",
    "    'age': 43,\n",
    "    'city': 'West Des Moines'\n",
    "    }\n",
    "\n",
    "# Using the dict constructor.\n",
    "my_dict = dict(name='JT', age=43, city='West Des Moines')\n",
    "\n",
    "print(f\"my_dict: {my_dict}\")\n"
   ]
  },
  {
   "cell_type": "markdown",
   "metadata": {},
   "source": [
    "\n",
    "<br>\n",
    "\n",
    "**Key Features of Dictionaries:**\n",
    "\n",
    "- **Unordered**: Unlike lists and tuples, dictionaries are unordered collections. The items are not stored in a specific order, and there is no index to access elements.\n",
    "- **Mutable**: Dictionaries can be changed after they are created. You can add, modify, or remove key-value pairs.\n",
    "- **Indexed by Keys**: Elements in a dictionary are accessed by their keys, not by their position.\n",
    "- **Dynamic**: Dictionaries can grow and shrink as needed, which means you can add or remove items from them.\n",
    "\n",
    "<br>\n",
    "\n",
    "\n",
    "### Performance of Dictionaries\n",
    "\n",
    "Dicts use a hash table to store key-value pairs, where each key is hashed to a unique value. This allows for constant-time average case lookup, O(1), regardless of the size of the dictionary. On the other hand, lists require sequential search, resulting in linear time complexity, O(n), where 'n' is the number of elements in the list.\n",
    "\n",
    "More information on hash tables: \n",
    "- https://www.hackerearth.com/practice/data-structures/hash-tables/basics-of-hash-tables/tutorial/\n",
    "\n",
    "\n",
    "<br>\n",
    "\n",
    "#### List vs. Dict element lookup runtime comparison"
   ]
  },
  {
   "cell_type": "code",
   "execution_count": 2,
   "metadata": {},
   "outputs": [
    {
     "name": "stdout",
     "output_type": "stream",
     "text": [
      "1 elements: list=0.00000110 secs., dict=0.00000090 secs.\n",
      "10 elements: list=0.00000120 secs., dict=0.00000090 secs.\n",
      "100 elements: list=0.00000130 secs., dict=0.00000080 secs.\n",
      "1,000 elements: list=0.00000450 secs., dict=0.00000050 secs.\n",
      "10,000 elements: list=0.00003280 secs., dict=0.00000050 secs.\n",
      "50,000 elements: list=0.00147410 secs., dict=0.00000080 secs.\n",
      "100,000 elements: list=0.00074240 secs., dict=0.00000110 secs.\n",
      "500,000 elements: list=0.02222130 secs., dict=0.00000180 secs.\n",
      "1,000,000 elements: list=0.01618090 secs., dict=0.00000190 secs.\n",
      "5,000,000 elements: list=0.23048550 secs., dict=0.00000200 secs.\n",
      "10,000,000 elements: list=0.28630220 secs., dict=0.00000180 secs.\n",
      "25,000,000 elements: list=1.11913500 secs., dict=0.00000200 secs.\n",
      "50,000,000 elements: list=1.59655770 secs., dict=0.00000190 secs.\n"
     ]
    }
   ],
   "source": [
    "\"\"\"\n",
    "Demonstrating the required time to look for an entry\n",
    "in a list vs. a dictionary.\n",
    "\"\"\"\n",
    "import random\n",
    "import timeit\n",
    "\n",
    "\n",
    "n_elements = [1, 10, 100, 1000, 10000, 50000, 100000, 500000, \n",
    "              1000000, 5000000, 10000000, 25000000, 50000000]\n",
    "\n",
    "results = []\n",
    "\n",
    "all_values = range(500_000_000)\n",
    "\n",
    "for n in n_elements:\n",
    "\n",
    "    l = random.sample(all_values, n)\n",
    "    search_val = l[-1]\n",
    "    random.shuffle(l)\n",
    "\n",
    "    d = {kk:0 for kk in l}\n",
    "\n",
    "    # Measure list lookup time.\n",
    "    t1 = timeit.timeit(lambda: search_val in l, number=1)\n",
    "\n",
    "    # Measure dict lookup time.\n",
    "    t2 = timeit.timeit(lambda: search_val in d, number=1)\n",
    "\n",
    "    results.append((n, t1, t2))\n",
    "\n",
    "    print(f\"{n:,} elements: list={t1:.8f} secs., dict={t2:.8f} secs.\") \n",
    "\n",
    "\n"
   ]
  },
  {
   "cell_type": "markdown",
   "metadata": {},
   "source": [
    "<br>\n",
    "\n",
    "We can plot the runtime as a function of the number of elements searched over (you'll need to install matplotlib to execute the next cell, but the image should be rendered for you to review):"
   ]
  },
  {
   "cell_type": "code",
   "execution_count": 3,
   "metadata": {},
   "outputs": [
    {
     "data": {
      "image/png": "[encoded data removed]",
      "text/plain": [
       "<Figure size 700x550 with 1 Axes>"
      ]
     },
     "metadata": {},
     "output_type": "display_data"
    }
   ],
   "source": [
    "\n",
    "import matplotlib as mpl\n",
    "import matplotlib.pyplot as plt\n",
    "\n",
    "xx, yy1, yy2 = zip(*results)\n",
    "\n",
    "fig, ax = plt.subplots(1, 1, figsize=(7, 5.5), tight_layout=True)\n",
    "ax.set_title(\"list vs. dict lookup runtime comparison\", fontsize=11)\n",
    "ax.get_xaxis().set_major_formatter(mpl.ticker.FuncFormatter(lambda x, p: format(int(x), ',')))\n",
    "ax.plot(xx, yy1, color=\"black\", marker=\"o\", linewidth=1.25, label=\"list\")\n",
    "ax.plot(xx, yy2, color=\"red\", marker=\"o\", linewidth=1.25, linestyle=\"--\", label=\"dict\")\n",
    "ax.set_xlabel(\"nbr. elements\")\n",
    "ax.set_ylabel(\"secs.\")\n",
    "ax.legend(fontsize=\"medium\", loc=\"upper left\")\n",
    "plt.show()\n",
    "\n"
   ]
  },
  {
   "cell_type": "markdown",
   "metadata": {},
   "source": [
    "<br>\n",
    "\n",
    "We can create a dictionary to hold planet names and average distances from the sun in Astronomical Units (AUs). In this case, the planet names are the \"keys\" and the distance from the sun in AUs are the \"values\":"
   ]
  },
  {
   "cell_type": "code",
   "execution_count": null,
   "metadata": {},
   "outputs": [],
   "source": [
    "\n",
    "distances = {\n",
    "    \"mercury\": 0.39,\n",
    "    \"venus\": 0.72,\n",
    "    \"earth\": 1,\n",
    "    \"mars\": 1.52,\n",
    "    \"jupyter\": 5.2,\n",
    "    \"saturn\": 9.54,\n",
    "    \"uranus\": 19.2,\n",
    "    \"neptune\": 30.06\n",
    "    }\n",
    "\n",
    "distances"
   ]
  },
  {
   "cell_type": "markdown",
   "metadata": {},
   "source": [
    "<br>\n",
    "\n",
    "If planets and their distances from the sun in AUs were in separate lists and you wanted to associate them in a dictionary, the dict could be created as follows:"
   ]
  },
  {
   "cell_type": "code",
   "execution_count": 19,
   "metadata": {},
   "outputs": [
    {
     "data": {
      "text/plain": [
       "{'mercury': 0.39,\n",
       " 'venus': 0.72,\n",
       " 'earth': 1,\n",
       " 'mars': 1.52,\n",
       " 'jupyter': 5.2,\n",
       " 'saturn': 9.54,\n",
       " 'uranus': 19.2,\n",
       " 'neptune': 30.06}"
      ]
     },
     "execution_count": 19,
     "metadata": {},
     "output_type": "execute_result"
    }
   ],
   "source": [
    "\n",
    "planets = ['mercury', 'venus', 'earth', 'mars', 'jupyter', 'saturn', 'uranus', 'neptune']\n",
    "\n",
    "dists = [0.39, 0.72, 1, 1.52, 5.2, 9.54, 19.2, 30.06]\n",
    "\n",
    "distances = {}\n",
    "\n",
    "for k, v in zip(planets, dists):\n",
    "    distances[k] = v\n",
    "\n",
    "distances\n"
   ]
  },
  {
   "cell_type": "markdown",
   "metadata": {},
   "source": [
    "<br>\n",
    "\n",
    "Or more succintly:"
   ]
  },
  {
   "cell_type": "code",
   "execution_count": 18,
   "metadata": {},
   "outputs": [
    {
     "ename": "NameError",
     "evalue": "name 'planets' is not defined",
     "output_type": "error",
     "traceback": [
      "\u001b[1;31m---------------------------------------------------------------------------\u001b[0m",
      "\u001b[1;31mNameError\u001b[0m                                 Traceback (most recent call last)",
      "Cell \u001b[1;32mIn[18], line 1\u001b[0m\n\u001b[1;32m----> 1\u001b[0m distances \u001b[38;5;241m=\u001b[39m \u001b[38;5;28mdict\u001b[39m(\u001b[38;5;28mzip\u001b[39m(\u001b[43mplanets\u001b[49m, dists))\n\u001b[0;32m      3\u001b[0m distances\n",
      "\u001b[1;31mNameError\u001b[0m: name 'planets' is not defined"
     ]
    }
   ],
   "source": [
    "\n",
    "distances = dict(zip(planets, dists))\n",
    "\n",
    "distances\n"
   ]
  },
  {
   "cell_type": "markdown",
   "metadata": {},
   "source": [
    "<br>\n",
    "\n",
    "Elements can be accessed using square brackets:"
   ]
  },
  {
   "cell_type": "code",
   "execution_count": 17,
   "metadata": {},
   "outputs": [
    {
     "data": {
      "text/plain": [
       "9.54"
      ]
     },
     "execution_count": 17,
     "metadata": {},
     "output_type": "execute_result"
    }
   ],
   "source": [
    "\n",
    "distances[\"saturn\"]\n"
   ]
  },
  {
   "cell_type": "markdown",
   "metadata": {},
   "source": [
    "If we attempt to access the value of a key not in the dict, `KeyError` is raised:"
   ]
  },
  {
   "cell_type": "code",
   "execution_count": 18,
   "metadata": {},
   "outputs": [
    {
     "ename": "KeyError",
     "evalue": "'pluto'",
     "output_type": "error",
     "traceback": [
      "\u001b[1;31m---------------------------------------------------------------------------\u001b[0m",
      "\u001b[1;31mKeyError\u001b[0m                                  Traceback (most recent call last)",
      "Cell \u001b[1;32mIn[18], line 1\u001b[0m\n\u001b[1;32m----> 1\u001b[0m \u001b[43mdistances\u001b[49m\u001b[43m[\u001b[49m\u001b[38;5;124;43m\"\u001b[39;49m\u001b[38;5;124;43mpluto\u001b[39;49m\u001b[38;5;124;43m\"\u001b[39;49m\u001b[43m]\u001b[49m\n",
      "\u001b[1;31mKeyError\u001b[0m: 'pluto'"
     ]
    }
   ],
   "source": [
    "\n",
    "distances[\"pluto\"]\n"
   ]
  },
  {
   "cell_type": "markdown",
   "metadata": {},
   "source": [
    "<br>\n",
    "\n",
    "An alternative to using the square bracket notation to access dictionary values is `distances.get`. The advantage of using `.get` is you can specify a default value if the key you are looking for does not exist:"
   ]
  },
  {
   "cell_type": "code",
   "execution_count": 19,
   "metadata": {},
   "outputs": [
    {
     "data": {
      "text/plain": [
       "-1"
      ]
     },
     "execution_count": 19,
     "metadata": {},
     "output_type": "execute_result"
    }
   ],
   "source": [
    "\n",
    "distances.get(\"pluto\", -1)\n"
   ]
  },
  {
   "cell_type": "markdown",
   "metadata": {},
   "source": [
    "<br>\n",
    "\n",
    "Dicts are unordered, but as of Python 3.6, key-value pairs will reside in the dictionary in the order they were added (still can't access by index): "
   ]
  },
  {
   "cell_type": "code",
   "execution_count": 20,
   "metadata": {},
   "outputs": [
    {
     "data": {
      "text/plain": [
       "{'zebra': 4, 'moose': 2, 'sloth': 12, 'pig': 30}"
      ]
     },
     "execution_count": 20,
     "metadata": {},
     "output_type": "execute_result"
    }
   ],
   "source": [
    "\n",
    "animals = [\"zebra\", \"moose\", \"sloth\", \"pig\"]\n",
    "counts = [4, 2, 12, 30]\n",
    "\n",
    "d = dict(zip(animals, counts))\n",
    "\n",
    "d\n"
   ]
  },
  {
   "cell_type": "markdown",
   "metadata": {},
   "source": [
    "\n",
    "<br>\n",
    "\n",
    "### **Checkpoint \\#2:**\n",
    "\n",
    "Use [this](https://docs.python.org/3/library/stdtypes.html#mapping-types-dict) link to research how perform the operations in each cell below."
   ]
  },
  {
   "cell_type": "code",
   "execution_count": 5,
   "metadata": {},
   "outputs": [
    {
     "data": {
      "text/plain": [
       "False"
      ]
     },
     "execution_count": 5,
     "metadata": {},
     "output_type": "execute_result"
    }
   ],
   "source": [
    "\n",
    "# Check if \"sociology\" is in grades.\n",
    "grades = {'math': 95, 'science': 88, 'english': 92}\n",
    "\n",
    "##### YOUR CODE HERE #####\n"
   ]
  },
  {
   "cell_type": "code",
   "execution_count": null,
   "metadata": {},
   "outputs": [],
   "source": [
    "\n",
    "# Add new key-value pairs \"tue\": 92 and \"sun\": 86 to temps.\n",
    "# Print the result. \n",
    "temps = {\"mon\": 78, \"wed\": 84, \"thu\": 89, \"fri\": 91, \"sat\": 80}\n",
    "\n",
    "##### YOUR CODE HERE #####\n",
    "\n"
   ]
  },
  {
   "cell_type": "code",
   "execution_count": null,
   "metadata": {},
   "outputs": [],
   "source": [
    "\n",
    "# Print the keys from the temps dict.\n",
    "\n",
    "##### YOUR CODE HERE #####\n",
    "\n",
    "\n"
   ]
  },
  {
   "cell_type": "code",
   "execution_count": null,
   "metadata": {},
   "outputs": [],
   "source": [
    "\n",
    "# Print the values from the temps dict.\n",
    "\n",
    "##### YOUR CODE HERE #####\n"
   ]
  },
  {
   "cell_type": "code",
   "execution_count": 10,
   "metadata": {},
   "outputs": [
    {
     "data": {
      "text/plain": [
       "{}"
      ]
     },
     "execution_count": 10,
     "metadata": {},
     "output_type": "execute_result"
    }
   ],
   "source": [
    "\n",
    "# Remove all items from scores. Print the result. \n",
    "scores = {'player1': 1500, 'player2': 2000, 'player3': 1200}\n",
    "\n",
    "##### YOUR CODE HERE #####\n"
   ]
  },
  {
   "cell_type": "code",
   "execution_count": 11,
   "metadata": {},
   "outputs": [
    {
     "data": {
      "text/plain": [
       "1200"
      ]
     },
     "execution_count": 11,
     "metadata": {},
     "output_type": "execute_result"
    }
   ],
   "source": [
    "\n",
    "# Print the rent amount from the expenses dict.\n",
    "expenses = {'rent': 1200, 'utilities': 300, 'groceries': 400, 'transportation': 150}\n",
    "\n",
    "##### YOUR CODE HERE #####\n",
    "\n",
    "\n"
   ]
  },
  {
   "cell_type": "code",
   "execution_count": 12,
   "metadata": {},
   "outputs": [
    {
     "data": {
      "text/plain": [
       "{'rent': 1200, 'groceries': 400, 'transportation': 150}"
      ]
     },
     "execution_count": 12,
     "metadata": {},
     "output_type": "execute_result"
    }
   ],
   "source": [
    "\n",
    "# Remove the utilities key value pair from expenses. Print the result.\n",
    "expenses = {'rent': 1200, 'utilities': 300, 'groceries': 400, 'transportation': 150}\n",
    "\n",
    "##### YOUR CODE HERE #####\n"
   ]
  },
  {
   "cell_type": "code",
   "execution_count": 13,
   "metadata": {},
   "outputs": [
    {
     "data": {
      "text/plain": [
       "dict_items([('steps', 10000), ('calories', 500), ('distance', 5.2)])"
      ]
     },
     "execution_count": 13,
     "metadata": {},
     "output_type": "execute_result"
    }
   ],
   "source": [
    "\n",
    "# Return the entries of fitness as key-value pairs.\n",
    "fitness = {'steps': 10000, 'calories': 500, 'distance': 5.2}\n",
    "\n",
    "##### YOUR CODE HERE #####\n"
   ]
  },
  {
   "cell_type": "markdown",
   "metadata": {},
   "source": [
    "\n",
    "<br>\n",
    "\n",
    "\n",
    "We can obtain a list of the dictionary keys and values using `.keys()` and `.values()`:"
   ]
  },
  {
   "cell_type": "code",
   "execution_count": 16,
   "metadata": {},
   "outputs": [
    {
     "name": "stdout",
     "output_type": "stream",
     "text": [
      "keys_list: ['mercury', 'venus', 'earth', 'mars', 'jupyter', 'saturn', 'uranus', 'neptune']\n",
      "vals_list: [0.39, 0.72, 1, 1.52, 5.2, 9.54, 19.2, 30.06]\n"
     ]
    }
   ],
   "source": [
    "\n",
    "# Get distances keys as list.\n",
    "keys_list = list(distances.keys())\n",
    "vals_list = list(distances.values())\n",
    "\n",
    "print(f\"keys_list: {keys_list}\")\n",
    "print(f\"vals_list: {vals_list}\")"
   ]
  },
  {
   "cell_type": "markdown",
   "metadata": {},
   "source": [
    "<br>\n",
    "\n",
    "We can return the key value pairs in a dictionary as a list of 2-tuples by calling `.items()`:"
   ]
  },
  {
   "cell_type": "code",
   "execution_count": 20,
   "metadata": {},
   "outputs": [
    {
     "data": {
      "text/plain": [
       "[('mercury', 0.39),\n",
       " ('venus', 0.72),\n",
       " ('earth', 1),\n",
       " ('mars', 1.52),\n",
       " ('jupyter', 5.2),\n",
       " ('saturn', 9.54),\n",
       " ('uranus', 19.2),\n",
       " ('neptune', 30.06)]"
      ]
     },
     "execution_count": 20,
     "metadata": {},
     "output_type": "execute_result"
    }
   ],
   "source": [
    "\n",
    "kv_list = list(distances.items())\n",
    "\n",
    "kv_list\n"
   ]
  },
  {
   "cell_type": "markdown",
   "metadata": {},
   "source": [
    "#### Quick Aside: lambdas\n",
    "\n",
    "In Python, a lambda function is a small, anonymous function defined using the lambda keyword. Lambda functions are also known as anonymous functions because they do not require a named function definition like regular functions defined using the `def` keyword. Lambda functions are typically used for short, one-line operations where defining a named function is unnecessary or cumbersome.\n",
    "\n",
    "Simple examples of a lambda function:"
   ]
  },
  {
   "cell_type": "code",
   "execution_count": 14,
   "metadata": {},
   "outputs": [
    {
     "data": {
      "text/plain": [
       "8"
      ]
     },
     "execution_count": 14,
     "metadata": {},
     "output_type": "execute_result"
    }
   ],
   "source": [
    "\n",
    "f1 = lambda v: v + 1\n",
    "\n",
    "f1(7)"
   ]
  },
  {
   "cell_type": "code",
   "execution_count": 15,
   "metadata": {},
   "outputs": [
    {
     "data": {
      "text/plain": [
       "'skiing'"
      ]
     },
     "execution_count": 15,
     "metadata": {},
     "output_type": "execute_result"
    }
   ],
   "source": [
    "\n",
    "f2 = lambda s: s + \"ing\"\n",
    "\n",
    "f2(\"ski\")\n"
   ]
  },
  {
   "cell_type": "markdown",
   "metadata": {},
   "source": [
    "\n",
    "<br>\n",
    "\n",
    "We can use lambda functions to help us sort lists of objects (like that returned by `distances.items()`). In Python, \n",
    "when we pass a list of tuples to `sorted`, by default it will sort the list by the first element in the 2-tuple (the planet name in `kv_list`):"
   ]
  },
  {
   "cell_type": "code",
   "execution_count": 21,
   "metadata": {},
   "outputs": [
    {
     "data": {
      "text/plain": [
       "[('earth', 1),\n",
       " ('jupyter', 5.2),\n",
       " ('mars', 1.52),\n",
       " ('mercury', 0.39),\n",
       " ('neptune', 30.06),\n",
       " ('saturn', 9.54),\n",
       " ('uranus', 19.2),\n",
       " ('venus', 0.72)]"
      ]
     },
     "execution_count": 21,
     "metadata": {},
     "output_type": "execute_result"
    }
   ],
   "source": [
    "\n",
    "sorted(kv_list)\n"
   ]
  },
  {
   "cell_type": "markdown",
   "metadata": {},
   "source": [
    "<br>\n",
    "\n",
    "However, `sorted` takes an optional argument `key`, to which we can pass a lambda function to indicate the list should be sorted by the second item in the 2-tuple:"
   ]
  },
  {
   "cell_type": "code",
   "execution_count": 22,
   "metadata": {},
   "outputs": [
    {
     "data": {
      "text/plain": [
       "[('mercury', 0.39),\n",
       " ('venus', 0.72),\n",
       " ('earth', 1),\n",
       " ('mars', 1.52),\n",
       " ('jupyter', 5.2),\n",
       " ('saturn', 9.54),\n",
       " ('uranus', 19.2),\n",
       " ('neptune', 30.06)]"
      ]
     },
     "execution_count": 22,
     "metadata": {},
     "output_type": "execute_result"
    }
   ],
   "source": [
    "\n",
    "sorted(kv_list, key=lambda v: v[1])\n"
   ]
  },
  {
   "cell_type": "markdown",
   "metadata": {},
   "source": [
    "<br>\n",
    "\n",
    "If we want to sort by the distance in decreasing order, also pass `reverse=True` to `sorted`:"
   ]
  },
  {
   "cell_type": "code",
   "execution_count": 23,
   "metadata": {},
   "outputs": [
    {
     "data": {
      "text/plain": [
       "[('neptune', 30.06),\n",
       " ('uranus', 19.2),\n",
       " ('saturn', 9.54),\n",
       " ('jupyter', 5.2),\n",
       " ('mars', 1.52),\n",
       " ('earth', 1),\n",
       " ('venus', 0.72),\n",
       " ('mercury', 0.39)]"
      ]
     },
     "execution_count": 23,
     "metadata": {},
     "output_type": "execute_result"
    }
   ],
   "source": [
    "\n",
    "sorted(kv_list, key=lambda v: v[1], reverse=True)\n"
   ]
  },
  {
   "cell_type": "markdown",
   "metadata": {},
   "source": [
    "<br>\n",
    "\n",
    "Today we'll work with simple key-value mappings, where a string key maps to a string or numeric variable. But the power of dictionaries is that they can be used to represent arbitrarily complex relationships. A common design patten is to create a list of dicts, where each dict represents some entity, a person for example:"
   ]
  },
  {
   "cell_type": "code",
   "execution_count": null,
   "metadata": {},
   "outputs": [],
   "source": [
    "\n",
    "person1 = {\n",
    "    'name': 'John Doe',\n",
    "    'age': 30,\n",
    "    'gender': 'Male',\n",
    "    'city': 'New York',\n",
    "    'email': 'john.doe@example.com',\n",
    "    'phone': '555-123-4567'\n",
    "    }\n",
    "\n",
    "person2 = {\n",
    "    'name': 'Jane Doe',\n",
    "    'age': 31,\n",
    "    'gender': 'Female',\n",
    "    'city': 'New York',\n",
    "    'email': 'jane.doe@example.com',\n",
    "    'phone': '555-123-4568'\n",
    "    }\n",
    "\n",
    "person3 = {\n",
    "    'name': 'Billy Doe',\n",
    "    'age': 32,\n",
    "    'gender': 'Male',\n",
    "    'city': 'New York',\n",
    "    'email': 'billy.doe@example.com',\n",
    "    'phone': '555-123-4569'\n",
    "    }\n",
    "\n",
    "person_list = [person1, person2, person3]\n",
    "\n"
   ]
  },
  {
   "cell_type": "markdown",
   "metadata": {},
   "source": [
    "\n",
    "<br>\n",
    "\n",
    "The values in a dictionary can be any data structure. We can have dicts that map string keys to list or dict values. Here we create an employee database in which each key maps to a dict:"
   ]
  },
  {
   "cell_type": "code",
   "execution_count": 40,
   "metadata": {},
   "outputs": [],
   "source": [
    "database = {\n",
    "    'emp001': {'name': 'Alice', 'age': 30, 'department': 'Engineering', 'salary': 75000},\n",
    "    'emp002': {'name': 'Bob', 'age': 35, 'department': 'Marketing', 'salary': 80000},\n",
    "    'emp003': {'name': 'Charlie', 'age': 40, 'department': 'Human Resources', 'salary': 100000},\n",
    "    'emp004': {'name': 'David', 'age': 28, 'department': 'Engineering', 'salary': 82000},\n",
    "    'emp005': {'name': 'Eva', 'age': 33, 'department': 'Finance', 'salary': 90000}\n",
    "}\n"
   ]
  },
  {
   "cell_type": "markdown",
   "metadata": {},
   "source": [
    "\n",
    "<br>\n",
    "\n",
    "### **Checkpoint \\#3:**\n",
    "\n",
    "Print the department associated with `'emp001'` and the salary associated with `'emp005'`. "
   ]
  },
  {
   "cell_type": "code",
   "execution_count": 28,
   "metadata": {},
   "outputs": [
    {
     "name": "stdout",
     "output_type": "stream",
     "text": [
      "database['emp001']: {'name': 'Alice', 'age': 30, 'department': 'Engineering', 'salary': 75000}\n"
     ]
    }
   ],
   "source": [
    "\n",
    "database = {\n",
    "    'emp001': {'name': 'Alice', 'age': 30, 'department': 'Engineering', 'salary': 75000},\n",
    "    'emp002': {'name': 'Bob', 'age': 35, 'department': 'Marketing', 'salary': 80000},\n",
    "    'emp003': {'name': 'Charlie', 'age': 40, 'department': 'Human Resources', 'salary': 100000},\n",
    "    'emp004': {'name': 'David', 'age': 28, 'department': 'Engineering', 'salary': 82000},\n",
    "    'emp005': {'name': 'Eva', 'age': 33, 'department': 'Finance', 'salary': 90000}\n",
    "}\n",
    "\n",
    "##### YOUR CODE HERE #####\n"
   ]
  },
  {
   "cell_type": "markdown",
   "metadata": {},
   "source": [
    "\n",
    "<br>\n",
    "\n",
    "Two dicts can be merged. If there are duplicate entries, the key value pair in the second dict will appear in the merged dict (remember dict keys must be unique):"
   ]
  },
  {
   "cell_type": "markdown",
   "metadata": {},
   "source": [
    "#### **Checkpoint \\#4:**\n",
    "\n",
    "\n",
    "Follow the instructions in the code below."
   ]
  },
  {
   "cell_type": "code",
   "execution_count": null,
   "metadata": {},
   "outputs": [],
   "source": [
    "\n",
    "# Initialize an empty dictionary named d.\n",
    "\n",
    "##### YOUR CODE HERE (1 LOC) #####\n",
    "d = {}\n",
    "\n",
    "\n",
    "# Iterate over the letters list. Add each letter in letters  \n",
    "# as a key within d with each value initialized to 0.\n",
    "letters = [\"A\", \"B\", \"C\", \"D\", \"E\"]\n",
    "\n",
    "\n",
    "##### YOUR CODE HERE (2 LOCs) ##### \n",
    "\n",
    "\n",
    "# Iterate over the observations list. For each letter in the observations \n",
    "# list, increment (add 1 to) the value associated with that letter in d. \n",
    "# Upon completion, d will map each letter in the letters list to its frequency \n",
    "# in the observations list.\n",
    "# For example, if there were 5 As, 6 Bs, 4 Cs, 2 Ds and 7 Es in observations, \n",
    "# d should contain: {\"A\": 5, \"B\": 6, \"C\": 4, \"D\": 2, \"E\": 7}.\n",
    "observations = [\"A\", \"E\", \"E\", \"C\", \"D\", \"A\", \"D\", \"A\", \"A\", \"D\", \"E\", \"E\",\n",
    "                \"A\", \"E\", \"C\", \"E\", \"C\", \"A\", \"C\", \"D\", \"D\", \"C\", \"E\", \"A\",\n",
    "                \"B\", \"B\", \"B\", \"C\", \"D\", \"E\", \"E\", \"B\", \"E\", \"A\", \"E\", \"C\"]\n",
    "\n",
    "\n",
    "##### YOUR CODE HERE (2 LOCs) #####\n",
    "\n",
    "\n",
    "# Create a list of 2-tuples from d using `.items` named pairs. Sort the list \n",
    "# in decreasing order of frequency (highest to lowest). Print the result.\n",
    "\n",
    "##### YOUR CODE HERE (2 LOCs) #####\n",
    "\n"
   ]
  },
  {
   "cell_type": "markdown",
   "metadata": {},
   "source": [
    "<br>\n",
    "\n",
    "### Dictionary Comprehensions\n",
    "\n",
    "As with lists, we can use dict comprehensions to create a dictionary using a condensed syntax. To initialize `d`, we could do:\n"
   ]
  },
  {
   "cell_type": "code",
   "execution_count": 46,
   "metadata": {},
   "outputs": [
    {
     "data": {
      "text/plain": [
       "{'A': 0, 'B': 0, 'C': 0, 'D': 0, 'E': 0}"
      ]
     },
     "execution_count": 46,
     "metadata": {},
     "output_type": "execute_result"
    }
   ],
   "source": [
    "\n",
    "letters = [\"A\", \"B\", \"C\", \"D\", \"E\"]\n",
    "\n",
    "d = {k: 0 for k in letters}\n",
    "\n",
    "d\n"
   ]
  },
  {
   "cell_type": "markdown",
   "metadata": {},
   "source": [
    "\n",
    "<br>\n",
    "\n",
    "When we create functions with a variable keyword arguments, `kwargs` collects all key-value pairs into a dictionary. "
   ]
  },
  {
   "cell_type": "code",
   "execution_count": 53,
   "metadata": {},
   "outputs": [],
   "source": [
    "\n",
    "def get_info(name, **kwargs):\n",
    "    \"\"\"\n",
    "    Print student information.\n",
    "    \"\"\"\n",
    "    print(f\"type(kwargs): {type(kwargs)}\")\n",
    "    school = kwargs.get(\"school\", \"DMACC\")\n",
    "    age = kwargs.get(\"age\", 18)\n",
    "    student_id = kwargs.get(\"student_id\", \"000000\")\n",
    "    print(f\"{name}: school={school}, age={age}, student_id={student_id}\")\n"
   ]
  },
  {
   "cell_type": "markdown",
   "metadata": {},
   "source": [
    "\n",
    "<br>\n",
    "\n",
    "If no keyword arguments are passed, the defaults will be used:\n"
   ]
  },
  {
   "cell_type": "code",
   "execution_count": 54,
   "metadata": {},
   "outputs": [
    {
     "name": "stdout",
     "output_type": "stream",
     "text": [
      "type(kwargs): <class 'dict'>\n",
      "JDT: school=DMACC, age=18, student_id=000000\n"
     ]
    }
   ],
   "source": [
    "\n",
    "get_info(\"JDT\")\n"
   ]
  },
  {
   "cell_type": "markdown",
   "metadata": {},
   "source": [
    "<br>\n",
    "\n",
    "If any key-value pairs are provided, they will override the defaults:"
   ]
  },
  {
   "cell_type": "code",
   "execution_count": 55,
   "metadata": {},
   "outputs": [
    {
     "name": "stdout",
     "output_type": "stream",
     "text": [
      "type(kwargs): <class 'dict'>\n",
      "JDT: school=DMACC, age=43, student_id=271828\n"
     ]
    }
   ],
   "source": [
    "\n",
    "get_info(\"JDT\", age=43, student_id=\"271828\")\n"
   ]
  },
  {
   "cell_type": "markdown",
   "metadata": {},
   "source": [
    "It is also possible to pre-assemble the dictionary, and pass it into a function that accepts variable keyword arguments instead of passing the key-value pairs individually. For example: \n"
   ]
  },
  {
   "cell_type": "code",
   "execution_count": 56,
   "metadata": {},
   "outputs": [
    {
     "name": "stdout",
     "output_type": "stream",
     "text": [
      "type(kwargs): <class 'dict'>\n",
      "JDT: school=DMACC, age=43, student_id=271828\n"
     ]
    }
   ],
   "source": [
    "\n",
    "kwds = {\"age\": 43, \"student_id\": \"271828\"}\n",
    "\n",
    "get_info(\"JDT\", **kwds)\n"
   ]
  },
  {
   "cell_type": "markdown",
   "metadata": {},
   "source": [
    "\n",
    "<br>\n",
    "\n",
    "## In-Class Assignment: Word Frequency Tracker\n",
    "\n",
    "The purpose of this assignment is to create a dictionary that tracks the frequency of the first letter of each word in *words_list.txt*. The steps are as follows:\n",
    "\n",
    "1. Download *word_list.txt* from Canvas, and read the words into a list. Convert all words in the list to lowercase and strip whitespace.  \n",
    "<br>\n",
    "2. Create a dictionary with keys as lowercase letters and all values initialized to 0. (lowercase letters are available in the string module as `string.ascii_lowercase`, no need to create a list of letters your self).   \n",
    "<br> \n",
    "3. Iterate over the list of words. Identify the first letter of each word, and increment the value in the dictionary associated with that letter. For example, if the first letter in the word_list is \"apple\", we should add 1 to the value associated with the \"a\" key in the letters dictionary.   \n",
    "<br>\n",
    "4. Convert the letters dictionary to a list a 2-tuples using `.items()` in your letters dict. The resulting list will look like `[(\"a\", 2789), (\"b\", 1432), ...]`.   \n",
    "<br> \n",
    "5. Sort the list in descending order of frequency.  \n",
    "<br>\n",
    "6. What are the top 3 letters that words begin with in *word_list.txt*?  \n",
    "<br>\n",
    "7. What are the bottom 3 letters that words begin with in *word_list.txt*?  \n",
    "\n",
    "---"
   ]
  },
  {
   "cell_type": "markdown",
   "metadata": {},
   "source": [
    "\n",
    "<br>\n",
    "\n",
    "**1. Download *word_list.txt* from Canvas, and read the words into a list.**\n",
    "\n",
    "On Windows, after you download the file from Canvas, the path should be:\n",
    "\n",
    "* `\"C:/Users[USERNAME]/Downloads/word_list.txt\"`\n",
    "\n",
    "On MAcOS, the path should be:\n",
    "\n",
    "* `\"/Users/[USERNAME]/Downloads/word_list.txt\"`\n",
    "    "
   ]
  },
  {
   "cell_type": "code",
   "execution_count": 15,
   "metadata": {},
   "outputs": [
    {
     "data": {
      "text/plain": [
       "['a',\n",
       " \"a's\",\n",
       " \"aa's\",\n",
       " \"ab's\",\n",
       " \"abm's\",\n",
       " \"ac's\",\n",
       " \"acth's\",\n",
       " \"ai's\",\n",
       " \"aids's\",\n",
       " \"am's\"]"
      ]
     },
     "execution_count": 15,
     "metadata": {},
     "output_type": "execute_result"
    }
   ],
   "source": [
    "\n",
    "\n",
    "##### TODO: Update path based on your computer #####\n",
    "\n",
    "path = \"C:/Users/jtriv/Downloads/word_list.txt\"\n",
    "\n",
    "with open(path, \"r\") as ff:\n",
    "    words = ff.readlines()\n",
    "\n",
    "# Convert to lowercase, strip whitespace. \n",
    "words = [w.strip().lower() for w in words]\n",
    "\n",
    "# Verify that words contains 99154 words.\n",
    "assert len(words) == 99154, \"Error reading word_list.txt\"\n",
    "\n",
    "# Print first 10 words.\n",
    "words[:10]\n",
    "\n"
   ]
  },
  {
   "cell_type": "markdown",
   "metadata": {},
   "source": [
    "<br>\n",
    "\n",
    "**2. Create a dictionary `d` with keys as lowercase letters and all values initialized to 0. (lowercase letters are available in the string module, no need to create a list of letters your self). Try using a dict comprehension to create the dictionary.**\n"
   ]
  },
  {
   "cell_type": "code",
   "execution_count": 16,
   "metadata": {},
   "outputs": [
    {
     "name": "stdout",
     "output_type": "stream",
     "text": [
      "\n",
      "letters: abcdefghijklmnopqrstuvwxyz\n",
      "\n"
     ]
    },
    {
     "data": {
      "text/plain": [
       "{'a': 0,\n",
       " 'b': 0,\n",
       " 'c': 0,\n",
       " 'd': 0,\n",
       " 'e': 0,\n",
       " 'f': 0,\n",
       " 'g': 0,\n",
       " 'h': 0,\n",
       " 'i': 0,\n",
       " 'j': 0,\n",
       " 'k': 0,\n",
       " 'l': 0,\n",
       " 'm': 0,\n",
       " 'n': 0,\n",
       " 'o': 0,\n",
       " 'p': 0,\n",
       " 'q': 0,\n",
       " 'r': 0,\n",
       " 's': 0,\n",
       " 't': 0,\n",
       " 'u': 0,\n",
       " 'v': 0,\n",
       " 'w': 0,\n",
       " 'x': 0,\n",
       " 'y': 0,\n",
       " 'z': 0}"
      ]
     },
     "execution_count": 16,
     "metadata": {},
     "output_type": "execute_result"
    }
   ],
   "source": [
    "import string\n",
    "\n",
    "letters = string.ascii_lowercase # All lowercase letters as a single string. \n",
    "\n",
    "\n",
    "print(f\"\\nletters: {letters}\\n\")\n",
    "\n",
    "##### YOUR CODE HERE (1-2 LOCs) #####\n",
    "d = {letter: 0 for letter in letters}\n",
    "\n",
    "d\n"
   ]
  },
  {
   "cell_type": "markdown",
   "metadata": {},
   "source": [
    "<br>\n",
    "\n",
    "**3. Iterate over words list. Identify the first letter of each word, and increment the value in the dictionary associated with that letter.**"
   ]
  },
  {
   "cell_type": "code",
   "execution_count": 17,
   "metadata": {},
   "outputs": [
    {
     "data": {
      "text/plain": [
       "{'a': 5895,\n",
       " 'b': 6068,\n",
       " 'c': 9521,\n",
       " 'd': 5823,\n",
       " 'e': 3851,\n",
       " 'f': 4127,\n",
       " 'g': 3456,\n",
       " 'h': 3804,\n",
       " 'i': 3667,\n",
       " 'j': 1262,\n",
       " 'k': 1163,\n",
       " 'l': 3400,\n",
       " 'm': 5922,\n",
       " 'n': 2018,\n",
       " 'o': 2270,\n",
       " 'p': 7659,\n",
       " 'q': 467,\n",
       " 'r': 5356,\n",
       " 's': 11327,\n",
       " 't': 5085,\n",
       " 'u': 1943,\n",
       " 'v': 1576,\n",
       " 'w': 2739,\n",
       " 'x': 53,\n",
       " 'y': 421,\n",
       " 'z': 281}"
      ]
     },
     "execution_count": 17,
     "metadata": {},
     "output_type": "execute_result"
    }
   ],
   "source": [
    "\n",
    "##### YOUR CODE HERE (2-3 LOCs) #####\n",
    "\n",
    "for w in words:\n",
    "    first_letter = w[0]\n",
    "    d[first_letter]+=1\n",
    "\n",
    "d"
   ]
  },
  {
   "cell_type": "markdown",
   "metadata": {},
   "source": [
    "<br>\n",
    "\n",
    "**4. Convert the letters dictionary to a list of 2-tuples using `.items()`. The resulting list will look like `[(\"a\", 2789), (\"b\", 1432), ...]`. Print the resulting list.**"
   ]
  },
  {
   "cell_type": "code",
   "execution_count": 18,
   "metadata": {},
   "outputs": [
    {
     "data": {
      "text/plain": [
       "dict_items([('a', 5895), ('b', 6068), ('c', 9521), ('d', 5823), ('e', 3851), ('f', 4127), ('g', 3456), ('h', 3804), ('i', 3667), ('j', 1262), ('k', 1163), ('l', 3400), ('m', 5922), ('n', 2018), ('o', 2270), ('p', 7659), ('q', 467), ('r', 5356), ('s', 11327), ('t', 5085), ('u', 1943), ('v', 1576), ('w', 2739), ('x', 53), ('y', 421), ('z', 281)])"
      ]
     },
     "execution_count": 18,
     "metadata": {},
     "output_type": "execute_result"
    }
   ],
   "source": [
    "\n",
    "##### YOUR CODE HERE (1 LOC) #####\n",
    "\n",
    "pairs = d.items()\n",
    "\n",
    "pairs"
   ]
  },
  {
   "cell_type": "markdown",
   "metadata": {},
   "source": [
    "<br>\n",
    "\n",
    "**5. Sort the list in descending order of frequency.**\n",
    "\n",
    "Hint: You'll need to use the `lambda` discussed earlier. "
   ]
  },
  {
   "cell_type": "code",
   "execution_count": 19,
   "metadata": {},
   "outputs": [
    {
     "data": {
      "text/plain": [
       "[('s', 11327),\n",
       " ('c', 9521),\n",
       " ('p', 7659),\n",
       " ('b', 6068),\n",
       " ('m', 5922),\n",
       " ('a', 5895),\n",
       " ('d', 5823),\n",
       " ('r', 5356),\n",
       " ('t', 5085),\n",
       " ('f', 4127),\n",
       " ('e', 3851),\n",
       " ('h', 3804),\n",
       " ('i', 3667),\n",
       " ('g', 3456),\n",
       " ('l', 3400),\n",
       " ('w', 2739),\n",
       " ('o', 2270),\n",
       " ('n', 2018),\n",
       " ('u', 1943),\n",
       " ('v', 1576),\n",
       " ('j', 1262),\n",
       " ('k', 1163),\n",
       " ('q', 467),\n",
       " ('y', 421),\n",
       " ('z', 281),\n",
       " ('x', 53)]"
      ]
     },
     "execution_count": 19,
     "metadata": {},
     "output_type": "execute_result"
    }
   ],
   "source": [
    "\n",
    "##### YOUR CODE HERE (1 LOC) #####\n",
    "\n",
    "pairs = sorted(pairs, key=lambda t: t[1], reverse=True)\n",
    "\n",
    "pairs"
   ]
  },
  {
   "cell_type": "markdown",
   "metadata": {},
   "source": [
    "<br>\n",
    "\n",
    "**6. What are the top 3 letters that words begin with from *word_list.txt*? Print the top 3 using slice notation.**"
   ]
  },
  {
   "cell_type": "code",
   "execution_count": 20,
   "metadata": {},
   "outputs": [
    {
     "data": {
      "text/plain": [
       "[('s', 11327), ('c', 9521), ('p', 7659)]"
      ]
     },
     "execution_count": 20,
     "metadata": {},
     "output_type": "execute_result"
    }
   ],
   "source": [
    "\n",
    "##### YOUR CODE HERE (1-2 LOCs) #####\n",
    "\n",
    "pairs[:3]\n"
   ]
  },
  {
   "cell_type": "markdown",
   "metadata": {},
   "source": [
    "\n",
    "<br>\n",
    "\n",
    "**7. What are the bottom 3 letters that words begin with from *word_list.txt*? Print the bottom 3 using slice notation.** "
   ]
  },
  {
   "cell_type": "code",
   "execution_count": 21,
   "metadata": {},
   "outputs": [
    {
     "data": {
      "text/plain": [
       "[('y', 421), ('z', 281), ('x', 53)]"
      ]
     },
     "execution_count": 21,
     "metadata": {},
     "output_type": "execute_result"
    }
   ],
   "source": [
    "\n",
    "##### YOUR CODE HERE (1-2 LOCs)  #####\n",
    "\n",
    "pairs[-3:]\n",
    "\n"
   ]
  },
  {
   "cell_type": "code",
   "execution_count": 23,
   "metadata": {},
   "outputs": [
    {
     "data": {
      "text/plain": [
       "11327"
      ]
     },
     "execution_count": 23,
     "metadata": {},
     "output_type": "execute_result"
    }
   ],
   "source": [
    "\n",
    "# Alternative approach using builtin functionality.\n",
    "from collections import Counter\n",
    "\n",
    "first_letters = [i[0] for i in words]\n",
    "d = Counter(first_letters)\n",
    "\n",
    "d[\"s\"]"
   ]
  }
 ],
 "metadata": {
  "kernelspec": {
   "display_name": "Python 3",
   "language": "python",
   "name": "python3"
  },
  "language_info": {
   "codemirror_mode": {
    "name": "ipython",
    "version": 3
   },
   "file_extension": ".py",
   "mimetype": "text/x-python",
   "name": "python",
   "nbconvert_exporter": "python",
   "pygments_lexer": "ipython3",
   "version": "3.12.0"
  }
 },
 "nbformat": 4,
 "nbformat_minor": 2
}
