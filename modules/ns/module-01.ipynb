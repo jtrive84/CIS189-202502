{
 "cells": [
  {
   "cell_type": "markdown",
   "metadata": {},
   "source": [
    "## CIS189 Module \\#1\n",
    "---\n",
    "Author: James D. Triveri\n",
    "\n",
    "---\n",
    "\n"
   ]
  },
  {
   "cell_type": "markdown",
   "metadata": {},
   "source": [
    "\n",
    "### **Topic \\#1: Interpreter**\n",
    "\n",
    "\n",
    "#### Compiled Languages\n",
    "\n",
    "Compiled languages are converted directly into machine code that the processor can execute. As a result, they tend to be faster and more efficient to execute than interpreted languages. They also give the developer more control over hardware aspects, like memory management and CPU usage.\n",
    "\n",
    "Examples of compiled languages:\n",
    "\n",
    "- C/C++\n",
    "- Go\n",
    "- Rust\n",
    "- Erlang\n",
    "- Haskell\n",
    "\n",
    "<br>\n",
    "\n",
    "\n",
    "#### Interpreted Languages\n",
    "\n",
    "Interpreters run through a program line by line and execute each command.\n",
    "It is one where the instructions are not directly executed by the target machine, \n",
    "but instead, read and executed by some other program (i.e. the Python interpreter).\n",
    "\n",
    "Examples of interpreted languages:\n",
    "\n",
    "- Javascript\n",
    "- Python\n",
    "- Ruby\n",
    "- Perl\n",
    "\n",
    "\n",
    "\n",
    "\n",
    "Java can be considered both a compiled and an interpreted language because its source code is first compiled into a bytecode. This bytecode runs on the Java Virtual Machine (JVM), which is usually a software-based interpreter. \n",
    "\n",
    "Most programming languages can have both compiled and interpreted implementations – the language itself is not necessarily compiled or interpreted. However, for simplicity’s sake, they’re typically referred to as such.\n"
   ]
  },
  {
   "cell_type": "markdown",
   "metadata": {},
   "source": [
    "\n",
    "<br>\n",
    "\n",
    "### **Topic \\#2: Data types and Variables**\n",
    "\n",
    "\n",
    "Python is a dynamically typed language. What does that mean? Unlike statically types languages, it is not necessary to specify the type of a variable (string, integer, float) when it is defined. It means that the type of the variable is determined only at runtime. Also, it is possible to change the type of a variable within the same program (just because you can do this doesn't mean you should; it is generally bad programming practice to change the type of a variable within a program):"
   ]
  },
  {
   "cell_type": "code",
   "execution_count": 46,
   "metadata": {},
   "outputs": [],
   "source": [
    "\n",
    "# Create variable name set to \"Enrico Fermi\". \n",
    "name = \"Enrico Fermi\"\n",
    "\n",
    "# At some point later in the program, set name to a list of integers.\n",
    "# Valid Python!\n",
    "name = [3, 4, 5, 6, 7]"
   ]
  },
  {
   "cell_type": "markdown",
   "metadata": {},
   "source": [
    "A very useful function in Python is `type`. It lets you know the data type of the variable you pass to it. \n",
    "Let's modify our program to print the type of `name` when it was initially defined and after we changed it:"
   ]
  },
  {
   "cell_type": "code",
   "execution_count": null,
   "metadata": {},
   "outputs": [],
   "source": [
    "\n",
    "# Create variable name set to \"Enrico Fermi\". \n",
    "name = \"Enrico Fermi\"\n",
    "\n",
    "print(f\"type(name) initially: {type(name)}\")\n",
    "\n",
    "# At some point later in the program, set name to a list of integers.\n",
    "# Valid Python!\n",
    "name = [3, 4, 5, 6, 7]\n",
    "\n",
    "print(f\"type(name) after change: {type(name)}\")\n"
   ]
  },
  {
   "cell_type": "markdown",
   "metadata": {},
   "source": [
    "\n",
    "Variable names are case-sensitive. The convention in Python is to use lowercase characters with words separated by underscores (sometimes referred to as [\"snake case\"](https://en.wikipedia.org/wiki/Snake_case)), and title case for class definitions. You are free to name your variables as you wish, but snake case should be preferred. Here are a few examples of variable names that adhere to the snake case convention and others that do not:"
   ]
  },
  {
   "cell_type": "code",
   "execution_count": 49,
   "metadata": {},
   "outputs": [],
   "source": [
    "\n",
    "# Snake case compliant variable names. \n",
    "capital_of_iowa = \"Des Moines\"\n",
    "hours_in_day = 24\n",
    "days_in_july = 31\n",
    "eye_for_an_eye = False\n",
    "dark_side_of_the_moon = 1973\n",
    "\n",
    "\n",
    "# non-compliant variable names, but will still work.\n",
    "capitalOfIowa = \"Des Moines\"\n",
    "hoursInDay = 25\n",
    "DaysInJuly = 31\n",
    "Eye4AnEye = False\n",
    "DarksideOftheMoon = 1973\n"
   ]
  },
  {
   "cell_type": "markdown",
   "metadata": {},
   "source": [
    "\n",
    "<br>\n",
    "\n",
    "Numbers can be used in variable names, but not as the first character. Also, `_` is the only non-alphanumeric character that can be used in variable names. \n",
    "\n",
    "<br>\n",
    "\n",
    "\n",
    "#### **Comments and Docstrings**\n",
    "\n",
    "Comments in Python are specified using `#`. Whenever the interpeter comes across `#`, everything to the right of it is ignored. \n",
    "A few examples of how comments can be used:"
   ]
  },
  {
   "cell_type": "code",
   "execution_count": 50,
   "metadata": {},
   "outputs": [],
   "source": [
    "\n",
    "# Compute the difference between each element of ll and a.\n",
    "a = 7\n",
    "ll = [14, 16, 18, 20, 22]\n",
    "\n",
    "diffs = []\n",
    "for i in ll:\n",
    "    d = i - a\n",
    "    diffs.append(d)\n",
    "\n",
    "\n",
    "for i in diffs:\n",
    "    if i < 10: # Remove element from diffs if less than 10.\n",
    "        diffs.remove(i)\n"
   ]
  },
  {
   "cell_type": "markdown",
   "metadata": {},
   "source": [
    "\n",
    "<br>\n",
    "\n",
    "Docstrings are used to provide information about a function or class (more on these later). They are specified at the time the function is created, and should help the user understand the purpose of the function (or class). Docstrings are enclosed in triple quotes. Here's an example:\n"
   ]
  },
  {
   "cell_type": "code",
   "execution_count": 52,
   "metadata": {},
   "outputs": [],
   "source": [
    "\n",
    "import math\n",
    "\n",
    "\n",
    "def add_numbers(a, b):\n",
    "    \"\"\"\n",
    "    Adds two numbers and returns the result.\n",
    "    \n",
    "    Args:\n",
    "        a (int or float): The first number.\n",
    "        b (int or float): The second number.\n",
    "        \n",
    "    Returns:\n",
    "        int or float: The sum of a and b.\n",
    "    \"\"\"\n",
    "    return a + b\n"
   ]
  },
  {
   "cell_type": "markdown",
   "metadata": {},
   "source": [
    "<br>\n",
    "\n",
    "### **Topic \\#3: Arithmetic Operations**\n",
    "\n",
    "Python features arbitrary-precision arithmetic, where calculations are performed on numbers whose digits of precision are limited only by the available system memory. This differs from a language like C, where the maximum (non-long) integer value is 2,147,483,647."
   ]
  },
  {
   "cell_type": "code",
   "execution_count": null,
   "metadata": {},
   "outputs": [],
   "source": [
    "\n",
    "# Addition of ints, floats and mixed types. \n",
    "\n",
    "a = 3 + 5 + 7 + 9\n",
    "\n",
    "b = 3.0 + 5.0 + 7.0 + 9\n",
    "\n",
    "c = 3 + 5.0 + 7.0 + 9.0\n",
    "\n",
    "print(f\"a: {a}; type(a): {type(a)}\")\n",
    "print(f\"b: {b}; type(b): {type(b)}\")\n",
    "print(f\"c: {c}; type(c): {type(c)}\")\n"
   ]
  },
  {
   "cell_type": "code",
   "execution_count": null,
   "metadata": {},
   "outputs": [],
   "source": [
    "\n",
    "# Division treats both numerator and denominator as floats.\n",
    "a = 11 / 5\n",
    "b = 11.0 / 5.0 \n",
    "\n",
    "print(f\"a: {a}; type(a): {type(a)}\")\n",
    "print(f\"b: {b}; type(b): {type(b)}\")\n"
   ]
  },
  {
   "cell_type": "code",
   "execution_count": null,
   "metadata": {},
   "outputs": [],
   "source": [
    "\n",
    "# Integer division.\n",
    "c = 11 // 5\n",
    "d = 11.0 // 5.0\n",
    "e = 11 / 5.0\n",
    "\n",
    "\n",
    "print(f\"a: {c}; type(c): {type(c)}\")\n",
    "print(f\"b: {d}; type(d): {type(d)}\")\n",
    "print(f\"c: {e}; type(e): {type(e)}\")"
   ]
  },
  {
   "cell_type": "markdown",
   "metadata": {},
   "source": [
    "<br>\n",
    "\n",
    "The modulus operator `%` in Python is used to compute the remainder of the division between two numbers. It is often referred to as the \"remainder\" operator. The general syntax is:"
   ]
  },
  {
   "cell_type": "code",
   "execution_count": null,
   "metadata": {},
   "outputs": [],
   "source": [
    "\n",
    "# Modulus operator (`%`) returns the remainder. \n",
    "11 % 5\n"
   ]
  },
  {
   "cell_type": "code",
   "execution_count": null,
   "metadata": {},
   "outputs": [],
   "source": [
    "\n",
    "# Modulus examples.\n",
    "print(f\"15 % 8  : {15 % 8}\")\n",
    "print(f\"15 % 6  : {15 % 6}\")\n",
    "print(f\"10 % 6  : {10 % 5}\")\n",
    "print(f\"99 % 1  : {99 % 1}\")\n",
    "print(f\"17 % 17 : {17 % 17}\")\n"
   ]
  },
  {
   "cell_type": "markdown",
   "metadata": {},
   "source": [
    "A common use of the modulus operator is to filter a list of values down to even or odd elements.\n"
   ]
  },
  {
   "cell_type": "code",
   "execution_count": null,
   "metadata": {},
   "outputs": [],
   "source": [
    "\n",
    "# Find odd numbers up to 50.\n",
    "odds = []\n",
    "\n",
    "for i in range(51):\n",
    "    if i % 2 != 0:\n",
    "        # Add i to odds. \n",
    "        odds.append(i)\n",
    "\n",
    "print(odds)"
   ]
  },
  {
   "cell_type": "markdown",
   "metadata": {},
   "source": [
    "How can we modify this logic to return only the even numbers up to 50?"
   ]
  },
  {
   "cell_type": "code",
   "execution_count": null,
   "metadata": {},
   "outputs": [],
   "source": [
    "\n",
    "evens = []\n",
    "\n",
    "for i in range(51):\n",
    "    if i % 2 == 0:\n",
    "        # Add i to evens. \n",
    "        evens.append(i)\n",
    "\n",
    "print(evens)\n"
   ]
  },
  {
   "cell_type": "code",
   "execution_count": null,
   "metadata": {},
   "outputs": [],
   "source": [
    "# Exponentiation in Python (`**`)\n",
    "\n",
    "2**5\n"
   ]
  },
  {
   "cell_type": "code",
   "execution_count": null,
   "metadata": {},
   "outputs": [],
   "source": [
    "\n",
    "print(f\"2**0 = {2**0}\")\n",
    "print(f\"2**1 = {2**1}\")\n",
    "print(f\"2**2 = {2**2}\")\n",
    "print(f\"2**3 = {2**3}\")\n",
    "print(f\"2**4 = {2**4}\")"
   ]
  },
  {
   "cell_type": "markdown",
   "metadata": {},
   "source": [
    "\n",
    "### **F-strings**\n",
    "\n",
    "**Reference:**\n",
    "\n",
    "- [Python's F-String for String Interpolation and Formatting](https://realpython.com/python-f-strings/)\n",
    "- [Python Documentation: Fancier Output Formatting](https://docs.python.org/3/tutorial/inputoutput.html#fancier-output-formatting)\n",
    "\n",
    "\n",
    "F-strings (formatted string literals) were introduced in Python 3.6 to provide a more concise and readable way to format strings. They are prefixed with the letter `f` and allow embedded expressions within curly braces `{}` to be evaluated at runtime. A few key features of f-strings:\n",
    "\n",
    "1. **String Interpolation**: You can directly insert variables and expressions into a string.\n",
    "2. **Readability**: f-strings make the code more readable and concise compared to older formatting methods.\n",
    "3. **Efficiency**: They are faster than other string formatting options like `str.format()` or `%` formatting.\n",
    "\n",
    "\n",
    "F-strings were used in some of the earlier cells, but here is a simple example using f-strings to print the name and age of an individual:\n"
   ]
  },
  {
   "cell_type": "code",
   "execution_count": null,
   "metadata": {},
   "outputs": [],
   "source": [
    "\n",
    "name = \"Alice\"\n",
    "age = 25\n",
    "\n",
    "greeting = f\"My name is {name} and I am {age} years old.\"\n",
    "\n",
    "print(greeting)\n"
   ]
  },
  {
   "cell_type": "markdown",
   "metadata": {},
   "source": [
    "\n",
    "The string assigned to `greeting` is prefixed with `f`. As a result, any variables enclosed within curly braces will be replaced by the value assigned to that variable. \n",
    "\n",
    "You can include any valid Python expression within the curly braces:\n"
   ]
  },
  {
   "cell_type": "code",
   "execution_count": null,
   "metadata": {},
   "outputs": [],
   "source": [
    "\n",
    "x = 5\n",
    "y = 3\n",
    "\n",
    "result = f\"The sum of {x} and {y} is {x + y}.\"\n",
    "\n",
    "print(result)\n"
   ]
  },
  {
   "cell_type": "markdown",
   "metadata": {},
   "source": [
    "\n",
    "An especially convenient use of f-strings is to control the format of numeric values, such as thousandths separator, decimal precision or percentages. The next example shows how to print the U.S. National debt as 2024-12-31 with and without the thousandths separator:"
   ]
  },
  {
   "cell_type": "code",
   "execution_count": null,
   "metadata": {},
   "outputs": [],
   "source": [
    "\n",
    "national_debt = 36281572428542\n",
    "\n",
    "print(f\"U.S. National debt without thousandths separator: {national_debt}.\")\n",
    "print(f\"U.S. National debt with thousandths separator   : {national_debt:,}.\")"
   ]
  },
  {
   "cell_type": "markdown",
   "metadata": {},
   "source": [
    "<br>\n",
    "\n",
    "#### **Checkpoint \\#1**\n",
    "\n",
    "Create a new variable `total` which is the sum of `item1` and `item2`, and recreate the following string with `item1` and `item2` displayed with 4 decimal places, and `total` displayed with 2 decimal places. The resulting string should print as follows:\n",
    "\n",
    "```\n",
    "The sum of 8.4466 and 4.8788 is 13.33.\n",
    "```\n",
    "\n",
    "Refer to the links above for information on f-string formatting. \n",
    "\n"
   ]
  },
  {
   "cell_type": "code",
   "execution_count": null,
   "metadata": {},
   "outputs": [],
   "source": [
    "\n",
    "item1 = 8.446564632\n",
    "item2 = 4.87879903984\n",
    "\n",
    "##### YOUR CODE HERE #####\n"
   ]
  },
  {
   "cell_type": "markdown",
   "metadata": {},
   "source": [
    "\n",
    "<br>\n",
    "\n",
    "#### **Checkpoint \\#2**\n",
    "\n",
    "Compute the average of `score1`, `score2` and `score3`, and print the result as a percentage with no decimal places. \n",
    "\n"
   ]
  },
  {
   "cell_type": "code",
   "execution_count": null,
   "metadata": {},
   "outputs": [],
   "source": [
    "\n",
    "score1 = .87\n",
    "score2 = .54\n",
    "score3 = .94\n",
    "\n",
    "##### YOUR CODE HERE #####\n"
   ]
  }
 ],
 "metadata": {
  "kernelspec": {
   "display_name": "base",
   "language": "python",
   "name": "python3"
  },
  "language_info": {
   "codemirror_mode": {
    "name": "ipython",
    "version": 3
   },
   "file_extension": ".py",
   "mimetype": "text/x-python",
   "name": "python",
   "nbconvert_exporter": "python",
   "pygments_lexer": "ipython3",
   "version": "3.12.5"
  }
 },
 "nbformat": 4,
 "nbformat_minor": 2
}
