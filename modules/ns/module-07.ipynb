{
 "cells": [
  {
   "cell_type": "markdown",
   "metadata": {},
   "source": [
    "## CIS189 Module \\#7\n",
    "---\n",
    "Author: James D. Triveri\n",
    "\n",
    "---\n",
    "\n",
    "<br>\n"
   ]
  },
  {
   "cell_type": "markdown",
   "metadata": {},
   "source": [
    "\n",
    "\n",
    "### Review from last time:\n",
    "\n",
    "1. `try/except` can be used to catch errors that might be thrown during our program. This allows the code to continue running instead of crashing. \n",
    "\n",
    "2. Two broad types of functions: What do we call them? What is the difference?\n",
    "\n",
    "3. Function declaration checklist:\n",
    "    - start with `def`\n",
    "    - Supply a function name\n",
    "    - Add parens, optionally with function arguments\n",
    "    - Add colon after closing paren\n",
    "    - Include docstring with summary, Parameters and Returns sections (indented 4 spaces)\n",
    "    - Add function body (indented four spaces to start)\n",
    "    - Add return statement for fruitful functions or print for void functions\n",
    "There are two types of variable arguments for functions in Python: positional and keyword.\n",
    "\n",
    "\n",
    "<br>\n",
    "\n",
    "\n",
    "\n",
    "### List Comprehensions++\n",
    "\n",
    "\n",
    "- [List Comprehensions Documentation](https://docs.python.org/3/tutorial/datastructures.html#list-comprehensions)\n",
    "- [Understanding List Comprehensions in Python3](https://www.digitalocean.com/community/tutorials/understanding-list-comprehensions-in-python-3)\n",
    "\n",
    "\n",
    "List comprehensions provide a concise way to create lists in Python. They consist of brackets containing an expression followed by a `for` clause, then zero or more `for` or `if` clauses. The expressions can be anything, meaning you can put in all kinds of objects in lists.\n",
    "\n",
    "The basic syntax is:\n",
    "\n",
    "> `[expression for item in iterable if condition]`\n",
    "\n",
    "<br>\n",
    "\n",
    "where:\n",
    "\n",
    "- `expression` is the current item in the iteration, but it is also the outcome, which you can manipulate before it ends up like an element in the new list.\n",
    "- `item` is the current value from the iterable.\n",
    "- `iterable` is a collection of items, e.g., a list or a range.\n",
    "- `condition` is optional; serves as a filter - it allows the inclusion of only certain items.\n",
    "\n",
    "<br>\n",
    "\n",
    "Let's look at an example that squares the first 10 integers starting with 0 1) using a for loop and 2) using a list comprehension:\n"
   ]
  },
  {
   "cell_type": "code",
   "execution_count": 6,
   "metadata": {},
   "outputs": [
    {
     "name": "stdout",
     "output_type": "stream",
     "text": [
      "squares: [0, 1, 4, 9, 16, 25, 36, 49, 64, 81]\n"
     ]
    }
   ],
   "source": [
    "\n",
    "# For loop.\n",
    "squares = []\n",
    "\n",
    "for i in range(10):\n",
    "\n",
    "    s = i ** 2\n",
    "\n",
    "    squares.append(s)\n",
    "\n",
    "print(f\"squares: {squares}\")\n",
    "\n"
   ]
  },
  {
   "cell_type": "code",
   "execution_count": 7,
   "metadata": {},
   "outputs": [
    {
     "name": "stdout",
     "output_type": "stream",
     "text": [
      "squares: [0, 1, 4, 9, 16, 25, 36, 49, 64, 81]\n"
     ]
    }
   ],
   "source": [
    "\n",
    "# List comprehension: [expression for item in iterable]\n",
    "squares = [i**2 for i in range(10)]\n",
    "\n",
    "print(f\"squares: {squares}\")\n"
   ]
  },
  {
   "cell_type": "markdown",
   "metadata": {},
   "source": [
    "\n",
    "<br>\n",
    "\n",
    "\n",
    "### **Checkpoint \\#1**:\n",
    "\n",
    "Create a new list named `lengths` using a **for loop** which determines the number of characters in each entry of `languages`. Print the resulting list.\n"
   ]
  },
  {
   "cell_type": "code",
   "execution_count": 9,
   "metadata": {},
   "outputs": [
    {
     "name": "stdout",
     "output_type": "stream",
     "text": [
      "lengths: [7, 4, 6, 1, 7, 1, 7, 8, 3, 3, 5]\n"
     ]
    }
   ],
   "source": [
    "\n",
    "languages = [\"haskell\", \"lisp\", \"python\", \"c\", \"fortran\", \"r\", \"closure\", \"assembly\", \"sql\", \"lua\", \"scala\"]\n",
    "\n",
    "##### YOUR CODE HERE #####\n",
    "\n",
    "lengths = []\n",
    "for lang in languages:\n",
    "    n = len(lang)\n",
    "    lengths.append(n)\n",
    "\n",
    "\n",
    "print(f\"lengths: {lengths}\")\n"
   ]
  },
  {
   "cell_type": "markdown",
   "metadata": {},
   "source": [
    "\n",
    "<br>\n",
    "\n",
    "### **Checkpoint \\#2**:\n",
    "\n",
    "Create a new list named `lengths` using a **list comprehension** which determines the number of characters in each entry of `languages`. Print the resulting list.\n"
   ]
  },
  {
   "cell_type": "code",
   "execution_count": 10,
   "metadata": {},
   "outputs": [
    {
     "name": "stdout",
     "output_type": "stream",
     "text": [
      "lengths: [7, 4, 6, 1, 7, 1, 3, 8, 2, 3]\n"
     ]
    }
   ],
   "source": [
    "\n",
    "languages = [\"haskell\", \"lisp\", \"python\", \"c\", \"fortran\", \"r\", \"c++\", \"assembly\", \"c#\", \"sql\"]\n",
    "\n",
    "##### YOUR CODE HERE #####\n",
    "\n",
    "lengths = [len(i) for i in languages]\n",
    "\n",
    "print(f\"lengths: {lengths}\")\n"
   ]
  },
  {
   "cell_type": "markdown",
   "metadata": {},
   "source": [
    "\n",
    "<br> \n",
    "\n",
    "Recall from [Loop Like a Native](https://www.youtube.com/watch?v=EnSu9hHGq5o&t=779s) that we can combine the `languages` and `lengths` lists into a stream of 2-tuples using `zip`. In our case, `zip` accepts a pair of iterables and returns a stream of pairs (but `zip` can accept any number of iterables):"
   ]
  },
  {
   "cell_type": "code",
   "execution_count": 15,
   "metadata": {},
   "outputs": [
    {
     "name": "stdout",
     "output_type": "stream",
     "text": [
      "squares: [0, 1, 4, 9, 16, 25, 36, 49, 64, 81]\n",
      "lengths: [7, 4, 6, 1, 7, 1, 3, 8, 2, 3]\n",
      "pairs: [('haskell', 7), ('lisp', 4), ('python', 6), ('c', 1), ('fortran', 7), ('r', 1), ('c++', 3), ('assembly', 8), ('c#', 2), ('sql', 3)]\n"
     ]
    }
   ],
   "source": [
    "\n",
    "languages = [\"haskell\", \"lisp\", \"python\", \"c\", \"fortran\", \"r\", \"c++\", \"assembly\", \"c#\", \"sql\"]\n",
    "lengths = [len(i) for i in languages]\n",
    "pairs = list(zip(languages, lengths))\n",
    "\n",
    "\n",
    "print(f\"squares: {squares}\")\n",
    "print(f\"lengths: {lengths}\")\n",
    "print(f\"pairs: {pairs}\")\n"
   ]
  },
  {
   "cell_type": "markdown",
   "metadata": {},
   "source": [
    "<br>\n",
    "\n",
    "Note that `zip` returns an iterator of tuples, so in order to manifest the list of 2-tuples, it is necessary to wrap `pairs` with list as above. This is really only necessary for display purposes. \n",
    "\n",
    "<br>\n",
    "\n",
    "\n",
    "We can call user defined functions within list comprehensions as well. \n",
    "\n",
    "<br>\n",
    "\n",
    "\n",
    "### **Checkpoint \\#3**:\n",
    "\n",
    "To convert temperature `C` in Celsius to degrees Fahrenheit `F`, we use the expression `F = (9 / 5) x C + 32`. For example, if the temperature in Celsius is 15, then the temperature in degrees Fahrenheit is `(9 / 5) x 15 + 32 = 59`. This checkpoint has 4 parts:\n",
    "\n",
    "<br>\n",
    "\n",
    "\n",
    "1. Define a function `c2f` which accepts a single temperature argument in degrees Celsius and returns the temperature in degrees Fahrenheit. \n",
    "\n",
    "2. `tempsc` consists of temperatures in degrees Celsius for each day from a given week. Using the for loop-append pattern, create a new list consisting of the corresponding temperatures in degrees Fahrenheit. \n",
    "\n",
    "3. Do the same as in 2., this time using a list comprehension.\n",
    "\n",
    "4. Using zip, combine the `days` list with your Fahrenheit temperatures list to create a stream of 2-tuples as `(day, temp)`. Print the result.\n",
    "\n",
    "\n",
    "\n",
    "\n"
   ]
  },
  {
   "cell_type": "code",
   "execution_count": 17,
   "metadata": {},
   "outputs": [
    {
     "name": "stdout",
     "output_type": "stream",
     "text": [
      "tempsc: [7, 11, 9, 10, 1, -1, 4]\n",
      "tempsf: [44.6, 51.8, 48.2, 50.0, 33.8, 30.2, 39.2]\n",
      "pairs : [('monday', 44.6), ('tuesday', 51.8), ('wednesday', 48.2), ('thursday', 50.0), ('friday', 33.8), ('saturday', 30.2), ('sunday', 39.2)]\n"
     ]
    }
   ],
   "source": [
    "\n",
    "days = [\"monday\", \"tuesday\", \"wednesday\", \"thursday\", \"friday\", \"saturday\", \"sunday\"]\n",
    "tempsc = [7, 11, 9, 10, 1, -1, 4]\n",
    "\n",
    "\n",
    "##### YOUR CODE HERE #####\n",
    "\n",
    "def c2f(tempc):\n",
    "    \"\"\"\n",
    "    Convert Celsius temperature to degrees Fahrenheit.\n",
    "\n",
    "    Parameters\n",
    "    ----------\n",
    "    tempc: float\n",
    "        Temperature in degrees Celsius.\n",
    "\n",
    "    Returns\n",
    "    -------\n",
    "    float\n",
    "        Temperature in degrees Fahrenheit.\n",
    "    \"\"\"\n",
    "    return (9 / 5) * tempc + 32\n",
    "\n",
    "\n",
    "\n",
    "# Part 2. \n",
    "tempsf = []\n",
    "\n",
    "for tempc in tempsc:\n",
    "\n",
    "    f = c2f(tempc)\n",
    "\n",
    "    tempsf.append(f)\n",
    "\n",
    "\n",
    "\n",
    "# Part 3. \n",
    "tempsf = [c2f(i) for i in tempsc]\n",
    "\n",
    "\n",
    "\n",
    "# Part 4.\n",
    "pairs = list(zip(days, tempsf))\n",
    "\n",
    "\n",
    "print(f\"tempsc: {tempsc}\")\n",
    "print(f\"tempsf: {tempsf}\")\n",
    "print(f\"pairs : {pairs}\")\n",
    "\n"
   ]
  },
  {
   "cell_type": "markdown",
   "metadata": {},
   "source": [
    "\n",
    "<br>\n",
    "\n",
    "Say we wanted to associate each day in the `days` list with its position. We can use `enumerate`: \n"
   ]
  },
  {
   "cell_type": "code",
   "execution_count": 18,
   "metadata": {},
   "outputs": [
    {
     "name": "stdout",
     "output_type": "stream",
     "text": [
      "days_with_pos: [(0, 'monday'), (1, 'tuesday'), (2, 'wednesday'), (3, 'thursday'), (4, 'friday'), (5, 'saturday'), (6, 'sunday')]\n"
     ]
    }
   ],
   "source": [
    "\n",
    "days = [\"monday\", \"tuesday\", \"wednesday\", \"thursday\", \"friday\", \"saturday\", \"sunday\"]\n",
    "\n",
    "days_with_pos = enumerate(days)\n",
    "\n",
    "print(f\"days_with_pos: {list(days_with_pos)}\")\n"
   ]
  },
  {
   "cell_type": "markdown",
   "metadata": {},
   "source": [
    "\n",
    "<br>\n",
    "\n",
    "It is possible to start the enumeration at a value other than 0 by passing a starting value:"
   ]
  },
  {
   "cell_type": "code",
   "execution_count": 19,
   "metadata": {},
   "outputs": [
    {
     "name": "stdout",
     "output_type": "stream",
     "text": [
      "days_with_pos: [(1, 'monday'), (2, 'tuesday'), (3, 'wednesday'), (4, 'thursday'), (5, 'friday'), (6, 'saturday'), (7, 'sunday')]\n"
     ]
    }
   ],
   "source": [
    "\n",
    "days = [\"monday\", \"tuesday\", \"wednesday\", \"thursday\", \"friday\", \"saturday\", \"sunday\"]\n",
    "\n",
    "days_with_pos = enumerate(days, start=1)\n",
    "\n",
    "print(f\"days_with_pos: {list(days_with_pos)}\")\n",
    "\n"
   ]
  },
  {
   "cell_type": "markdown",
   "metadata": {},
   "source": [
    "<br>\n",
    "\n",
    "It is also possible to \"unzip\" the list using `zip` with the `*` operator:"
   ]
  },
  {
   "cell_type": "code",
   "execution_count": 20,
   "metadata": {},
   "outputs": [
    {
     "name": "stdout",
     "output_type": "stream",
     "text": [
      "pos: (1, 2, 3, 4, 5, 6, 7)\n",
      "days: ('monday', 'tuesday', 'wednesday', 'thursday', 'friday', 'saturday', 'sunday')\n"
     ]
    }
   ],
   "source": [
    "\n",
    "days_with_pos = enumerate(days, start=1)\n",
    "\n",
    "pos, days = zip(*days_with_pos)\n",
    "\n",
    "print(f\"pos: {pos}\")   \n",
    "print(f\"days: {days}\")\n",
    "\n"
   ]
  },
  {
   "cell_type": "markdown",
   "metadata": {},
   "source": [
    "\n",
    "<br>\n",
    "\n",
    "###"
   ]
  },
  {
   "cell_type": "markdown",
   "metadata": {},
   "source": [
    "<br>\n",
    "\n",
    "### Adding a Condition\n",
    "\n",
    "Part of the usefulness of list comprehensions is that they give us the ability to filter results concisely. In our first example, we squared the integers from 0-9. Assume we're only interested in retaining the squares of even integers from 0-9. Using the for-append pattern, we might do:"
   ]
  },
  {
   "cell_type": "code",
   "execution_count": 21,
   "metadata": {},
   "outputs": [
    {
     "name": "stdout",
     "output_type": "stream",
     "text": [
      "even_squares: [0, 4, 16, 36, 64]\n"
     ]
    }
   ],
   "source": [
    "\n",
    "# For-append. \n",
    "even_squares = []\n",
    "for i in range(10):\n",
    "    if i % 2 == 0:\n",
    "        even_squares.append(i**2)\n",
    "\n",
    "print(f\"even_squares: {even_squares}\")\n"
   ]
  },
  {
   "cell_type": "code",
   "execution_count": 22,
   "metadata": {},
   "outputs": [
    {
     "name": "stdout",
     "output_type": "stream",
     "text": [
      "even_squares: [0, 4, 16, 36, 64]\n"
     ]
    }
   ],
   "source": [
    "\n",
    "# List comprehension: [expression for item in iterable if condition]\n",
    "even_squares = [i**2 for i in range(10) if i % 2 == 0]\n",
    "\n",
    "print(f\"even_squares: {even_squares}\")\n"
   ]
  },
  {
   "cell_type": "markdown",
   "metadata": {},
   "source": [
    "\n",
    "<br>\n",
    "\n",
    "\n",
    "### **Checkpoint \\#4:**\n",
    "\n",
    "The `dna` list below contains subsequences of DNA that you need to analyze. Create a new list `dna2` which contains those subsequences with at least 2 \"A\"s. For example, if the list consisted of:\n",
    "\n",
    "> AGCTAA  TTTTGC AGCTTTTT\n",
    "\n",
    "Only `AGCTAA` should be returned. Print the contents of `dna2`. \n",
    "\n",
    "**HINT:** Which string method 'counts' the occurances of a character in a string?"
   ]
  },
  {
   "cell_type": "code",
   "execution_count": 23,
   "metadata": {},
   "outputs": [
    {
     "name": "stdout",
     "output_type": "stream",
     "text": [
      "dna2: ['AGCTTTTCATT', 'GATAGCAGC', 'ACTAAAC', 'ATCCGTCTA', 'CCGAGAAGCGGCAC', 'GCACGGCTGGCGAC']\n"
     ]
    }
   ],
   "source": [
    "\n",
    "dna = [\n",
    "    \"AGCTTTTCATT\", \"GATAGCAGC\", \"GTCTC\", \"CGGGCA\", \"TTTTTTTT\", \n",
    "    \"ACTAAAC\", \"ACTCGGGG\", \"ATCCGTCTA\", \"GATCGCC\", \"CCGAGAAGCGGCAC\",\n",
    "    \"TCGCCCTTG\", \"TCGCGTCGGCCCAT\", \"GTGCCGCTCCG\", \"CTTTTTGTTA\", \n",
    "    \"GCACGGCTGGCGAC\", \"ACTCTCCGTT\"\n",
    "    ]\n",
    "\n",
    "##### YOUR CODE HERE #####\n",
    "\n",
    "dna2 = [i for i in dna if i.count(\"A\") >= 2]\n",
    "\n",
    "print(f\"dna2: {dna2}\")\n",
    "\n",
    "\n"
   ]
  },
  {
   "cell_type": "markdown",
   "metadata": {},
   "source": [
    "<br>\n",
    "\n",
    "### **Checkpoint \\#5:**\n",
    "\n",
    "Sort `dna2` in ascending order of subsequence length. Use `zip` to create a list of 2-tuples with the number of As in the subsequence, along with the original subsequence. For example, if the sorted `dna2` consists of:\n",
    "\n",
    "> AATTAA AATTCCGG AATTAACCGG\n",
    "\n",
    "The final result should be:\n",
    "\n",
    "> [(4, \"AATTAA\"), (2, \"AATTCCGG\"), (4, \"AATTAACCGG\")]\n",
    "\n",
    "Print the resulting list."
   ]
  },
  {
   "cell_type": "code",
   "execution_count": null,
   "metadata": {},
   "outputs": [],
   "source": [
    "\n",
    "##### YOUR CODE HERE #####\n"
   ]
  },
  {
   "cell_type": "markdown",
   "metadata": {},
   "source": [
    "\n",
    "<br>\n",
    "\n",
    "It is also possible to represent nested for loops in a list comprehension, although this can start to get messy. I've included an example here for completeness, but this style of development is not highly recommended:"
   ]
  },
  {
   "cell_type": "code",
   "execution_count": null,
   "metadata": {},
   "outputs": [],
   "source": [
    "\n",
    "# Traditional way using nested loops.\n",
    "pairs = []\n",
    "for x in range(3):\n",
    "    for y in range(3):\n",
    "        pairs.append((x, y))\n",
    "\n",
    "print(f\"Pairs using nested loops: {pairs}\")\n",
    "\n",
    "# Using list comprehension.\n",
    "pairs = [(x, y) for x in range(3) for y in range(3)]\n",
    "print(f\"Pairs using list comprehension: {pairs}\")\n"
   ]
  },
  {
   "cell_type": "markdown",
   "metadata": {},
   "source": [
    "\n",
    "<br>\n",
    "\n",
    "There are other types of comprehensions in Python, specifically dictionary comprehensions. We cover dictionaries in more detail in Module 8, but in brief, dictionaries are a type of collection that allows you to store data in key-value pairs. They are mutable, meaning you can change their content without changing their identity, and they are unordered, meaning they do not keep their elements in any particular order. A few sample dictionaries:"
   ]
  },
  {
   "cell_type": "code",
   "execution_count": null,
   "metadata": {},
   "outputs": [],
   "source": [
    "\n",
    "# Simple dictionary.\n",
    "person = {\n",
    "    \"name\": \"John\",\n",
    "    \"age\": 30,\n",
    "    \"city\": \"New York\"\n",
    "    }\n",
    "\n",
    "# Mixed data types.\n",
    "mixed_data = {\n",
    "    \"name\": \"Alice\",\n",
    "    \"age\": 25,\n",
    "    \"is_student\": True,\n",
    "    \"courses\": [\"Math\", \"Science\", \"English\"],\n",
    "    \"address\": {\n",
    "        \"street\": \"123 Main St\",\n",
    "        \"city\": \"Boston\",\n",
    "        \"zip\": \"02110\"\n",
    "    }\n",
    "}\n",
    "\n",
    "# Dictionary with lists as values.\n",
    "student_courses = {\n",
    "    \"Alice\": [\"Math\", \"Science\"],\n",
    "    \"Bob\": [\"English\", \"History\"],\n",
    "    \"Charlie\": [\"Art\", \"Math\"]\n",
    "}\n"
   ]
  },
  {
   "cell_type": "markdown",
   "metadata": {},
   "source": [
    "\n",
    "<br>\n",
    "\n",
    "If we have two lists of the same length and wish to associate the values at each index as key value pairs, we can use a dictionary comprehension:"
   ]
  },
  {
   "cell_type": "code",
   "execution_count": 24,
   "metadata": {},
   "outputs": [
    {
     "data": {
      "text/plain": [
       "{'monday': 7,\n",
       " 'tuesday': 11,\n",
       " 'wednesday': 9,\n",
       " 'thursday': 10,\n",
       " 'friday': 1,\n",
       " 'saturday': -1,\n",
       " 'sunday': 4}"
      ]
     },
     "execution_count": 24,
     "metadata": {},
     "output_type": "execute_result"
    }
   ],
   "source": [
    "days = [\"monday\", \"tuesday\", \"wednesday\", \"thursday\", \"friday\", \"saturday\", \"sunday\"]\n",
    "\n",
    "tempsc = [7, 11, 9, 10, 1, -1, 4]\n",
    "\n",
    "# Creation dictionary mapping each day to a temperature. \n",
    "dtemps = {k: v for k, v in zip(days, tempsc)}\n",
    "\n",
    "dtemps\n"
   ]
  },
  {
   "cell_type": "markdown",
   "metadata": {},
   "source": [
    "\n",
    "<br>\n",
    "\n",
    "The temperature for a given day can be obtained using bracket notation:"
   ]
  },
  {
   "cell_type": "code",
   "execution_count": 25,
   "metadata": {},
   "outputs": [
    {
     "data": {
      "text/plain": [
       "-1"
      ]
     },
     "execution_count": 25,
     "metadata": {},
     "output_type": "execute_result"
    }
   ],
   "source": [
    "\n",
    "# Get temperature for saturday.\n",
    "dtemps[\"saturday\"]\n"
   ]
  },
  {
   "cell_type": "markdown",
   "metadata": {},
   "source": [
    "\n",
    "<br>\n",
    "\n",
    "## Tuples\n",
    "\n",
    "Tuples are ordered, immutable collections of elements in Python. They are similar to lists, but they are unchangeable once created. This means you cannot add, remove, or modify elements in a tuple.\n",
    "\n",
    "Here's a breakdown of key points about tuples:\n",
    "\n",
    "- Creation: Tuples are enclosed in parentheses `()` and separated by commas.\n",
    "- Mutability: They are immutable, meaning their content cannot be changed after creation.\n",
    "- Elements: Can hold elements of different data types (integers, strings, booleans, etc.)\n",
    "- Indexing: Elements can be accessed using their index, starting from 0.\n",
    "\n",
    "\n",
    "Creating a simple tuple:\n"
   ]
  },
  {
   "cell_type": "code",
   "execution_count": 26,
   "metadata": {},
   "outputs": [
    {
     "name": "stdout",
     "output_type": "stream",
     "text": [
      "<class 'tuple'>\n",
      "(1, 'apple', 3.14)\n"
     ]
    }
   ],
   "source": [
    "\n",
    "tt = (1, \"apple\", 3.14)\n",
    "\n",
    "print(type(tt))\n",
    "print(tt)\n"
   ]
  },
  {
   "cell_type": "markdown",
   "metadata": {},
   "source": [
    "Accessing elements using index:"
   ]
  },
  {
   "cell_type": "code",
   "execution_count": 27,
   "metadata": {},
   "outputs": [
    {
     "name": "stdout",
     "output_type": "stream",
     "text": [
      "apple\n"
     ]
    }
   ],
   "source": [
    "\n",
    "fruit = tt[1]  # Accessing the second element.\n",
    "print(fruit)   # Output: apple.\n"
   ]
  },
  {
   "cell_type": "markdown",
   "metadata": {},
   "source": [
    "Tuples with single element:"
   ]
  },
  {
   "cell_type": "code",
   "execution_count": 28,
   "metadata": {},
   "outputs": [
    {
     "data": {
      "text/plain": [
       "('hello',)"
      ]
     },
     "execution_count": 28,
     "metadata": {},
     "output_type": "execute_result"
    }
   ],
   "source": [
    "\n",
    "one_element = (\"hello\",)  # Note the comma after the element.\n",
    "\n",
    "one_element\n"
   ]
  },
  {
   "cell_type": "markdown",
   "metadata": {},
   "source": [
    "Attempting to update an element of a tuple:"
   ]
  },
  {
   "cell_type": "code",
   "execution_count": 29,
   "metadata": {},
   "outputs": [
    {
     "ename": "TypeError",
     "evalue": "'tuple' object does not support item assignment",
     "output_type": "error",
     "traceback": [
      "\u001b[1;31m---------------------------------------------------------------------------\u001b[0m",
      "\u001b[1;31mTypeError\u001b[0m                                 Traceback (most recent call last)",
      "Cell \u001b[1;32mIn[29], line 3\u001b[0m\n\u001b[0;32m      1\u001b[0m tt \u001b[38;5;241m=\u001b[39m (\u001b[38;5;124m\"\u001b[39m\u001b[38;5;124mrice\u001b[39m\u001b[38;5;124m\"\u001b[39m, \u001b[38;5;124m\"\u001b[39m\u001b[38;5;124mapples\u001b[39m\u001b[38;5;124m\"\u001b[39m, \u001b[38;5;124m\"\u001b[39m\u001b[38;5;124mcherries\u001b[39m\u001b[38;5;124m\"\u001b[39m, \u001b[38;5;124m\"\u001b[39m\u001b[38;5;124mbroth\u001b[39m\u001b[38;5;124m\"\u001b[39m)\n\u001b[1;32m----> 3\u001b[0m \u001b[43mtt\u001b[49m\u001b[43m[\u001b[49m\u001b[38;5;241;43m0\u001b[39;49m\u001b[43m]\u001b[49m \u001b[38;5;241m=\u001b[39m \u001b[38;5;124m\"\u001b[39m\u001b[38;5;124mcabbage\u001b[39m\u001b[38;5;124m\"\u001b[39m \u001b[38;5;66;03m# TypeError\u001b[39;00m\n",
      "\u001b[1;31mTypeError\u001b[0m: 'tuple' object does not support item assignment"
     ]
    },
    {
     "ename": "",
     "evalue": "",
     "output_type": "error",
     "traceback": [
      "\u001b[1;31mThe Kernel crashed while executing code in the current cell or a previous cell. \n",
      "\u001b[1;31mPlease review the code in the cell(s) to identify a possible cause of the failure. \n",
      "\u001b[1;31mClick <a href='https://aka.ms/vscodeJupyterKernelCrash'>here</a> for more info. \n",
      "\u001b[1;31mView Jupyter <a href='command:jupyter.viewOutput'>log</a> for further details."
     ]
    }
   ],
   "source": [
    "\n",
    "tt = (\"rice\", \"apples\", \"cherries\", \"broth\")\n",
    "\n",
    "tt[0] = \"cabbage\" # TypeError\n",
    "\n"
   ]
  },
  {
   "cell_type": "markdown",
   "metadata": {},
   "source": [
    "Things to Remember:\n",
    "\n",
    "- Unlike lists, attempting to modify a tuple element will result in an error.\n",
    "- Tuples can be used as dictionary keys since they are immutable and hashable (meaning they can be used as unique identifiers in dictionaries).\n",
    "- Tuples are often used for representing fixed datasets or configurations.\n"
   ]
  }
 ],
 "metadata": {
  "kernelspec": {
   "display_name": "Python 3",
   "language": "python",
   "name": "python3"
  },
  "language_info": {
   "codemirror_mode": {
    "name": "ipython",
    "version": 3
   },
   "file_extension": ".py",
   "mimetype": "text/x-python",
   "name": "python",
   "nbconvert_exporter": "python",
   "pygments_lexer": "ipython3",
   "version": "3.12.0"
  }
 },
 "nbformat": 4,
 "nbformat_minor": 2
}
