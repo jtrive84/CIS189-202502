{
 "cells": [
  {
   "cell_type": "markdown",
   "metadata": {},
   "source": [
    "## CIS189 Module \\#1\n",
    "---\n",
    "Author: James D. Triveri\n",
    "\n",
    "---\n",
    "\n"
   ]
  },
  {
   "cell_type": "markdown",
   "metadata": {},
   "source": [
    "### Compiled Languages\n",
    "\n",
    "Compiled languages are converted directly into machine code that the processor can execute. As a result, they tend to be faster and more efficient to execute than interpreted languages. They also give the developer more control over hardware aspects, like memory management and CPU usage.\n",
    "\n",
    "Examples of compiled languages:\n",
    "\n",
    "- C/C++\n",
    "- Go\n",
    "- Rust\n",
    "- Erlang\n",
    "- Haskell\n",
    "\n",
    "\n",
    "### Interpreted Languages\n",
    "\n",
    "Interpreters run through a program line by line and execute each command.\n",
    "It is one where the instructions are not directly executed by the target machine, \n",
    "but instead, read and executed by some other program (i.e. the Python interpreter).\n",
    "\n",
    "Examples of interpreted languages:\n",
    "\n",
    "- Javascript\n",
    "- Python\n",
    "- Ruby\n",
    "- Perl\n",
    "\n",
    "\n",
    "\n",
    "\n",
    "Java can be considered both a compiled and an interpreted language because its source code is first compiled into a bytecode. This bytecode runs on the Java Virtual Machine (JVM), which is usually a software-based interpreter. \n",
    "\n",
    "Most programming languages can have both compiled and interpreted implementations – the language itself is not necessarily compiled or interpreted. However, for simplicity’s sake, they’re typically referred to as such.\n",
    "\n",
    "\n"
   ]
  },
  {
   "cell_type": "markdown",
   "metadata": {},
   "source": [
    "### Topic \\#2: Data types and Variables\n",
    "---\n",
    "\n",
    "> Read [Fancier Output Fomratting](https://docs.python.org/3/tutorial/inputoutput.html#fancier-output-formatting) \n",
    "> from the Python documentation to learn what f-strings are and how to use them.\n",
    "\n",
    "\n",
    "Python is a dynamically typed language. What does that mean? Unlike statically types languages, it is not necessary to specify the type of a variable (string, integer, float) when it is defined. It means that the type of the variable is determined only at runtime. Also, it is possible to change the type of a variable within the same program (just because you can do this doesn't mean you should; it is generally bad programming practice to change the type of a variable within a program):"
   ]
  },
  {
   "cell_type": "code",
   "execution_count": 46,
   "metadata": {},
   "outputs": [],
   "source": [
    "# Create variable name set to \"Enrico Fermi\". \n",
    "name = \"Enrico Fermi\"\n",
    "\n",
    "# At some point later in the program, set name to a list of integers.\n",
    "# Valid Python!\n",
    "name = [3, 4, 5, 6, 7]"
   ]
  },
  {
   "cell_type": "markdown",
   "metadata": {},
   "source": [
    "A very useful function in Python is `type`. It lets you know the data type of the variable you pass to it. \n",
    "Let's modify our program to print the type of `name` when it was initially defined and after we changed it:"
   ]
  },
  {
   "cell_type": "code",
   "execution_count": 48,
   "metadata": {},
   "outputs": [
    {
     "name": "stdout",
     "output_type": "stream",
     "text": [
      "type(name) initially: <class 'str'>\n",
      "type(name) after change: <class 'list'>\n"
     ]
    }
   ],
   "source": [
    "# Create variable name set to \"Enrico Fermi\". \n",
    "name = \"Enrico Fermi\"\n",
    "\n",
    "print(f\"type(name) initially: {type(name)}\")\n",
    "\n",
    "# At some point later in the program, set name to a list of integers.\n",
    "# Valid Python!\n",
    "name = [3, 4, 5, 6, 7]\n",
    "\n",
    "print(f\"type(name) after change: {type(name)}\")\n"
   ]
  },
  {
   "cell_type": "markdown",
   "metadata": {},
   "source": [
    "\n",
    "Variable names are case-sensitive. The convention in Python is to use lowercase characters with words separated by underscores (sometimes referred to as [\"snake case\"](https://en.wikipedia.org/wiki/Snake_case)), and title case for class definitions. You are free to name your variables as you wish, but snake case should be preferred. Here are a few examples of variable names that adhere to the snake case convention and others that do not:"
   ]
  },
  {
   "cell_type": "code",
   "execution_count": 49,
   "metadata": {},
   "outputs": [],
   "source": [
    "# Snake case compliant variable names. \n",
    "capital_of_iowa = \"Des Moines\"\n",
    "hours_in_day = 24\n",
    "days_in_july = 31\n",
    "eye_for_an_eye = False\n",
    "dark_side_of_the_moon = 1973\n",
    "\n",
    "\n",
    "# non-compliant variable names, but will still work.\n",
    "capitalOfIowa = \"Des Moines\"\n",
    "hoursInDay = 25\n",
    "DaysInJuly = 31\n",
    "Eye4AnEye = False\n",
    "DarksideOftheMoon = 1973\n"
   ]
  },
  {
   "cell_type": "markdown",
   "metadata": {},
   "source": [
    "\n",
    "Numbers can be used in variable names, but not as the first character. Also, `_` is the only non-alphanumeric character that can be used in variable names. \n",
    "\n",
    "\n",
    "#### Comments and Docstrings\n",
    "Comments in Python are specified using `#`. Whenever the interpeter comes across `#`, everything to the right of it is ignored. \n",
    "A few examples of how comments can be used:"
   ]
  },
  {
   "cell_type": "code",
   "execution_count": 50,
   "metadata": {},
   "outputs": [],
   "source": [
    "# Compute the difference between each element of ll and a.\n",
    "a = 7\n",
    "ll = [14, 16, 18, 20, 22]\n",
    "diffs = [i - a for i in ll]\n",
    "\n",
    "\n",
    "for i in diffs:\n",
    "    if i < 10: # Remove element from diffs if less than 10.\n",
    "        diffs.remove(i)\n"
   ]
  },
  {
   "cell_type": "markdown",
   "metadata": {},
   "source": [
    "Docstrings are used to provide information about a function or class. They are specified at the time the function is created, and should help the user understand the purpose of the function (or class). Docstrings are enclosed in triple quotes. Here's an example:\n"
   ]
  },
  {
   "cell_type": "code",
   "execution_count": 52,
   "metadata": {},
   "outputs": [],
   "source": [
    "\n",
    "import math\n",
    "\n",
    "\n",
    "def isprime(n):\n",
    "    \"\"\"\n",
    "    Determine whether or not n is prime.\n",
    "\n",
    "    Parameters\n",
    "    ----------\n",
    "    n: int\n",
    "        Number to test for primality.\n",
    "\n",
    "    Returns\n",
    "    -------\n",
    "    bool\n",
    "    \"\"\"\n",
    "    if n in (2, 3, 5, 7, 11, 13, 17, 19): \n",
    "        return(True)\n",
    "    if (n <= 1 or n % 2 == 0 or n % 3 == 0): \n",
    "        return(False)\n",
    "\n",
    "    # Determine upper limit of test range.\n",
    "    ulimit = (int(math.ceil(math.sqrt(n))) + 1)\n",
    "    test = not any(n % k == 0 for k in range(3, ulimit, 2))\n",
    "    return test\n",
    "\n"
   ]
  },
  {
   "cell_type": "markdown",
   "metadata": {},
   "source": [
    "#### Topic \\#3: Arithmetic Operations\n",
    "\n",
    "Python features arbitrary-precision arithmetic, where calculations are performed on numbers whose digits of precision are limited only by the available memory of the host system. This differs from a language like C, where the maximum integer value is 2147483647."
   ]
  },
  {
   "cell_type": "code",
   "execution_count": 4,
   "metadata": {},
   "outputs": [
    {
     "name": "stdout",
     "output_type": "stream",
     "text": [
      "a: 24; type(a): <class 'int'>\n",
      "b: 24.0; type(b): <class 'float'>\n",
      "c: 24.0; type(c): <class 'float'>\n"
     ]
    }
   ],
   "source": [
    "\n",
    "# Addition of ints, floats and mixed types. \n",
    "\n",
    "a = 3 + 5 + 7 + 9\n",
    "\n",
    "b = 3.0 + 5.0 + 7.0 + 9\n",
    "\n",
    "c = 3 + 5.0 + 7.0 + 9.0\n",
    "\n",
    "print(f\"a: {a}; type(a): {type(a)}\")\n",
    "print(f\"b: {b}; type(b): {type(b)}\")\n",
    "print(f\"c: {c}; type(c): {type(c)}\")\n"
   ]
  },
  {
   "cell_type": "code",
   "execution_count": 10,
   "metadata": {},
   "outputs": [
    {
     "name": "stdout",
     "output_type": "stream",
     "text": [
      "a: 2.2; type(a): <class 'float'>\n",
      "b: 2.2; type(b): <class 'float'>\n"
     ]
    }
   ],
   "source": [
    "\n",
    "# Division treats both numerator and denominator as floats.\n",
    "a = 11 / 5\n",
    "b = 11.0 / 5.0 \n",
    "\n",
    "print(f\"a: {a}; type(a): {type(a)}\")\n",
    "print(f\"b: {b}; type(b): {type(b)}\")\n"
   ]
  },
  {
   "cell_type": "code",
   "execution_count": null,
   "metadata": {},
   "outputs": [],
   "source": [
    "\n",
    "# Integer division.\n",
    "c = 11 // 5\n",
    "d = 11.0 // 5.0\n",
    "e = 11 / 5.0\n",
    "\n",
    "\n",
    "print(f\"a: {c}; type(c): {type(c)}\")\n",
    "print(f\"b: {d}; type(d): {type(d)}\")\n",
    "print(f\"c: {e}; type(e): {type(e)}\")"
   ]
  },
  {
   "cell_type": "code",
   "execution_count": null,
   "metadata": {},
   "outputs": [],
   "source": [
    "# Modulus operator (`%`) returns the remainder. \n",
    "\n",
    "11 % 5\n"
   ]
  },
  {
   "cell_type": "code",
   "execution_count": 31,
   "metadata": {},
   "outputs": [
    {
     "name": "stdout",
     "output_type": "stream",
     "text": [
      "15 % 8 : 7\n",
      "15 % 6 : 3\n",
      "10 % 6 : 0\n",
      "99 % 1 : 0\n",
      "17 % 17: 0\n"
     ]
    }
   ],
   "source": [
    "\n",
    "# Modulus examples.\n",
    "print(f\"15 % 8  : {15 % 8}\")\n",
    "print(f\"15 % 6  : {15 % 6}\")\n",
    "print(f\"10 % 6  : {10 % 5}\")\n",
    "print(f\"99 % 1  : {99 % 1}\")\n",
    "print(f\"17 % 17 : {17 % 17}\")\n"
   ]
  },
  {
   "cell_type": "markdown",
   "metadata": {},
   "source": [
    "A common use of the modulus operator is to filter a list of values down to even or odd elements.\n"
   ]
  },
  {
   "cell_type": "code",
   "execution_count": 53,
   "metadata": {},
   "outputs": [
    {
     "name": "stdout",
     "output_type": "stream",
     "text": [
      "[0, 1, 2, 3, 4, 5, 6, 7, 8, 9, 10, 11, 12, 13, 14, 15, 16, 17, 18, 19, 20, 21, 22, 23, 24, 25, 26, 27, 28, 29, 30, 31, 32, 33, 34, 35, 36, 37, 38, 39, 40, 41, 42, 43, 44, 45, 46, 47, 48, 49, 50]\n"
     ]
    }
   ],
   "source": [
    "# range creates an ordered sequence of numbers.\n",
    "print(list(range(51)))"
   ]
  },
  {
   "cell_type": "code",
   "execution_count": 54,
   "metadata": {},
   "outputs": [
    {
     "name": "stdout",
     "output_type": "stream",
     "text": [
      "[1, 3, 5, 7, 9, 11, 13, 15, 17, 19, 21, 23, 25, 27, 29, 31, 33, 35, 37, 39, 41, 43, 45, 47, 49]\n"
     ]
    }
   ],
   "source": [
    "# Find odd numbers up to 50.\n",
    "odds = []\n",
    "\n",
    "for i in range(51):\n",
    "    if i % 2 != 0:\n",
    "        # Add i to odds. \n",
    "        odds.append(i)\n",
    "\n",
    "print(odds)"
   ]
  },
  {
   "cell_type": "code",
   "execution_count": 40,
   "metadata": {},
   "outputs": [
    {
     "name": "stdout",
     "output_type": "stream",
     "text": [
      "[1, 3, 5, 7, 9, 11, 13, 15, 17, 19, 21, 23, 25, 27, 29, 31, 33, 35, 37, 39, 41, 43, 45, 47, 49]\n"
     ]
    }
   ],
   "source": [
    "\n",
    "# Even better, using a list comprehension.\n",
    "odds = [i for i in range(51) if i % 2 != 0]\n",
    "\n",
    "print(odds)\n"
   ]
  },
  {
   "cell_type": "markdown",
   "metadata": {},
   "source": [
    "How can we modify this logic to return only the even numbers up to 50?"
   ]
  },
  {
   "cell_type": "code",
   "execution_count": 41,
   "metadata": {},
   "outputs": [
    {
     "name": "stdout",
     "output_type": "stream",
     "text": [
      "[0, 2, 4, 6, 8, 10, 12, 14, 16, 18, 20, 22, 24, 26, 28, 30, 32, 34, 36, 38, 40, 42, 44, 46, 48, 50]\n"
     ]
    }
   ],
   "source": [
    "\n",
    "evens = []\n",
    "\n",
    "for i in range(51):\n",
    "    if i % 2 == 0:\n",
    "        # Add i to odds. \n",
    "        evens.append(i)\n",
    "\n",
    "print(evens)\n"
   ]
  },
  {
   "cell_type": "code",
   "execution_count": 43,
   "metadata": {},
   "outputs": [
    {
     "name": "stdout",
     "output_type": "stream",
     "text": [
      "[0, 2, 4, 6, 8, 10, 12, 14, 16, 18, 20, 22, 24, 26, 28, 30, 32, 34, 36, 38, 40, 42, 44, 46, 48, 50]\n"
     ]
    }
   ],
   "source": [
    "\n",
    "# Using a list comprehension.\n",
    "evens = [i for i in range(51) if i % 2 == 0]\n",
    "\n",
    "print(evens)"
   ]
  },
  {
   "cell_type": "code",
   "execution_count": 33,
   "metadata": {},
   "outputs": [
    {
     "data": {
      "text/plain": [
       "32.0"
      ]
     },
     "execution_count": 33,
     "metadata": {},
     "output_type": "execute_result"
    }
   ],
   "source": [
    "# Exponentiation in Python (`**`)\n",
    "\n",
    "2**5\n"
   ]
  },
  {
   "cell_type": "code",
   "execution_count": 35,
   "metadata": {},
   "outputs": [
    {
     "name": "stdout",
     "output_type": "stream",
     "text": [
      "2**0 = 1\n",
      "2**1 = 2\n",
      "2**2 = 4\n",
      "2**3 = 8\n",
      "2**4 = 16\n"
     ]
    }
   ],
   "source": [
    "\n",
    "print(f\"2**0 = {2**0}\")\n",
    "print(f\"2**1 = {2**1}\")\n",
    "print(f\"2**2 = {2**2}\")\n",
    "print(f\"2**3 = {2**3}\")\n",
    "print(f\"2**4 = {2**4}\")"
   ]
  }
 ],
 "metadata": {
  "kernelspec": {
   "display_name": "Python 3",
   "language": "python",
   "name": "python3"
  },
  "language_info": {
   "codemirror_mode": {
    "name": "ipython",
    "version": 3
   },
   "file_extension": ".py",
   "mimetype": "text/x-python",
   "name": "python",
   "nbconvert_exporter": "python",
   "pygments_lexer": "ipython3",
   "version": "3.12.0"
  }
 },
 "nbformat": 4,
 "nbformat_minor": 2
}
