{
 "cells": [
  {
   "cell_type": "markdown",
   "metadata": {},
   "source": [
    "## CIS189 Module \\#3\n",
    "---\n",
    "Author: James D. Triveri\n",
    "\n",
    "---"
   ]
  },
  {
   "cell_type": "markdown",
   "metadata": {},
   "source": [
    "### `if/elif/else` statements\n",
    "\n",
    "- A line that starts with `if/elif/else` must end with `:`.\n",
    "\n",
    "- Code that comes after `if`, `elif` of `else` must be indented 4 characters."
   ]
  },
  {
   "cell_type": "code",
   "execution_count": null,
   "metadata": {},
   "outputs": [],
   "source": [
    "\n",
    "day = \"tuesday\"\n",
    "\n",
    "if day == \"tuesday\":\n",
    "    print(f\"Hello {day}!\")\n"
   ]
  },
  {
   "cell_type": "markdown",
   "metadata": {},
   "source": [
    "We can include `else` to print a message for all other days:"
   ]
  },
  {
   "cell_type": "code",
   "execution_count": null,
   "metadata": {},
   "outputs": [],
   "source": [
    "\n",
    "day = \"tuesday\"\n",
    "\n",
    "if day == \"tuesday\":\n",
    "    print(\"Hello tuesday!\")\n",
    "else:\n",
    "    print(\"Hello not tuesday!\")\n"
   ]
  },
  {
   "cell_type": "markdown",
   "metadata": {},
   "source": [
    "We can use `elif` (\"else if\") to get the number of the day of the week:"
   ]
  },
  {
   "cell_type": "code",
   "execution_count": null,
   "metadata": {},
   "outputs": [],
   "source": [
    "\n",
    "day = \"tuesday\"\n",
    "\n",
    "if day == \"monday\":\n",
    "    print(\"day 1\")\n",
    "elif day == \"tuesday\":\n",
    "    print(\"day 2\")\n",
    "elif day == \"wednesday\":\n",
    "    print(\"day 3\")\n",
    "elif day == \"thursday\":\n",
    "    print(\"day 4\")\n",
    "elif day == \"friday\":\n",
    "    print(\"day 5\")\n",
    "else:\n",
    "    print(\"weekend!\")\n",
    "\n"
   ]
  },
  {
   "cell_type": "markdown",
   "metadata": {},
   "source": [
    "We can check what season it is by comparing the current month to our different seasons lists. We handle all other strings not in the seasons lists within the else clause:"
   ]
  },
  {
   "cell_type": "code",
   "execution_count": null,
   "metadata": {},
   "outputs": [],
   "source": [
    "\n",
    "current_month = \"may\"\n",
    "\n",
    "# Assign each month to a seasons list. \n",
    "winter = [\"december\", \"january\", \"february\"]\n",
    "spring = [\"march\", \"april\", \"may\"]\n",
    "summer = [\"june\", \"july\", \"august\"]\n",
    "autumn = [\"september\", \"october\", \"november\"]\n",
    "\n",
    "\n",
    "if current_month in winter:\n",
    "    print(\"It is winter.\")\n",
    "\n",
    "elif current_month in spring:\n",
    "    print(\"It is spring.\")\n",
    "\n",
    "elif current_month in summer:\n",
    "    print(\"It is summer.\")\n",
    "\n",
    "elif current_month in autumn:\n",
    "    print(\"It is autumn.\")\n",
    "\n",
    "else:\n",
    "    print(\"Invalid month.\")\n",
    "\n"
   ]
  },
  {
   "cell_type": "markdown",
   "metadata": {},
   "source": [
    "If a test is satisfied at multiple levels, the first one will trigger, bypassing all other levels (\"short-circuiting\"):"
   ]
  },
  {
   "cell_type": "code",
   "execution_count": null,
   "metadata": {},
   "outputs": [],
   "source": [
    "\n",
    "import time\n",
    "\n",
    "if 1 == 1:\n",
    "    print(\"1 == 1\")\n",
    "\n",
    "elif 2 == 2:\n",
    "    print(\"going to sleep for a while...\")\n",
    "    time.sleep(1000000000)\n"
   ]
  },
  {
   "cell_type": "markdown",
   "metadata": {},
   "source": [
    "Check if number is even or odd:"
   ]
  },
  {
   "cell_type": "code",
   "execution_count": null,
   "metadata": {},
   "outputs": [],
   "source": [
    "\n",
    "n = 6\n",
    "\n",
    "if n % 2 == 0:\n",
    "    print(\"n is even\")\n",
    "else:\n",
    "    print(\"n is odd\")\n"
   ]
  },
  {
   "cell_type": "markdown",
   "metadata": {},
   "source": [
    "It is possible to use Python's ternary operator to evaluate if/else in a single expression:"
   ]
  },
  {
   "cell_type": "code",
   "execution_count": null,
   "metadata": {},
   "outputs": [],
   "source": [
    "\n",
    "n = 6\n",
    "test = \"even\" if n % 2 == 0 else \"odd\"\n",
    "\n",
    "print(test)\n"
   ]
  },
  {
   "cell_type": "markdown",
   "metadata": {},
   "source": [
    "Divide `n` by 100 if `n` > 1 otherwise multiply by 100"
   ]
  },
  {
   "cell_type": "code",
   "execution_count": null,
   "metadata": {},
   "outputs": [],
   "source": [
    "\n",
    "n = .14\n",
    "\n",
    "# As if else:\n",
    "# if n / 100 > 1:\n",
    "#     result = n / 100\n",
    "# else:\n",
    "#     result = 100 * n\n",
    "    \n",
    "result = n / 100 if n > 1 else 100 * n\n",
    "\n",
    "print(result)\n",
    "\n",
    "\n"
   ]
  },
  {
   "cell_type": "markdown",
   "metadata": {},
   "source": [
    "### **Checkpoint \\#1:**\n",
    "\n",
    "In the next cell, a random integer is generated between -100 and 100. \n",
    "\n",
    "- If the number `n` is less than 0, print \"[value of n] is negative\". \n",
    "- If the number `n` is greater than 0, print \"[value of n] is positive\". \n",
    "- If the number `n` is equal to 0, print \"[value of n] is equal to 0\".\n",
    "\n",
    "\n"
   ]
  },
  {
   "cell_type": "code",
   "execution_count": null,
   "metadata": {},
   "outputs": [],
   "source": [
    "import random\n",
    "random.seed(516)\n",
    "\n",
    "n = random.randint(-100, 100)\n",
    "\n",
    "\n",
    "##### YOUR CODE HERE #####\n",
    "\n"
   ]
  },
  {
   "cell_type": "markdown",
   "metadata": {},
   "source": [
    "<br>\n",
    "\n",
    "### **Checkpoint \\#2:**\n",
    "\n",
    "In the next cell, a random color is drawn from `colors`. \n",
    "\n",
    "- If `color = \"green\"`, print \"go!\".\n",
    "- If `color = \"yellow\"`, print \"slow down!\".\n",
    "- If `color = \"red\"`, print \"stop!\".\n",
    "- If `color` is any other value, print \"signal broken\"."
   ]
  },
  {
   "cell_type": "code",
   "execution_count": null,
   "metadata": {},
   "outputs": [],
   "source": [
    "\n",
    "import random\n",
    "random.seed(516)\n",
    "\n",
    "colors = [\"green\", \"yellow\", \"red\", \"purple\"]\n",
    "\n",
    "color = random.choice(colors)\n",
    "\n",
    "##### YOUR CODE HERE #####\n",
    "\n"
   ]
  },
  {
   "cell_type": "markdown",
   "metadata": {},
   "source": [
    "\n",
    "<br>\n",
    "\n",
    "We can test against multiple conditions using `and/or`. When using `and`, every condition must be satisfied. When using `or`, only a single condition needs to be satisfied:"
   ]
  },
  {
   "cell_type": "markdown",
   "metadata": {},
   "source": [
    "\n",
    "Truth table for `and`:\n",
    "```\n",
    "\n",
    "-----------------------\n",
    "| cond1 | cond2 | AND |\n",
    "-----------------------\n",
    "|     1 |     1 |   1 |\n",
    "|     1 |     0 |   0 |\n",
    "|     0 |     1 |   0 |\n",
    "|     0 |     0 |   0 |\n",
    "-----------------------\n",
    "```\n",
    "\n",
    "<br>\n",
    "\n",
    "Truth table for `or`:\n",
    "\n",
    "```\n",
    "\n",
    "-----------------------\n",
    "| cond1 | cond2 |  OR |\n",
    "-----------------------\n",
    "|     1 |     1 |   1 |\n",
    "|     1 |     0 |   1 |\n",
    "|     0 |     1 |   1 |\n",
    "|     0 |     0 |   0 |\n",
    "-----------------------\n",
    "```\n"
   ]
  },
  {
   "cell_type": "code",
   "execution_count": null,
   "metadata": {},
   "outputs": [],
   "source": [
    "\n",
    "# Example testing multiple conditions with and.\n",
    "cond1 = True\n",
    "cond2 = True\n",
    "cond3 = True\n",
    "\n",
    "\n",
    "if cond1==True and cond2==True and cond3==True:\n",
    "# if cond1 and cond2 and cond3:\n",
    "    print(\"All conditions satisfied.\")\n",
    "else:\n",
    "    print(\"At least one condition not satisfied.\")\n"
   ]
  },
  {
   "cell_type": "code",
   "execution_count": null,
   "metadata": {},
   "outputs": [],
   "source": [
    "\n",
    "# Example testing multiple conditions with or.\n",
    "cond1 = True\n",
    "cond2 = False\n",
    "cond3 = False\n",
    "\n",
    "if cond1==True or cond2==True or cond3==True:\n",
    "# if cond1 and cond2 and cond3:\n",
    "    print(\"At least one condition satisfied.\")\n",
    "else:\n",
    "    print(\"No conditions satisfied.\")\n",
    "\n"
   ]
  },
  {
   "cell_type": "markdown",
   "metadata": {},
   "source": [
    "Nested conditionals:"
   ]
  },
  {
   "cell_type": "code",
   "execution_count": null,
   "metadata": {},
   "outputs": [],
   "source": [
    "\n",
    "# Test if n is positive, negative or 0. \n",
    "n = -15\n",
    "\n",
    "if n >= 0: \n",
    "    if n == 0: \n",
    "        print(\"n is zero\") \n",
    "    else: \n",
    "        print(\"n is positive\") \n",
    "else: \n",
    "    print(\"n is negative\") \n"
   ]
  }
 ],
 "metadata": {
  "kernelspec": {
   "display_name": "Python 3",
   "language": "python",
   "name": "python3"
  },
  "language_info": {
   "codemirror_mode": {
    "name": "ipython",
    "version": 3
   },
   "file_extension": ".py",
   "mimetype": "text/x-python",
   "name": "python",
   "nbconvert_exporter": "python",
   "pygments_lexer": "ipython3",
   "version": "3.12.0"
  }
 },
 "nbformat": 4,
 "nbformat_minor": 2
}
