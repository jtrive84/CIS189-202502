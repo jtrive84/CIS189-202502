{
 "cells": [
  {
   "cell_type": "markdown",
   "metadata": {},
   "source": [
    "## CIS189 Module \\#4\n",
    "---\n",
    "Author: James D. Triveri\n",
    "\n",
    "---\n",
    "\n",
    "\n",
    "  \n",
    "- Exception handling in Python: https://docs.python.org/3/tutorial/errors.html#handling-exceptions\n",
    "- List of built-in exceptions: https://docs.python.org/3/library/exceptions.html#bltin-exceptions\n"
   ]
  },
  {
   "cell_type": "markdown",
   "metadata": {},
   "source": [
    "### Exception handling\n",
    "\n",
    "Exception handling in Python is a mechanism for managing errors and other exceptional events that occur during program execution. It allows you to respond to these events in a controlled way, rather than allowing the program to crash. Exception handling is implemented using `try`, `except`, `else`, and `finally` blocks. Here’s a breakdown of each:\n",
    "\n",
    "- `try` block: This block contains the code that might raise an exception.\n",
    "\n",
    "- `except` block: This block catches and handles the exception if one occurs. You can specify the type of exception to catch.\n",
    "\n",
    "- `else` block: This block contains code that runs if no exceptions were raised in the try block.\n",
    "\n",
    "- `finally` block: This block contains code that will run no matter what, whether an exception was raised or not.\n",
    "\n",
    "\n",
    "We can use `try/except` blocks to catch errors and alter the control flow of our program to prevent it from crashing. For example, the following throws an error:"
   ]
  },
  {
   "cell_type": "code",
   "execution_count": 1,
   "metadata": {},
   "outputs": [
    {
     "ename": "ZeroDivisionError",
     "evalue": "division by zero",
     "output_type": "error",
     "traceback": [
      "\u001b[1;31m---------------------------------------------------------------------------\u001b[0m",
      "\u001b[1;31mZeroDivisionError\u001b[0m                         Traceback (most recent call last)",
      "Cell \u001b[1;32mIn[1], line 3\u001b[0m\n\u001b[0;32m      1\u001b[0m a \u001b[38;5;241m=\u001b[39m \u001b[38;5;241m7\u001b[39m\n\u001b[1;32m----> 3\u001b[0m result \u001b[38;5;241m=\u001b[39m \u001b[43ma\u001b[49m\u001b[43m \u001b[49m\u001b[38;5;241;43m/\u001b[39;49m\u001b[43m \u001b[49m\u001b[38;5;241;43m0\u001b[39;49m\n\u001b[0;32m      5\u001b[0m \u001b[38;5;28mprint\u001b[39m(\u001b[38;5;124m\"\u001b[39m\u001b[38;5;124mGoodbye\u001b[39m\u001b[38;5;124m\"\u001b[39m)\n",
      "\u001b[1;31mZeroDivisionError\u001b[0m: division by zero"
     ]
    }
   ],
   "source": [
    "\n",
    "a = 7\n",
    "\n",
    "result = a / 0\n",
    "\n",
    "print(\"Goodbye\")\n"
   ]
  },
  {
   "cell_type": "markdown",
   "metadata": {},
   "source": [
    "We can use a try/except block to catch the error. This will not result in an error being thrown: "
   ]
  },
  {
   "cell_type": "code",
   "execution_count": 2,
   "metadata": {},
   "outputs": [
    {
     "name": "stdout",
     "output_type": "stream",
     "text": [
      "Can't divide by 0.\n",
      "Goodbye\n"
     ]
    }
   ],
   "source": [
    "\n",
    "try:\n",
    "    numer = 7\n",
    "    denom = 0\n",
    "    result = numer / denom\n",
    "    print(f\"result: {result}\")\n",
    "\n",
    "except ZeroDivisionError:\n",
    "    print(\"Can't divide by 0.\")\n",
    "\n",
    "print(\"Goodbye\")   \n"
   ]
  },
  {
   "cell_type": "markdown",
   "metadata": {},
   "source": [
    "Best practices dictate that the exceptions you want to catch should be explicitly listed (like `ZeroDivisionError`), but you can use a naked except:\n"
   ]
  },
  {
   "cell_type": "code",
   "execution_count": 3,
   "metadata": {},
   "outputs": [
    {
     "name": "stdout",
     "output_type": "stream",
     "text": [
      "Can't divide by 0.\n",
      "Goodbye\n"
     ]
    }
   ],
   "source": [
    "\n",
    "numer = 7\n",
    "denom = 0\n",
    "\n",
    "try:\n",
    "    result = numer / denom\n",
    "    print(f\"result: {result}\")\n",
    "    \n",
    "except:\n",
    "    print(\"Can't divide by 0.\")\n",
    "\n",
    "print(\"Goodbye\")   \n"
   ]
  },
  {
   "cell_type": "markdown",
   "metadata": {},
   "source": [
    "We can include a `finally` block, which will execute whether an exception is thrown or not. In our previous example, we can move the print statement into the `finally` block:"
   ]
  },
  {
   "cell_type": "code",
   "execution_count": 5,
   "metadata": {},
   "outputs": [
    {
     "name": "stdout",
     "output_type": "stream",
     "text": [
      "result: 7.0\n",
      "Goodbye\n"
     ]
    }
   ],
   "source": [
    "\n",
    "numer = 7\n",
    "denom = 1\n",
    "\n",
    "try:\n",
    "    result = numer / denom\n",
    "    print(f\"result: {result}\")\n",
    "    \n",
    "except:\n",
    "    print(\"Can't divide by 0.\")\n",
    "\n",
    "finally:\n",
    "    print(\"Goodbye\")  \n"
   ]
  },
  {
   "cell_type": "markdown",
   "metadata": {},
   "source": [
    "`finally` is frequently used to perform cleanup actions, such as ensuring a file or database connection is closed, etc. \n",
    "\n",
    "\n",
    "**To sum up exception handling:**\n",
    "\n",
    "- The `try` block always executes. \n",
    "\n",
    "- If no exception occurs, the `except` clause is skipped and execution of the try statement is finished.\n",
    "\n",
    "- If an exception occurs during execution of the `try` clause, the rest of the clause is skipped. Then, if its type matches the exception named after the `except` keyword, the `except` clause is executed, and then execution continues after the `try/except` block.\n",
    "\n",
    "- Code within the `finally` block executes whether an exception is raised or not. \n",
    "\n"
   ]
  },
  {
   "cell_type": "code",
   "execution_count": 8,
   "metadata": {},
   "outputs": [
    {
     "name": "stdout",
     "output_type": "stream",
     "text": [
      "ticket price: 10\n"
     ]
    }
   ],
   "source": [
    "\n",
    "# An example on using try/except for input validation. Prompt user for age.\n",
    "# If they are younger than 18, ticket price is $5. Otherwise ticket price\n",
    "# is $10. If the input is not a valid number, ticket price is $10.\n",
    "\n",
    "try: \n",
    "    age = int(input(\"Enter age greater than 0: \"))\n",
    "\n",
    "    if age < 18:\n",
    "        ticket_price = 5\n",
    "    else:\n",
    "        ticket_price = 10\n",
    "\n",
    "except ValueError:\n",
    "    ticket_price = 10\n",
    "\n",
    "finally:\n",
    "    print(f\"ticket price: {ticket_price}\")\n"
   ]
  },
  {
   "cell_type": "markdown",
   "metadata": {},
   "source": [
    "Real-world example. This is how I handle exceptions in my Python code:"
   ]
  },
  {
   "cell_type": "code",
   "execution_count": 9,
   "metadata": {},
   "outputs": [
    {
     "name": "stdout",
     "output_type": "stream",
     "text": [
      "Exception thrown: invalid literal for int() with base 10: 'dog'\n",
      "ticket price: 10\n"
     ]
    }
   ],
   "source": [
    "\n",
    "try: \n",
    "    age = int(input(\"Enter age as integer greater than 0: \"))\n",
    "\n",
    "    if age < 18:\n",
    "        ticket_price = 5\n",
    "    else:\n",
    "        ticket_price = 10\n",
    "\n",
    "except Exception as ee:\n",
    "    print(f\"Exception thrown: {str(ee)}\")\n",
    "    ticket_price = 10\n",
    "\n",
    "finally:\n",
    "    print(f\"ticket price: {ticket_price}\")\n"
   ]
  },
  {
   "cell_type": "markdown",
   "metadata": {},
   "source": [
    "The purpose of using the `else` with `try-except` is to define a block of code that should be executed only if no exceptions were raised in the `try` block. The else block helps in keeping the code that should only run in the case of successful execution separate from the code that handles exceptions:"
   ]
  },
  {
   "cell_type": "code",
   "execution_count": 11,
   "metadata": {},
   "outputs": [
    {
     "name": "stdout",
     "output_type": "stream",
     "text": [
      "Invalid input! Please enter numeric values.\n"
     ]
    }
   ],
   "source": [
    "\n",
    "try:\n",
    "    # Code that might raise an exception\n",
    "    numer = float(input(\"Enter the numerator: \"))\n",
    "    denom = float(input(\"Enter the denominator: \"))\n",
    "    result = numer / denom\n",
    "\n",
    "except ValueError:\n",
    "    # Handle the case where the input is not a valid number\n",
    "    print(\"Invalid input! Please enter numeric values.\")\n",
    "\n",
    "except ZeroDivisionError:\n",
    "    # Handle the case where the denominator is zero\n",
    "    print(\"Error! Division by zero is not allowed.\")\n",
    "    \n",
    "else:\n",
    "    # This code runs if no exception was raised\n",
    "    print(f\"The result is {result}\")"
   ]
  },
  {
   "cell_type": "markdown",
   "metadata": {},
   "source": [
    "<br>\n",
    "\n",
    "### **Checkpoint \\#1**:\n",
    "\n",
    "Using a try-except block, try assigning the element at index 5 of `inner_planets` in the cell below to the variable `p`. If no such element exists, set `p = None`. Print the value assigned to `p`."
   ]
  },
  {
   "cell_type": "code",
   "execution_count": 18,
   "metadata": {},
   "outputs": [
    {
     "name": "stdout",
     "output_type": "stream",
     "text": [
      "Exception thrown: list index out of range\n",
      "p: None\n"
     ]
    }
   ],
   "source": [
    "\n",
    "inner_planets = [\"mercury\", \"venus\", \"earth\", \"mars\"]\n",
    "\n",
    "##### YOUR CODE HERE #####\n",
    "\n",
    "\n",
    "try:\n",
    "    p = inner_planets[5]\n",
    "\n",
    "except Exception as ee:\n",
    "    print(f\"Exception thrown: {str(ee)}\")\n",
    "    p = None\n",
    "\n",
    "finally:\n",
    "    print(f\"p: {p}\")\n"
   ]
  },
  {
   "cell_type": "markdown",
   "metadata": {},
   "source": [
    "### Functions\n",
    "\n",
    "A function is a named sequence of statements that performs a computation. When you define a function, you specify the name and the sequence of statements. Later you call the function by name. \n",
    "\n",
    "We've worked with functions already. When we've accessed the math or statistics library, `mean`, `sqrt`, `sin`, `cos` and `tan` are all functions. Now we'll learn how to create our own.\n",
    "\n",
    "In *Think Python*, the author distinguishes between \"fruitful\" and \"void\" functions. \n",
    "\n",
    "- **Void** functions perform a task, but do not return anything\n",
    "- **Fruitful** functions return something (a value or an object)\n",
    "\n",
    "In what follows, we'll cover:\n",
    "\n",
    "- Void functions\n",
    "- Functions with parameters\n",
    "- Fruitful functions\n",
    "- Creating docstrings for functions.\n",
    "\n",
    "\n",
    "#### Setup\n",
    "\n",
    "Whether creating any type of function, they are initialized the same way:\n",
    "\n",
    "* `def` - A function begins with the word def\n",
    "* `name` - `def` is followed by the function's name, whatever we decide to call it. The name is chosen by the programer to reflect what the function does\n",
    "* parenthesis - The name is followed by a pair of parenthesis and a colon ():\n",
    "* body lines - Indented 4 spaces within the `def` are the \"body\" lines of code which make up the function.\n",
    "When a function runs, the computer runs its body lines from top to bottom.\n",
    "\n",
    "![](../misc/functions.png)\n",
    "\n"
   ]
  },
  {
   "cell_type": "code",
   "execution_count": 19,
   "metadata": {},
   "outputs": [],
   "source": [
    "\n",
    "# An example of a void function.\n",
    "\n",
    "def print_lyrics():\n",
    "    print(\"Cause there's thunder inside my mind,\")\n",
    "    print(\"There's lightning behind these eyes.\")\n",
    "\n"
   ]
  },
  {
   "cell_type": "markdown",
   "metadata": {},
   "source": [
    "Call the function by name, include the parens and the function will execute:"
   ]
  },
  {
   "cell_type": "code",
   "execution_count": 20,
   "metadata": {},
   "outputs": [
    {
     "name": "stdout",
     "output_type": "stream",
     "text": [
      "Cause there's thunder inside my mind,\n",
      "There's lightning behind these eyes.\n"
     ]
    }
   ],
   "source": [
    "\n",
    "# To run the function, simply call print_lyrics with parens.\n",
    "print_lyrics()\n"
   ]
  },
  {
   "cell_type": "markdown",
   "metadata": {},
   "source": [
    "We can check the type of `print_lyrics`:"
   ]
  },
  {
   "cell_type": "code",
   "execution_count": 21,
   "metadata": {},
   "outputs": [
    {
     "data": {
      "text/plain": [
       "function"
      ]
     },
     "execution_count": 21,
     "metadata": {},
     "output_type": "execute_result"
    }
   ],
   "source": [
    "\n",
    "type(print_lyrics)"
   ]
  },
  {
   "cell_type": "markdown",
   "metadata": {},
   "source": [
    "A function can be called within another function as well:"
   ]
  },
  {
   "cell_type": "code",
   "execution_count": 22,
   "metadata": {},
   "outputs": [
    {
     "name": "stdout",
     "output_type": "stream",
     "text": [
      "Cause there's thunder inside my mind,\n",
      "There's lightning behind these eyes.\n",
      "Cause there's thunder inside my mind,\n",
      "There's lightning behind these eyes.\n",
      "Cause there's thunder inside my mind,\n",
      "There's lightning behind these eyes.\n"
     ]
    }
   ],
   "source": [
    "\n",
    "def print_lyrics_thrice():\n",
    "    print_lyrics()\n",
    "    print_lyrics()\n",
    "    print_lyrics()\n",
    "\n",
    "\n",
    "# Running print_lyrics_thrice.\n",
    "print_lyrics_thrice()\n"
   ]
  },
  {
   "cell_type": "markdown",
   "metadata": {},
   "source": [
    "We can put our input prompts in a function, and re-use it throughout our program without having to repeat the code each time. This makes managing our code much easier: If we decide to change something, we can do it in once place (in the function) rather than having to make the change in multiple locations.\n",
    "\n",
    "For example, define a function to prompt a user for their name, date of birth and favorite animal:"
   ]
  },
  {
   "cell_type": "code",
   "execution_count": 23,
   "metadata": {},
   "outputs": [
    {
     "name": "stdout",
     "output_type": "stream",
     "text": [
      "name=JDT, dob=7-31-1980, favorite animal=sloth\n"
     ]
    }
   ],
   "source": [
    "\n",
    "def get_info():\n",
    "    name = input(\"Enter your name: \")\n",
    "    dob = input(\"Enter your date of birth: \")\n",
    "    animal = input(\"Enter your favorite animal: \")\n",
    "    print(f\"name={name}, dob={dob}, favorite animal={animal}\")\n",
    "\n",
    "\n",
    "# Run get_info.\n",
    "get_info()\n"
   ]
  },
  {
   "cell_type": "markdown",
   "metadata": {},
   "source": [
    "### **Checkpoint \\#2:**\n",
    "\n",
    "Write a function `get_sqrt` that prompts the user for a number. Take the square root of the number, and print the result to two decimal places using an f-string (no rounding). Be sure to handle bad input with try-except. "
   ]
  },
  {
   "cell_type": "code",
   "execution_count": 25,
   "metadata": {},
   "outputs": [
    {
     "name": "stdout",
     "output_type": "stream",
     "text": [
      "Square root of 11.0 is 3.32.\n",
      "r: None\n"
     ]
    }
   ],
   "source": [
    "\n",
    "##### YOUR CODE HERE #####\n",
    "\n",
    "from math import sqrt\n",
    "\n",
    "\n",
    "def get_sqrt():\n",
    "    try:\n",
    "        v = float(input(\"Please enter a number greater than or equal to zero: \"))\n",
    "        result = sqrt(v)\n",
    "\n",
    "    except Exception as ee:\n",
    "        print(f\"Invalid value supplied: {ee}\")\n",
    "\n",
    "    else:\n",
    "        print(f\"Square root of {v} is {result:.2f}.\")\n",
    "\n",
    "\n",
    "r = get_sqrt()\n",
    "\n",
    "print(f\"r: {r}\")\n",
    "\n"
   ]
  },
  {
   "cell_type": "markdown",
   "metadata": {},
   "source": [
    "#### Function Arguments\n",
    "\n",
    "Functions can accept arguments. For example, when we call `statistics.mean`, it accepts a list as an argument, and\n",
    "the function returns the average of the elements in the list. \n",
    "\n",
    "Instead of prompting for name, dob and animal, we can add them as function arguments, and specify their values at the time we call the function:"
   ]
  },
  {
   "cell_type": "code",
   "execution_count": 26,
   "metadata": {},
   "outputs": [
    {
     "name": "stdout",
     "output_type": "stream",
     "text": [
      "name=JDT, dob=7-31-1980, favorite animal=sloth\n"
     ]
    }
   ],
   "source": [
    "\n",
    "# Rewriting prompter as void function with arguments.\n",
    "def get_info2(name, dob, animal):\n",
    "    print(f\"name={name}, dob={dob}, favorite animal={animal}\")\n",
    "\n",
    "\n",
    "# Run get_info2.\n",
    "get_info2(\"JDT\", \"7-31-1980\", \"sloth\")\n"
   ]
  },
  {
   "cell_type": "markdown",
   "metadata": {},
   "source": [
    "If we have the values we want to pass into the function stored in variables, we can pass the variables into the function:"
   ]
  },
  {
   "cell_type": "code",
   "execution_count": 27,
   "metadata": {},
   "outputs": [
    {
     "name": "stdout",
     "output_type": "stream",
     "text": [
      "name=JDT, dob=7-31-1980, favorite animal=sloth\n"
     ]
    }
   ],
   "source": [
    "\n",
    "n = \"JDT\"\n",
    "d = \"7-31-1980\"\n",
    "a = \"sloth\"\n",
    "\n",
    "get_info2(n, d, a)\n"
   ]
  },
  {
   "cell_type": "markdown",
   "metadata": {},
   "source": [
    "#### Fruitful Functions\n",
    "\n",
    "Fruitful functions are used everywhere in Python. These have a return value, which can be assigned to a variable.\n",
    "For example, let's write a function to compute the area of a square:\n"
   ]
  },
  {
   "cell_type": "code",
   "execution_count": 28,
   "metadata": {},
   "outputs": [],
   "source": [
    "\n",
    "def get_square_area(s):\n",
    "    area = s**2\n",
    "    return area\n"
   ]
  },
  {
   "cell_type": "markdown",
   "metadata": {},
   "source": [
    "We can compute the area of a square with any side length by calling `get_square_area`. In the example below, since `get_square_area` has a return statement, the result of the function can be assigned to another variable. This is not possible if we only included a print statement (instead of return):"
   ]
  },
  {
   "cell_type": "code",
   "execution_count": 29,
   "metadata": {},
   "outputs": [
    {
     "name": "stdout",
     "output_type": "stream",
     "text": [
      "Area of square with side length 5: 25\n",
      "Area of square with side length 10: 100\n",
      "Area of square with side length 25: 625\n"
     ]
    }
   ],
   "source": [
    "\n",
    "# Area of square with side length 5.\n",
    "area1 = get_square_area(5)\n",
    "area2 = get_square_area(10)\n",
    "area3 = get_square_area(25)\n",
    "\n",
    "print(f\"Area of square with side length 5: {area1}\")\n",
    "print(f\"Area of square with side length 10: {area2}\")\n",
    "print(f\"Area of square with side length 25: {area3}\")\n"
   ]
  },
  {
   "cell_type": "markdown",
   "metadata": {},
   "source": [
    "When `print` is used instead of `return`, the value is printed, but since no value is returned, `area4` will not contain the value for area (it will be None):"
   ]
  },
  {
   "cell_type": "code",
   "execution_count": 30,
   "metadata": {},
   "outputs": [
    {
     "name": "stdout",
     "output_type": "stream",
     "text": [
      "25\n",
      "None\n"
     ]
    }
   ],
   "source": [
    "\n",
    "# A function that doesn't return a value. Don't do this if your intention is a\n",
    "# fruitful function.\n",
    "def get_square_area2(s):\n",
    "    area = s**2\n",
    "    print(area)\n",
    "\n",
    "\n",
    "area4 = get_square_area2(5)\n",
    "\n",
    "print(area4)"
   ]
  },
  {
   "cell_type": "markdown",
   "metadata": {},
   "source": [
    "### Checkpoint \\#3:\n",
    "\n",
    "The area of a triangle is $\\frac{1}{2} \\cdot base \\cdot height$. Write a function `get_tri_area` that takes two arguments, one for base and one for height and returns the area. Pass the arguments in the next cell into your function and display the results."
   ]
  },
  {
   "cell_type": "code",
   "execution_count": 31,
   "metadata": {},
   "outputs": [],
   "source": [
    "\n",
    "##### YOUR CODE HERE #####\n",
    "\n",
    "def get_tri_area(base, height):\n",
    "\n",
    "    area = .50 * base * height\n",
    "\n",
    "    return area\n",
    "\n",
    "\n",
    "# or:\n",
    "def get_tri_area(base, height):\n",
    "    \n",
    "    return .50 * base * height\n",
    "\n"
   ]
  },
  {
   "cell_type": "code",
   "execution_count": 33,
   "metadata": {},
   "outputs": [
    {
     "name": "stdout",
     "output_type": "stream",
     "text": [
      "Area of triangle with base 5 and height 7: 17.5\n",
      "Area of triangle with base 12 and height 12: 72.0\n",
      "Area of triangle with base 6 and height 9: 27.0\n"
     ]
    }
   ],
   "source": [
    "\n",
    "# Evaluate your function on the following input:\n",
    "\n",
    "b1, h1 = 5, 7\n",
    "b2, h2 = 12, 12\n",
    "b3, h3 = 6, 9\n",
    "\n",
    "##### YOUR CODE HERE #####\n",
    "\n",
    "print(f\"Area of triangle with base {b1} and height {h1}: {get_tri_area(b1, h1)}\")\n",
    "print(f\"Area of triangle with base {b2} and height {h2}: {get_tri_area(b2, h2)}\")\n",
    "print(f\"Area of triangle with base {b3} and height {h3}: {get_tri_area(b3, h3)}\")\n"
   ]
  },
  {
   "cell_type": "markdown",
   "metadata": {},
   "source": [
    "<br>\n",
    "\n",
    "### Docstrings\n",
    "\n",
    "- A Guide to Numpy style docstrings: https://numpydoc.readthedocs.io/en/latest/format.html\n",
    "\n",
    "It is important to **always** include docstrings with your functions. Docstrings tell other users what the accepted parameters and return values are, and serve as an easy way to document your code. The docstrings for any user-defined function (a function that you create) can be printed using `help` just like any other function. \n",
    "There are a few different accepted formats for docstrings. In this class, we'll use the Numpy convention. Here is how I would rewrite `get_square_area` with a docstring:\n"
   ]
  },
  {
   "cell_type": "markdown",
   "metadata": {},
   "source": [
    "- The first line gives a brief description of what the function does. \n",
    "\n",
    "- Under **Parameters**, function arguments are listed along with the type, and a description of what the argument represents. \n",
    "\n",
    "- Under **Returns**, the return type and an optional description of what the returned value represents is given. \n",
    "\n"
   ]
  },
  {
   "cell_type": "code",
   "execution_count": 34,
   "metadata": {},
   "outputs": [],
   "source": [
    "\n",
    "def get_square_area(s):\n",
    "    \"\"\"\n",
    "    Compute the area of a square with side length s.\n",
    "\n",
    "    Parameters\n",
    "    ----------\n",
    "    s: float\n",
    "        Side length of square.\n",
    "\n",
    "    Returns\n",
    "    -------\n",
    "    float\n",
    "        Area of square.\n",
    "    \"\"\"\n",
    "    area = s**2\n",
    "    return area\n"
   ]
  },
  {
   "cell_type": "markdown",
   "metadata": {},
   "source": [
    "\n",
    "Calling `help(get_square_area)` renders our docstring:\n"
   ]
  },
  {
   "cell_type": "code",
   "execution_count": 35,
   "metadata": {},
   "outputs": [
    {
     "name": "stdout",
     "output_type": "stream",
     "text": [
      "Help on function get_square_area in module __main__:\n",
      "\n",
      "get_square_area(s)\n",
      "    Compute the area of a square with side length s.\n",
      "\n",
      "    Parameters\n",
      "    ----------\n",
      "    s: float\n",
      "        Side length of square.\n",
      "\n",
      "    Returns\n",
      "    -------\n",
      "    float\n",
      "        Area of square.\n",
      "\n"
     ]
    }
   ],
   "source": [
    "\n",
    "help(get_square_area)\n"
   ]
  },
  {
   "cell_type": "markdown",
   "metadata": {},
   "source": [
    "\n",
    "<br>\n",
    "\n",
    "### **Checkpoint \\#4:**\n",
    "\n",
    "Copy your `get_tri_area` function into the cell below, and add a docstring. Include a description, \n",
    "parameter section and return section. \n"
   ]
  },
  {
   "cell_type": "code",
   "execution_count": null,
   "metadata": {},
   "outputs": [],
   "source": [
    "\n",
    "##### YOUR CODE HERE #####\n",
    "\n",
    "def get_tri_area(base, height):\n",
    "    \"\"\"\n",
    "    Compute the area of a triangle with given base and height.\n",
    "\n",
    "    Parameters\n",
    "    ----------\n",
    "    base: float\n",
    "        Length of base of triangle.\n",
    "\n",
    "    height: float\n",
    "        Height of triangle.\n",
    "\n",
    "    Returns\n",
    "    -------\n",
    "    float\n",
    "        The area of the triangle.\n",
    "    \"\"\"\n",
    "    area = .50 * base * height\n",
    "    return(area)\n"
   ]
  },
  {
   "cell_type": "markdown",
   "metadata": {},
   "source": [
    "<br>\n",
    "\n",
    "We aren't limited to passing strings and single numeric values as function parameters. Any Python object can be passed into a function and processed. Let's create a function that accepts a list and returns the list with the min and max value removed. \n",
    "\n"
   ]
  },
  {
   "cell_type": "code",
   "execution_count": null,
   "metadata": {},
   "outputs": [],
   "source": [
    "\n",
    "\n",
    "def purge_min_max(vals):\n",
    "    \"\"\"\n",
    "    Remove the min and max values from vals and return modified list. \n",
    "    \n",
    "    Parameters\n",
    "    ----------\n",
    "    vals: list\n",
    "        List of numeric values.\n",
    "\n",
    "    Returns\n",
    "    -------\n",
    "    list\n",
    "        vals with original min and max value removed. \n",
    "    \"\"\"\n",
    "    vals2 = vals.copy()\n",
    "    if len(vals2) <= 2:\n",
    "        return([])\n",
    "    else:\n",
    "        vals2.remove(min(vals2))\n",
    "        vals2.remove(max(vals2))\n",
    "        return(vals2)\n"
   ]
  },
  {
   "cell_type": "code",
   "execution_count": null,
   "metadata": {},
   "outputs": [],
   "source": [
    "\n",
    "vals = [9, 7, 11, 4, 2, -1, 12, 90]\n",
    "\n",
    "m = purge_min_max(vals)\n",
    "\n",
    "print(f\"vals: {vals}\")\n",
    "print(f\"m   : {m}\")\n"
   ]
  },
  {
   "cell_type": "markdown",
   "metadata": {},
   "source": [
    "<br>\n",
    "\n",
    "We can also set default arguments for parameters. For example, say we write a function that repeats a given string `n` times. We can set a default value of 5:"
   ]
  },
  {
   "cell_type": "code",
   "execution_count": 36,
   "metadata": {},
   "outputs": [],
   "source": [
    "\n",
    "def string_multiplier(s, n=5):\n",
    "    \"\"\"\n",
    "    Multiply string s n times.\n",
    "\n",
    "    Parameters\n",
    "    ----------\n",
    "    s: str\n",
    "        Original string.\n",
    "    \n",
    "    n: int\n",
    "        Number of times to replicate s. Default value is 5. \n",
    "\n",
    "    Returns\n",
    "    -------\n",
    "    str\n",
    "        s replicated n times.\n",
    "    \"\"\"\n",
    "    result = s * n\n",
    "    return result\n"
   ]
  },
  {
   "cell_type": "code",
   "execution_count": 37,
   "metadata": {},
   "outputs": [
    {
     "data": {
      "text/plain": [
       "'boingboingboingboingboing'"
      ]
     },
     "execution_count": 37,
     "metadata": {},
     "output_type": "execute_result"
    }
   ],
   "source": [
    "\n",
    "desc = \"boing\"\n",
    "\n",
    "string_multiplier(desc)\n"
   ]
  },
  {
   "cell_type": "markdown",
   "metadata": {},
   "source": [
    "\n",
    "The user can still change `n` as needed; it's just that it is no longer required to supply `n` at each invocation since a default value is set (`n=5`). In the next example, we set n to 15:"
   ]
  },
  {
   "cell_type": "code",
   "execution_count": 38,
   "metadata": {},
   "outputs": [
    {
     "data": {
      "text/plain": [
       "'boingboingboingboingboingboingboingboingboingboingboingboingboingboingboing'"
      ]
     },
     "execution_count": 38,
     "metadata": {},
     "output_type": "execute_result"
    }
   ],
   "source": [
    "\n",
    "string_multiplier(\"boing\", n=15)\n"
   ]
  },
  {
   "cell_type": "markdown",
   "metadata": {},
   "source": [
    "Because `string_multiplier` returns a value, we can set the result of the function call to another variable:"
   ]
  },
  {
   "cell_type": "code",
   "execution_count": 39,
   "metadata": {},
   "outputs": [
    {
     "name": "stdout",
     "output_type": "stream",
     "text": [
      "boingboingboingboingboingboingboingboingboingboingboingboingboingboingboing\n"
     ]
    }
   ],
   "source": [
    "\n",
    "m = string_multiplier(\"boing\", n=15)\n",
    "\n",
    "print(m)\n"
   ]
  },
  {
   "cell_type": "markdown",
   "metadata": {},
   "source": [
    "Note that variables defined within a function are *local*: They cannot be accessed outside of the function. \n",
    "\n",
    "- **Local scope** is the code block or body of any Python function. This Python scope contains the names that you define inside the function. These names will only be visible from the code of the function. It’s created at function call, not at function definition, so you’ll have as many different local scopes as function calls. This is true even if you call the same function multiple times, or recursively. Each call will result in a new local scope being created.\n",
    "\n",
    "- **Global scope** is the top-most scope in a Python program, script, or module. This Python scope contains all of the names that you define at the top level of a program or a module. Names in this Python scope are visible from everywhere in your code.\n",
    "\n",
    "- **Built-in scope** is a special Python scope that’s created or loaded whenever you run a script or open an interactive session. This scope contains names such as keywords, functions, exceptions, and other attributes that are built into Python. Names in this Python scope are also available from everywhere in your code. It’s automatically loaded by Python when you run a program or script.\n",
    "\n",
    "\n",
    "If after running `string_multiplier`, we tried printing `result`, we would get an error since `result` is defined within the function (local scope):"
   ]
  },
  {
   "cell_type": "code",
   "execution_count": null,
   "metadata": {},
   "outputs": [],
   "source": [
    "\n",
    "# Recall that `result` in string_multiplier (local scope). Let's try accessing it\n",
    "# after calling string_multiplier. \n",
    "\n",
    "m = string_multiplier(\"boing\", n=25)\n",
    "\n",
    "print(f\"result: {result}\")\n"
   ]
  },
  {
   "cell_type": "markdown",
   "metadata": {},
   "source": [
    "Many Python libraries expose function/classes that accept many parameters, but are designed in such a way that reasonable results can be obtained if using the default arguments. This is good design. For example, check out scikit-learn's \n",
    "[Gradient Boosting Classifier](https://scikit-learn.org/stable/modules/generated/sklearn.ensemble.HistGradientBoostingClassifier.html#sklearn.ensemble.HistGradientBoostingClassifier)."
   ]
  },
  {
   "cell_type": "markdown",
   "metadata": {},
   "source": [
    "#### Function Annotations/Type Hints\n",
    "\n",
    "- https://realpython.com/lessons/annotations/\n",
    "\n",
    "Another way to document functions is through the use of annotations. The idea is to specify the argument type and return type in the function declaration. Referring back to the functions defined in the module, here is how they would be modified to use function annotations:\n",
    "\n",
    " "
   ]
  },
  {
   "cell_type": "code",
   "execution_count": null,
   "metadata": {},
   "outputs": [],
   "source": [
    "\"\"\"\n",
    "Module 4 functions with annotations.\n",
    "\"\"\"\n",
    "\n",
    "def get_square_area(s: float) -> float:\n",
    "    \"\"\"\n",
    "    Compute the area of a square with side length s.\n",
    "\n",
    "    Parameters\n",
    "    ----------\n",
    "    s: float\n",
    "        Side length of square.\n",
    "\n",
    "    Returns\n",
    "    -------\n",
    "    float\n",
    "        Area of square.\n",
    "    \"\"\"\n",
    "    area = s**2\n",
    "    return area\n",
    "\n",
    "\n",
    "\n",
    "def get_triangle_area(base: float, height: float) -> float:\n",
    "    \"\"\"\n",
    "    Compute the area of a triangle with given base and height.\n",
    "\n",
    "    Parameters\n",
    "    ----------\n",
    "    base: float\n",
    "        Length of base of triangle.\n",
    "\n",
    "    height: float\n",
    "        Height of triangle.\n",
    "\n",
    "    Returns\n",
    "    -------\n",
    "    float\n",
    "        The area of the triangle.\n",
    "    \"\"\"\n",
    "    area = .50 * base * height\n",
    "    return(area)\n",
    "\n",
    "\n",
    "\n",
    "def purge_min_max(vals: list) -> list:\n",
    "    \"\"\"\n",
    "    Remove the min and max values from vals and return modified list. \n",
    "    \n",
    "    Parameters\n",
    "    ----------\n",
    "    vals: list\n",
    "        List of numeric values.\n",
    "\n",
    "    Returns\n",
    "    -------\n",
    "    list\n",
    "        vals with original min and max value removed. \n",
    "    \"\"\"\n",
    "    if len(vals) <= 1:\n",
    "        return(vals)\n",
    "    else:\n",
    "        vals.remove(min(vals))\n",
    "        vals.remove(max(vals))\n",
    "        return(vals)\n",
    "\n",
    "\n",
    "\n",
    "def string_multiplier(s: str, n: int = 5) -> str:\n",
    "    \"\"\"\n",
    "    Multiply string s n times.\n",
    "\n",
    "    Parameters\n",
    "    ----------\n",
    "    s: str\n",
    "        Original string.\n",
    "    \n",
    "    n: int\n",
    "        Number of times to replicate s. Default value is 5. \n",
    "\n",
    "    Returns\n",
    "    -------\n",
    "    str\n",
    "        s replicated n times.\n",
    "    \"\"\"\n",
    "    result = s * n\n",
    "    return(result)\n"
   ]
  },
  {
   "cell_type": "markdown",
   "metadata": {},
   "source": [
    "Here's an example of turning our module 2 assignment into a function:"
   ]
  },
  {
   "cell_type": "code",
   "execution_count": null,
   "metadata": {},
   "outputs": [],
   "source": [
    "\n",
    "from statistics import mean\n",
    "\n",
    "\n",
    "def avg_three_scores(first: str, last: str, age: int, scores: list) -> str:\n",
    "    \"\"\"\n",
    "    Compute average of scores and return a string formatted as:\n",
    "        {last_name}, {first_name} age: {age} average grade: {avg_score}\n",
    "\n",
    "    Parameters\n",
    "    ----------\n",
    "    first: str\n",
    "        First name.\n",
    "\n",
    "    last: str\n",
    "        Last name.\n",
    "\n",
    "    age: int\n",
    "        Age.\n",
    "\n",
    "    scores: list\n",
    "        List of scores to average. \n",
    "\n",
    "    Returns\n",
    "    -------\n",
    "    str\n",
    "        {last_name}, {first_name} age: {age} average grade: {avg_score}\n",
    "    \"\"\"\n",
    "    # Compute average score.\n",
    "    avg_score = round(mean(scores), 2)\n",
    "    s = f\"{last}, {first} age: {age} average grade: {avg_score}\"\n",
    "    return s\n",
    "\n",
    "\n"
   ]
  },
  {
   "cell_type": "code",
   "execution_count": null,
   "metadata": {},
   "outputs": [],
   "source": [
    "\n",
    "first_name = \"James\"\n",
    "last_name = \"Triveri\"\n",
    "age = 43\n",
    "scores = [100, 90, 87]\n",
    "\n",
    "avg_three_scores(first_name, last_name, age, scores)\n",
    "\n",
    "\n"
   ]
  },
  {
   "cell_type": "markdown",
   "metadata": {},
   "source": [
    "In most cases, you can also specify the arguments as key value pairs:"
   ]
  },
  {
   "cell_type": "code",
   "execution_count": null,
   "metadata": {},
   "outputs": [],
   "source": [
    "\n",
    "avg_three_scores(first=first_name, last=last_name, age=age, scores=scores)\n"
   ]
  },
  {
   "cell_type": "markdown",
   "metadata": {},
   "source": [
    "If we do provide key=value pairs, it isn't necessary to pass the function arguments in order:"
   ]
  },
  {
   "cell_type": "code",
   "execution_count": null,
   "metadata": {},
   "outputs": [],
   "source": [
    "\n",
    "avg_three_scores(scores=scores, first=first_name, age=age, last=last_name)\n"
   ]
  }
 ],
 "metadata": {
  "kernelspec": {
   "display_name": "Python 3",
   "language": "python",
   "name": "python3"
  },
  "language_info": {
   "codemirror_mode": {
    "name": "ipython",
    "version": 3
   },
   "file_extension": ".py",
   "mimetype": "text/x-python",
   "name": "python",
   "nbconvert_exporter": "python",
   "pygments_lexer": "ipython3",
   "version": "3.12.0"
  }
 },
 "nbformat": 4,
 "nbformat_minor": 2
}
