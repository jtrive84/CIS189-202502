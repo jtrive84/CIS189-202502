{
 "cells": [
  {
   "cell_type": "markdown",
   "metadata": {},
   "source": [
    "## Module \\#12 Supplement\n",
    "---\n",
    "\n",
    "Author: James D. Triveri\n",
    "\n"
   ]
  },
  {
   "cell_type": "markdown",
   "metadata": {},
   "source": [
    "\n",
    "### Luhn Algorithm\n",
    "\n",
    "The [Luhn algorithm](https://en.wikipedia.org/wiki/Luhn_algorithm), also known as the \"modulus 10\" or \"mod 10\" algorithm, is a simple checksum formula used to validate credit card numbers. It was created by IBM scientist Hans Peter Luhn and is designed to protect against accidental errors. The formula for validating a credit card using the Luhn algorithm can be implemented as follows:\n",
    "\n",
    "1. Sum the digits in odd-numbered positions counting from the right-most side of the number. \n",
    "\n",
    "2. Double each digit in an even-numbered position, counting from the right-most side of\n",
    "the number, sum the digits of the resulting values (note: not the values themselves.)\n",
    "\n",
    "3. Add the sums from steps one and two.\n",
    "\n",
    "4. If that total is evenly divisible by 10 (no remainder) the card number is considered valid.\n",
    "\n",
    "<br>\n",
    "\n",
    "**Example:**\n",
    "\n",
    "1. Initial credit card number: `\"4652360088404638\"`\n",
    "2. Odd digits (starting from right): `8 + 6 + 0 + 8 + 0 + 6 + 2 + 6 = 36`\n",
    "3. Even digits (starting from right): `3 4 4 8 0 3 5 4`\n",
    "4. Doubled even digits: `6 8 8 16 0 6 10 8`\n",
    "5. Sum of doubled even digits: `6 + 8 + 8 + 1 + 6 + 0 + 6 + 1 + 0 + 8 = 44`\n",
    "6. Total of sums from steps 2 and 5: `36 + 44 = 80`.\n",
    "7. Since `80 % 10 == 0`, `\"4652360088404638\"` is a valid credit card number.\n",
    "\n",
    "\n",
    "<br>\n",
    "\n",
    "Implementing this logic will reinforce many the the concepts covered in earlier lessons.\n",
    "Create a function `is_valid_cc` which accepts a single credit card number as input and returns `True` if the number is valid according to the Luhn algorithm and `False` otherwise. "
   ]
  },
  {
   "cell_type": "code",
   "execution_count": 5,
   "metadata": {},
   "outputs": [],
   "source": [
    "\n",
    "def is_valid_cc(cc_number: str) -> bool:\n",
    "    \"\"\"\n",
    "    Determine if cc_number is a valid credit card number according to\n",
    "    the Luhn algorithm.\n",
    "\n",
    "    Parameters\n",
    "    ----------\n",
    "    cc_number: str\n",
    "        Credit card number of interest.\n",
    "\n",
    "    Returns\n",
    "    -------\n",
    "    True if cc_number is valid, False otherwise.\n",
    "    \"\"\"\n",
    "    # Reverse string, convert string to list of ints. \n",
    "    ccr = [int(i) for i in cc_number[::-1]]\n",
    "\n",
    "    # Enumerate ccr to get proper indices.\n",
    "    pairs = list(enumerate(ccr, start=1))\n",
    "\n",
    "    # Sum the digits in odd-numbered positions counting from the right-most side \n",
    "    # of the number. \n",
    "    sum_odd_digits = sum([tt[1] for tt in pairs if tt[0] % 2 != 0])\n",
    "\n",
    "    # Double each digit in an even-numbered position, counting from the \n",
    "    # right-most side of the number.\n",
    "    doubled_even_pos = [2 * tt[1] for tt in pairs if tt[0] % 2 == 0]\n",
    "\n",
    "    # Convert 2-digit sums from sum_doubled_even_pos into a list of single digits.\n",
    "    doubled_digits = []\n",
    "\n",
    "    for ii in doubled_even_pos:\n",
    "        if ii < 10:\n",
    "            doubled_digits.append(ii)\n",
    "        else:\n",
    "            doubled_digits.append(ii // 10)\n",
    "            doubled_digits.append(ii % 10)\n",
    "\n",
    "    # Sum doubled digits. \n",
    "    sum_doubled_even_digits = sum(doubled_digits)\n",
    "\n",
    "    # Test value is sum of sum_doubled_even_digits + sum_odd_digits\n",
    "    test_value = sum_doubled_even_digits + sum_odd_digits\n",
    "\n",
    "    return True if test_value % 10 == 0 else False\n",
    "\n"
   ]
  },
  {
   "cell_type": "code",
   "execution_count": 19,
   "metadata": {},
   "outputs": [
    {
     "name": "stdout",
     "output_type": "stream",
     "text": [
      "pairs1: [(1, 5), (2, 1), (3, 7), (4, 1), (5, 8), (6, 6), (7, 6), (8, 0), (9, 1), (10, 9), (11, 0), (12, 5), (13, 7), (14, 6), (15, 5), (16, 5)]\n",
      "pairs2: [(1, 5), (2, 5), (3, 6), (4, 7), (5, 5), (6, 0), (7, 9), (8, 1), (9, 0), (10, 6), (11, 6), (12, 8), (13, 1), (14, 7), (15, 1), (16, 5)]\n",
      "\n",
      "odd_pos1: [5, 7, 8, 6, 1, 0, 7, 5]\n",
      "odd_pos2: [5, 6, 5, 9, 0, 6, 1, 1]\n",
      "\n",
      "sum_odd_pos1: 39\n",
      "sum_odd_pos2: 33\n",
      "\n",
      "doubled_even_pos1: [2, 2, 12, 0, 18, 10, 12, 10]\n",
      "doubled_even_pos2: [10, 14, 0, 2, 12, 16, 14, 10]\n",
      "\n",
      "sum_doubled_digits1: 21\n",
      "\n",
      "sum_doubled_digits2: 24\n",
      "\n"
     ]
    }
   ],
   "source": [
    "\n",
    "cc = \"5567509106681715\"\n",
    "\n",
    "\n",
    "ccr1 = [int(i) for i in cc[::-1]]\n",
    "ccr2 = [int(i) for i in cc]\n",
    "\n",
    "pairs1 = list(enumerate(ccr1, start=1))\n",
    "pairs2 = list(enumerate(ccr2, start=1))\n",
    "\n",
    "odd_pos1 = [tt[1] for tt in pairs1 if tt[0] % 2 != 0]\n",
    "odd_pos2 = [tt[1] for tt in pairs2 if tt[0] % 2 != 0]\n",
    "\n",
    "sum_odd_pos1 = sum([tt[1] for tt in pairs1 if tt[0] % 2 != 0])\n",
    "sum_odd_pos2 = sum([tt[1] for tt in pairs2 if tt[0] % 2 != 0])\n",
    "\n",
    "doubled_even_pos1 = [2 * tt[1] for tt in pairs1 if tt[0] % 2 == 0]\n",
    "doubled_even_pos2 = [2 * tt[1] for tt in pairs2 if tt[0] % 2 == 0]\n",
    "\n",
    "doubled_digits1 = []\n",
    "for i in doubled_even_pos1:\n",
    "    if i < 10:\n",
    "        doubled_digits1.append(i)\n",
    "    else:\n",
    "        doubled_digits1.append(i // 10)\n",
    "        doubled_digits1.append(i % 10)\n",
    "\n",
    "sum_doubled_digits1 = sum(doubled_digits1)\n",
    "\n",
    "doubled_digits2 = []\n",
    "for i in doubled_even_pos2:\n",
    "    if i < 10:\n",
    "        doubled_digits2.append(i)\n",
    "    else:\n",
    "        doubled_digits2.append(i // 10)\n",
    "        doubled_digits2.append(i % 10)\n",
    "\n",
    "sum_doubled_digits2 = sum(doubled_digits2)\n",
    "\n",
    "\n",
    "print(f\"pairs1: {pairs1}\")\n",
    "print(f\"pairs2: {pairs2}\\n\")\n",
    "\n",
    "print(f\"odd_pos1: {odd_pos1}\")\n",
    "print(f\"odd_pos2: {odd_pos2}\\n\")\n",
    "\n",
    "print(f\"sum_odd_pos1: {sum_odd_pos1}\")\n",
    "print(f\"sum_odd_pos2: {sum_odd_pos2}\\n\")\n",
    "\n",
    "print(f\"doubled_even_pos1: {doubled_even_pos1}\")\n",
    "print(f\"doubled_even_pos2: {doubled_even_pos2}\\n\")\n",
    "\n",
    "print(f\"sum_doubled_digits1: {sum_doubled_digits1}\\n\")\n",
    "print(f\"sum_doubled_digits2: {sum_doubled_digits2}\\n\")"
   ]
  },
  {
   "cell_type": "code",
   "execution_count": null,
   "metadata": {},
   "outputs": [],
   "source": [
    "\n",
    "# Sum the digits in odd-numbered positions counting from the right-most side of the number. \n",
    "cc = \"5567509106681715\"#  \"4147181410984375\"\n",
    "\n",
    "# Reverse string, convert to list of ints. \n",
    "ccr = [int(i) for i in cc[::-1]]\n",
    "\n",
    "# Enumerate ccr to get proper indices.\n",
    "pairs = list(enumerate(ccr, start=1))\n",
    "\n",
    "# Sum the digits in odd-numbered positions counting from the right-most side \n",
    "# of the number. \n",
    "sum_odd_pos = sum([tt[1] for tt in pairs if tt[0] % 2 != 0])\n",
    "\n",
    "# Double each digit in an even-numbered position, counting from the \n",
    "# right-most side of the number, sum the digits of the resulting values.\n",
    "doubled_even_pos = [2 * tt[1] for tt in pairs if tt[0] % 2 == 0]\n",
    "\n",
    "# Convert 2-digit sums from sum_doubled_even_pos into a list of single digits.\n",
    "doubled_digits = []\n",
    "\n",
    "for i in doubled_even_pos:\n",
    "    if i < 10:\n",
    "        doubled_digits.append(i)\n",
    "    else:\n",
    "        doubled_digits.append(i // 10)\n",
    "        doubled_digits.append(i % 10)\n",
    "\n",
    "sum_doubled_digits = sum(doubled_digits)\n",
    "\n",
    "# Check if sum_odd_pos + sum_doubled_digits if evenly divisible by 10.\n",
    "True if (sum_odd_pos + sum_doubled_digits) % 10 == 0 else False\n",
    "\n"
   ]
  },
  {
   "cell_type": "markdown",
   "metadata": {},
   "source": [
    "<br>\n",
    "\n",
    "2. Iterate over `card_numbers`. Return a list of 2-tuples  containing the credit card number and True or False based on `is_valid_cc`'s output, something like:\n",
    "\n",
    "```\n",
    "[(\"4147181410984375\", False), (\"6218343762083550\", True), ...]\n",
    "```\n"
   ]
  },
  {
   "cell_type": "code",
   "execution_count": 21,
   "metadata": {},
   "outputs": [
    {
     "data": {
      "text/plain": [
       "[('4147181410984375', True),\n",
       " ('5534690140127442', True),\n",
       " ('5108050130084069', True),\n",
       " ('5567509106681715', True),\n",
       " ('4479931016246381', True),\n",
       " ('3342730144593232', False),\n",
       " ('6521125488846870', False),\n",
       " ('3141592653589793', False),\n",
       " ('9999999999999990', False),\n",
       " ('6218343762083550', False)]"
      ]
     },
     "execution_count": 21,
     "metadata": {},
     "output_type": "execute_result"
    }
   ],
   "source": [
    "\n",
    "card_numbers = [\n",
    "    \"4147181410984375\", # valid\n",
    "    \"5534690140127442\", # valid\n",
    "    \"5108050130084069\", # valid\n",
    "    \"5567509106681715\", # valid\n",
    "    \"4479931016246381\", # valid\n",
    "    \"3342730144593232\", # not valid\n",
    "    \"6521125488846870\", # not valid\n",
    "    \"3141592653589793\", # not valid\n",
    "    \"9999999999999990\", # not valid\n",
    "    \"6218343762083550\"  # not valid\n",
    "]\n",
    "\n",
    "\n",
    "##### YOUR CODE HERE #####\n",
    "\n",
    "pairs = [(cc, is_valid_cc(cc)) for cc in card_numbers]\n",
    "\n",
    "pairs\n",
    "\n",
    "\n"
   ]
  },
  {
   "cell_type": "markdown",
   "metadata": {},
   "source": [
    "\n",
    "<br>\n",
    "\n",
    "3. Using your output from 2., create a dictionary `dcc` which has two keys, `\"valid\"` and `\"invalid\"`, with each key pointing to a list of valid and invalid card numbers. It should look something like:\n",
    "\n",
    "```python\n",
    "dcc = {\n",
    "    \"valid\": [\"card1\", \"card2\", ...],\n",
    "    \"invalid\": [\"card3\", \"card4\", ...]\n",
    "}\n",
    "```\n"
   ]
  },
  {
   "cell_type": "code",
   "execution_count": 22,
   "metadata": {},
   "outputs": [
    {
     "data": {
      "text/plain": [
       "{'valid': ['4147181410984375',\n",
       "  '5534690140127442',\n",
       "  '5108050130084069',\n",
       "  '5567509106681715',\n",
       "  '4479931016246381'],\n",
       " 'invalid': ['3342730144593232',\n",
       "  '6521125488846870',\n",
       "  '3141592653589793',\n",
       "  '9999999999999990',\n",
       "  '6218343762083550']}"
      ]
     },
     "execution_count": 22,
     "metadata": {},
     "output_type": "execute_result"
    }
   ],
   "source": [
    "\n",
    "##### YOUR CODE HERE #####\n",
    "\n",
    "dcc = {\"valid\": [], \"invalid\": []}\n",
    "\n",
    "for tt in pairs:\n",
    "    if tt[1] == True:\n",
    "        dcc[\"valid\"].append(tt[0])\n",
    "    else:\n",
    "        dcc[\"invalid\"].append(tt[0])\n",
    "\n",
    "dcc\n"
   ]
  },
  {
   "cell_type": "markdown",
   "metadata": {},
   "source": [
    "\n",
    "<br>\n",
    "\n",
    "4. Evaluate one of your credit/debit cards against your implementation of `is_valid_cc`. \n",
    "Be sure not to store your card number in the notebook after performing the test. Did your card number pass the test?"
   ]
  },
  {
   "cell_type": "code",
   "execution_count": 1,
   "metadata": {},
   "outputs": [
    {
     "data": {
      "text/plain": [
       "1e+17"
      ]
     },
     "execution_count": 1,
     "metadata": {},
     "output_type": "execute_result"
    }
   ],
   "source": [
    "\n",
    "##### YOUR CODE HERE #####\n"
   ]
  },
  {
   "cell_type": "markdown",
   "metadata": {},
   "source": [
    "5. Challenge: What are the 5 smallest 16-digit credit card numbers for which `is_valid_cc` evaluates to `True`?\n",
    "\n",
    "#### Hints: \n",
    "\n",
    "- The string `zfill` method will left 0-pad strings up to the specified number of places.   \n",
    "- `itertools.count` returns a stream of consecutive values without an explicit end value. Alternatively you can use a while loop. \n",
    "\n"
   ]
  },
  {
   "cell_type": "code",
   "execution_count": 23,
   "metadata": {},
   "outputs": [
    {
     "name": "stdout",
     "output_type": "stream",
     "text": [
      "['0000000000000018', '0000000000000026', '0000000000000034', '0000000000000042', '0000000000000059']\n"
     ]
    }
   ],
   "source": [
    "\n",
    "from itertools import count\n",
    "\n",
    "valid_ccs = []\n",
    "\n",
    "for ii in count(1):\n",
    "\n",
    "    cc = str(ii).zfill(16)\n",
    "\n",
    "    if is_valid_cc(cc):\n",
    "        valid_ccs.append(cc)\n",
    "        if len(valid_ccs) >= 5:\n",
    "            break\n",
    "\n",
    "print(valid_ccs)"
   ]
  },
  {
   "cell_type": "code",
   "execution_count": 20,
   "metadata": {},
   "outputs": [
    {
     "name": "stdout",
     "output_type": "stream",
     "text": [
      "\u001b[1;31mInit signature:\u001b[0m \u001b[0mcount\u001b[0m\u001b[1;33m(\u001b[0m\u001b[0mstart\u001b[0m\u001b[1;33m=\u001b[0m\u001b[1;36m0\u001b[0m\u001b[1;33m,\u001b[0m \u001b[0mstep\u001b[0m\u001b[1;33m=\u001b[0m\u001b[1;36m1\u001b[0m\u001b[1;33m)\u001b[0m\u001b[1;33m\u001b[0m\u001b[1;33m\u001b[0m\u001b[0m\n",
      "\u001b[1;31mDocstring:\u001b[0m     \n",
      "Return a count object whose .__next__() method returns consecutive values.\n",
      "\n",
      "Equivalent to:\n",
      "    def count(firstval=0, step=1):\n",
      "        x = firstval\n",
      "        while 1:\n",
      "            yield x\n",
      "            x += step\n",
      "\u001b[1;31mType:\u001b[0m           type\n",
      "\u001b[1;31mSubclasses:\u001b[0m     "
     ]
    }
   ],
   "source": [
    "\n",
    "count?"
   ]
  }
 ],
 "metadata": {
  "kernelspec": {
   "display_name": "Python 3",
   "language": "python",
   "name": "python3"
  },
  "language_info": {
   "codemirror_mode": {
    "name": "ipython",
    "version": 3
   },
   "file_extension": ".py",
   "mimetype": "text/x-python",
   "name": "python",
   "nbconvert_exporter": "python",
   "pygments_lexer": "ipython3",
   "version": "3.12.0"
  }
 },
 "nbformat": 4,
 "nbformat_minor": 2
}
