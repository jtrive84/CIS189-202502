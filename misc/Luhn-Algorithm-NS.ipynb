{
 "cells": [
  {
   "cell_type": "markdown",
   "metadata": {},
   "source": [
    "## Module \\#12 Supplement\n",
    "---\n",
    "\n",
    "Author: James D. Triveri\n",
    "\n"
   ]
  },
  {
   "cell_type": "markdown",
   "metadata": {},
   "source": [
    "\n",
    "### Luhn Algorithm\n",
    "\n",
    "The [Luhn algorithm](https://en.wikipedia.org/wiki/Luhn_algorithm), also known as the \"modulus 10\" or \"mod 10\" algorithm, is a simple checksum formula used to validate credit card numbers. It was created by IBM scientist Hans Peter Luhn and is designed to protect against accidental errors. The formula for validating a credit card using the Luhn algorithm can be implemented as follows:\n",
    "\n",
    "1. Sum the digits in odd-numbered positions counting from the right-most side of the number. \n",
    "\n",
    "2. Double each digit in an even-numbered position, counting from the right-most side of\n",
    "the number, sum the digits of the resulting values (note: not the values themselves.)\n",
    "\n",
    "3. Add the sums from steps one and two.\n",
    "\n",
    "4. If that total is evenly divisible by 10 (no remainder) the card number is considered valid.\n",
    "\n",
    "<br>\n",
    "\n",
    "**Example:**\n",
    "\n",
    "1. Initial credit card number: `\"4652360088404638\"`\n",
    "2. Odd digits (starting from right): `8 + 6 + 0 + 8 + 0 + 6 + 2 + 6 = 36`\n",
    "3. Even digits (starting from right): `3 4 4 8 0 3 5 4`\n",
    "4. Doubled even digits: `6 8 8 16 0 6 10 8`\n",
    "5. Sum of doubled even digits: `6 + 8 + 8 + 1 + 6 + 0 + 6 + 1 + 0 + 8 = 44`\n",
    "6. Total of sums from steps 2 and 5: `36 + 44 = 80`.\n",
    "7. Since `80 % 10 == 0`, `\"4652360088404638\"` is a valid credit card number.\n",
    "\n",
    "\n",
    "<br>\n",
    "\n",
    "Implementing this logic will reinforce many the the concepts covered in earlier lessons.\n",
    "Create a function `is_valid_cc` which accepts a single credit card number as input and returns `True` if the number is valid according to the Luhn algorithm and `False` otherwise. You can use the sample card number above to test intermediate output.\n"
   ]
  },
  {
   "cell_type": "code",
   "execution_count": null,
   "metadata": {},
   "outputs": [],
   "source": [
    "\n",
    "##### YOUR CODE HERE #####\n"
   ]
  },
  {
   "cell_type": "markdown",
   "metadata": {},
   "source": [
    "<br>\n",
    "\n",
    "2. Iterate over `card_numbers`. Return a list of 2-tuples  containing the credit card number and True or False based on `is_valid_cc`'s output, something like:\n",
    "\n",
    "```\n",
    "[(\"4147181410984375\", False), (\"6218343762083550\", True), ...]\n",
    "```\n"
   ]
  },
  {
   "cell_type": "code",
   "execution_count": null,
   "metadata": {},
   "outputs": [],
   "source": [
    "\n",
    "card_numbers = [\n",
    "    \"4147181410984375\", # valid\n",
    "    \"5534690140127442\", # valid\n",
    "    \"5108050130084069\", # valid\n",
    "    \"5567509106681715\", # valid\n",
    "    \"4479931016246381\", # valid\n",
    "    \"3342730144593232\", # not valid\n",
    "    \"6521125488846870\", # not valid\n",
    "    \"3141592653589793\", # not valid\n",
    "    \"9999999999999990\", # not valid\n",
    "    \"6218343762083550\"  # not valid\n",
    "]\n",
    "\n",
    "##### YOUR CODE HERE #####\n"
   ]
  },
  {
   "cell_type": "markdown",
   "metadata": {},
   "source": [
    "\n",
    "<br>\n",
    "\n",
    "3. Using your output from 2, create a dictionary `dcc` which has two keys, `\"valid\"` and `\"invalid\"`, with each key pointing to a list of valid and invalid card numbers. It should look something like:\n",
    "\n",
    "```python\n",
    "dcc = {\n",
    "    \"valid\": [\"card1\", \"card2\", ...],\n",
    "    \"invalid\": [\"card3\", \"card4\", ...]\n",
    "}\n",
    "```\n"
   ]
  },
  {
   "cell_type": "code",
   "execution_count": null,
   "metadata": {},
   "outputs": [],
   "source": [
    "\n",
    "##### YOUR CODE HERE #####\n"
   ]
  },
  {
   "cell_type": "markdown",
   "metadata": {},
   "source": [
    "\n",
    "<br>\n",
    "\n",
    "4. Evaluate one of your own credit/debit cards against the `is_valid_cc` implementation. \n",
    "**Be sure not to store the card number in the notebook after performing the test!** Did your 16-digit card number evaluate to `True`?"
   ]
  },
  {
   "cell_type": "code",
   "execution_count": null,
   "metadata": {},
   "outputs": [],
   "source": [
    "\n",
    "##### YOUR CODE HERE #####\n"
   ]
  },
  {
   "cell_type": "markdown",
   "metadata": {},
   "source": [
    "<br>\n",
    "\n",
    "5. **Challenge:** What are the 5 smallest 16-digit credit card numbers for which `is_valid_cc` evaluates to `True`?\n",
    "\n",
    "#### Hints: \n",
    "\n",
    "- The string `zfill` method will left 0-pad strings up to the specified number of places.   \n",
    "- `itertools.count` returns a stream of consecutive values without an explicit end value. Alternatively you can use a while loop. \n"
   ]
  },
  {
   "cell_type": "code",
   "execution_count": null,
   "metadata": {},
   "outputs": [],
   "source": [
    "\n",
    "##### YOUR CODE HERE #####\n"
   ]
  }
 ],
 "metadata": {
  "kernelspec": {
   "display_name": "Python 3",
   "language": "python",
   "name": "python3"
  },
  "language_info": {
   "codemirror_mode": {
    "name": "ipython",
    "version": 3
   },
   "file_extension": ".py",
   "mimetype": "text/x-python",
   "name": "python",
   "nbconvert_exporter": "python",
   "pygments_lexer": "ipython3",
   "version": "3.12.0"
  }
 },
 "nbformat": 4,
 "nbformat_minor": 2
}
