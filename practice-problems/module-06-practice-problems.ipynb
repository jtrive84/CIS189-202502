{
 "cells": [
  {
   "cell_type": "markdown",
   "metadata": {},
   "source": [
    "### CIS189 Module \\#6 Practice Problems"
   ]
  },
  {
   "cell_type": "markdown",
   "metadata": {},
   "source": [
    "**1. Sum of Variable Number of Arguments**\n",
    "\n",
    "Write a function sum_numbers that takes a variable number of arguments and returns the sum of all the arguments.\n"
   ]
  },
  {
   "cell_type": "code",
   "execution_count": 9,
   "metadata": {},
   "outputs": [
    {
     "name": "stdout",
     "output_type": "stream",
     "text": [
      "10\n",
      "30\n"
     ]
    }
   ],
   "source": [
    "\n",
    "def sum_numbers(*args):\n",
    "    return sum(args)\n",
    "\n",
    "# Test the function\n",
    "print(sum_numbers(1, 2, 3, 4))  # Output: 10\n",
    "print(sum_numbers(5, 10, 15))   # Output: 30\n"
   ]
  },
  {
   "cell_type": "markdown",
   "metadata": {},
   "source": [
    "\n",
    "**2. Count Occurrences of a Specific Element**\n",
    "\n",
    "Write a function count_occurrences that takes a specific element and a variable number of arguments, and returns the count of occurrences of that element in the arguments.\n"
   ]
  },
  {
   "cell_type": "code",
   "execution_count": 10,
   "metadata": {},
   "outputs": [
    {
     "name": "stdout",
     "output_type": "stream",
     "text": [
      "2\n",
      "2\n"
     ]
    }
   ],
   "source": [
    "\n",
    "def count_occurrences(element, *args):\n",
    "    return args.count(element)\n",
    "\n",
    "# Test the function\n",
    "print(count_occurrences(2, 1, 2, 3, 4, 2))  # Output: 2\n",
    "print(count_occurrences('a', 'a', 'b', 'c', 'a', 'd'))  # Output: 2\n",
    "\n",
    "\n"
   ]
  },
  {
   "cell_type": "markdown",
   "metadata": {},
   "source": [
    "**3. Concatenate Strings**\n",
    "\n",
    "Write a function concatenate_strings that takes a variable number of string arguments and concatenates them into a single string.\n",
    "\n"
   ]
  },
  {
   "cell_type": "code",
   "execution_count": 11,
   "metadata": {},
   "outputs": [
    {
     "name": "stdout",
     "output_type": "stream",
     "text": [
      "Hello World\n",
      "Python is awesome\n"
     ]
    }
   ],
   "source": [
    "\n",
    "def concatenate_strings(*args):\n",
    "    return ''.join(args)\n",
    "\n",
    "# Test the function\n",
    "print(concatenate_strings('Hello', ' ', 'World'))  # Output: Hello World\n",
    "print(concatenate_strings('Python', ' ', 'is', ' ', 'awesome'))  # Output: Python is awesome\n"
   ]
  },
  {
   "cell_type": "markdown",
   "metadata": {},
   "source": [
    "**4. Check Palindrome**\n",
    "\n",
    "Write a function is_palindrome that takes a variable number of string arguments and returns True if each argument is a palindrome, and False otherwise.  \n",
    "A palindrome is a word, phrase, or sequence that reads the same backward as forward, for example \"madam\" or \"racecar\". "
   ]
  },
  {
   "cell_type": "code",
   "execution_count": 16,
   "metadata": {},
   "outputs": [
    {
     "name": "stdout",
     "output_type": "stream",
     "text": [
      "[True, True, False, False, True]\n"
     ]
    }
   ],
   "source": [
    "\n",
    "def is_palindrome(*args):\n",
    "\n",
    "    results = []\n",
    "    for word in args:\n",
    "        if word == word[::-1]:\n",
    "            results.append(True)\n",
    "        else:\n",
    "            results.append(False)\n",
    "    return(results)\n",
    "\n",
    "# Test the function\n",
    "print(is_palindrome('radar', 'level', 'python', \"apple\", \"madam\"))  # Output: True True False\n"
   ]
  },
  {
   "cell_type": "markdown",
   "metadata": {},
   "source": [
    "**5. Calculate Average**\n",
    "\n",
    "Write a function calculate_average that takes a variable number of numeric arguments and returns their average."
   ]
  },
  {
   "cell_type": "code",
   "execution_count": 17,
   "metadata": {},
   "outputs": [
    {
     "name": "stdout",
     "output_type": "stream",
     "text": [
      "3.0\n",
      "20.0\n",
      "0\n"
     ]
    }
   ],
   "source": [
    "\n",
    "def calculate_average(*args):\n",
    "    return sum(args) / len(args) if args else 0\n",
    "\n",
    "# Test the function\n",
    "print(calculate_average(1, 2, 3, 4, 5))  # Output: 3.0\n",
    "print(calculate_average(10, 20, 30))    # Output: 20.0\n",
    "print(calculate_average())             # Output: 0\n",
    "\n"
   ]
  }
 ],
 "metadata": {
  "kernelspec": {
   "display_name": "Python 3",
   "language": "python",
   "name": "python3"
  },
  "language_info": {
   "codemirror_mode": {
    "name": "ipython",
    "version": 3
   },
   "file_extension": ".py",
   "mimetype": "text/x-python",
   "name": "python",
   "nbconvert_exporter": "python",
   "pygments_lexer": "ipython3",
   "version": "3.12.5"
  }
 },
 "nbformat": 4,
 "nbformat_minor": 2
}
