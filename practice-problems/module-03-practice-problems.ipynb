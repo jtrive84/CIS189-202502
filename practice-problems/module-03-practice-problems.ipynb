{
 "cells": [
  {
   "cell_type": "markdown",
   "metadata": {},
   "source": [
    "### CIS189 Module \\#3 Practice Problems\n"
   ]
  },
  {
   "cell_type": "markdown",
   "metadata": {},
   "source": [
    "1. *In DNA strings, symbols 'A' and 'T' are complements of each other, as are 'C' and 'G'. The reverse complement of a DNA string `s` formed by reversing the symbols of s then taking the complement of each symbol (e.g., the reverse complement of \"GTCA\" is \"TGAC\"). Find the reverse complement for:*\n",
    "\n",
    "> s = \"AAAACCCGGT\"\n",
    "\n",
    "> Expected result = \"ACCGGGTTTT\"\n",
    "\n"
   ]
  },
  {
   "cell_type": "code",
   "execution_count": 7,
   "metadata": {},
   "outputs": [],
   "source": [
    "\n",
    "# This one is not easy to do without looping. I'll demonstrate the solution \n",
    "# using a for loop. \n",
    "s = \"AAAACCCGGT\"\n",
    "\n",
    "expected = \"ACCGGGTTTT\"\n",
    "\n",
    "# First reverse original string.\n",
    "s2 = s[::-1]\n",
    "complement = []\n",
    "\n",
    "# Iterate over s2 substituting values for their complements.\n",
    "for i in range(len(s2)):\n",
    "    if s2[i] == \"A\":\n",
    "        complement.append(\"T\")\n",
    "    elif s2[i] == \"T\":\n",
    "        complement.append(\"A\")\n",
    "    elif s2[i] == \"C\":\n",
    "        complement.append(\"G\")\n",
    "    elif s2[i] == \"G\":\n",
    "        complement.append(\"C\")\n",
    "\n",
    "result = \"\".join(complement)\n",
    "\n",
    "# Verify that expected and result are the same. Will throw an assertion error\n",
    "# if they are different.\n",
    "assert expected == result\n",
    "\n",
    "\n"
   ]
  },
  {
   "cell_type": "markdown",
   "metadata": {},
   "source": [
    "\n",
    "2. *For a given string of 1s and 0s, implement logic to ensure the result is exactly 10 characters. The rules are:*\n",
    "\n",
    "    1. If the string in longer than 10 characters, right-truncate the string to exactly 10 characters.\n",
    "    2. If the string is less than 10 characters and has even length, right-pad the string with 0s out to 10 characters.\n",
    "    3. If the string is less than 10 characters and has odd length, left-pad the string with 0s out to 10 characters. \n",
    "\n",
    "\n",
    "Below are 5 test strings and the expected result. \n",
    "```\n",
    "s0 = \"1000100\"               # result = \"0001000100\"\n",
    "s1 = \"111111111111111111111\" # result = \"1111111111\"\n",
    "s2 = \"0011\"                  # result = \"0011000000\"\n",
    "s3 = \"\"                      # result = \"0000000000\"\n",
    "s4 = \"1010101010\"            # result = \"1010101010\"\n",
    "```\n",
    "\n"
   ]
  },
  {
   "cell_type": "code",
   "execution_count": 12,
   "metadata": {},
   "outputs": [
    {
     "name": "stdout",
     "output_type": "stream",
     "text": [
      "s: 0011\n",
      "len(s): 4\n",
      "result: 0011000000\n"
     ]
    }
   ],
   "source": [
    "\n",
    "s0 = \"1000100\"               # result = \"0001000100\"\n",
    "s1 = \"111111111111111111111\" # result = \"1111111111\"\n",
    "s2 = \"0011\"                  # result = \"0011000000\"\n",
    "s3 = \"\"                      # result = \"0000000000\"\n",
    "s4 = \"1010101010\"            # result = \"1010101010\"\n",
    "\n",
    "\n",
    "# Same logic applies for each test string. Result is shown against s2. \n",
    "s = s2\n",
    "    \n",
    "s_len = len(s)\n",
    "\n",
    "if s_len >= 10:\n",
    "    result = s[:10]\n",
    "\n",
    "elif s_len % 2 == 0: # If s_len is even.\n",
    "    # Right pad with 0s out to 10 characters.\n",
    "    result = s + \"0\" * (10 - s_len)\n",
    "\n",
    "else: # s_len is odd.\n",
    "    # Left pad with 0s out to 10 characters.\n",
    "    result = \"0\" * (10 - s_len) + s\n",
    "\n",
    "print(f\"s: {s}\")\n",
    "print(f\"len(s): {len(s)}\")\n",
    "print(f\"result: {result}\")\n"
   ]
  },
  {
   "cell_type": "markdown",
   "metadata": {},
   "source": [
    "3. Write a program to test if a candidate string contains the letter \"a\". If it contains \"a\", print the number of non-\"a\" characters. Otherwise, print the length of the original string. \n",
    "\n",
    "Test cases:\n",
    "```\n",
    "\"sample\" # returns 5\n",
    "\"simple\" # returns 6\n",
    "```"
   ]
  },
  {
   "cell_type": "code",
   "execution_count": 15,
   "metadata": {},
   "outputs": [
    {
     "name": "stdout",
     "output_type": "stream",
     "text": [
      "6\n"
     ]
    }
   ],
   "source": [
    "\n",
    "s = \"simple\"\n",
    "\n",
    "if \"a\" in s:\n",
    "    result = len(s.replace(\"a\", \"\"))\n",
    "else:\n",
    "    result = len(s)\n",
    "\n",
    "print(result)\n",
    "\n",
    "\n"
   ]
  }
 ],
 "metadata": {
  "kernelspec": {
   "display_name": "Python 3",
   "language": "python",
   "name": "python3"
  },
  "language_info": {
   "codemirror_mode": {
    "name": "ipython",
    "version": 3
   },
   "file_extension": ".py",
   "mimetype": "text/x-python",
   "name": "python",
   "nbconvert_exporter": "python",
   "pygments_lexer": "ipython3",
   "version": "3.12.0"
  }
 },
 "nbformat": 4,
 "nbformat_minor": 2
}
