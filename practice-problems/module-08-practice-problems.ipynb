{
 "cells": [
  {
   "cell_type": "markdown",
   "metadata": {},
   "source": [
    "### CIS189 Module \\#8 Practice Problems"
   ]
  },
  {
   "cell_type": "markdown",
   "metadata": {},
   "source": [
    "Create a dictionary representing the frequency of each character in the following string. Exclude any whitespace characters and consider only lowercase characters. Return character mapping as list of 2-tuples sorted from most frequent to least frequent."
   ]
  },
  {
   "cell_type": "code",
   "execution_count": 6,
   "metadata": {},
   "outputs": [
    {
     "data": {
      "text/plain": [
       "[('l', 6),\n",
       " ('s', 4),\n",
       " ('e', 4),\n",
       " ('h', 3),\n",
       " ('a', 3),\n",
       " ('i', 3),\n",
       " ('k', 2),\n",
       " ('n', 2),\n",
       " ('w', 1),\n",
       " ('t', 1),\n",
       " ('o', 1),\n",
       " ('g', 1),\n",
       " ('b', 1),\n",
       " ('c', 1),\n",
       " ('v', 1)]"
      ]
     },
     "execution_count": 6,
     "metadata": {},
     "output_type": "execute_result"
    }
   ],
   "source": [
    "\n",
    "s = \"She walks these hills in a long black veil\"\n",
    "\n",
    "def char_frequency(text):\n",
    "    \"\"\"\n",
    "    Counts the frequency of each character in a string.\n",
    "    \"\"\"\n",
    "    char_count = {}\n",
    "    for char in text:\n",
    "        if char not in char_count:\n",
    "            char_count[char] = 0\n",
    "        char_count[char] += 1\n",
    "    return char_count\n",
    "\n",
    "\n",
    "# Count character frequencies. Remove whitespace and convert to lowercase.\n",
    "snw = s.replace(\" \", \"\").lower()\n",
    "dfreq = char_frequency(snw)\n",
    "\n",
    "# Sort in decreasing order of frequency.\n",
    "freqs = sorted(dfreq.items(), key=lambda v: v[-1], reverse=True)\n",
    "\n",
    "freqs\n"
   ]
  },
  {
   "cell_type": "code",
   "execution_count": 9,
   "metadata": {},
   "outputs": [
    {
     "data": {
      "text/plain": [
       "Counter({'l': 6,\n",
       "         's': 4,\n",
       "         'e': 4,\n",
       "         'h': 3,\n",
       "         'a': 3,\n",
       "         'i': 3,\n",
       "         'k': 2,\n",
       "         'n': 2,\n",
       "         'w': 1,\n",
       "         't': 1,\n",
       "         'o': 1,\n",
       "         'g': 1,\n",
       "         'b': 1,\n",
       "         'c': 1,\n",
       "         'v': 1})"
      ]
     },
     "execution_count": 9,
     "metadata": {},
     "output_type": "execute_result"
    }
   ],
   "source": [
    "# Can also use Counter from collections.\n",
    "\n",
    "from collections import Counter\n",
    "\n",
    "text = \"She walks these hills in a long white veil\"\n",
    "\n",
    "dfreqs = Counter(snw)\n",
    "\n",
    "dfreqs\n"
   ]
  },
  {
   "cell_type": "markdown",
   "metadata": {},
   "source": [
    "Write a program that updates values in a dictionary based on a condition. For example, increase the price of all items in a shopping cart by 10% if their price is above $10. Assume cart contains the following:\n",
    "\n",
    "> `cart =  {\"apple\": 2.5, \"banana\": 1.5, \"milk\": 4.2, \"gin\": 40, \"flowers\": 17}`\n"
   ]
  },
  {
   "cell_type": "code",
   "execution_count": 2,
   "metadata": {},
   "outputs": [
    {
     "name": "stdout",
     "output_type": "stream",
     "text": [
      "{'apple': 2.5, 'banana': 1.5, 'milk': 4.2, 'gin': 44.0, 'flowers': 18.700000000000003}\n"
     ]
    }
   ],
   "source": [
    "\n",
    "def update_prices(shopping_cart, increase_pct):\n",
    "  \"\"\"Updates prices in a shopping cart dictionary conditionally.\"\"\"\n",
    "  for item, price in shopping_cart.items():\n",
    "    if price > 10:\n",
    "      new_price = price * (1 + increase_pct/100)\n",
    "      shopping_cart[item] = new_price\n",
    "  return shopping_cart\n",
    "\n",
    "\n",
    "# Sample shopping cart.\n",
    "cart = {\"apple\": 2.5, \"banana\": 1.5, \"milk\": 4.2, \"gin\": 40, \"flowers\": 17}\n",
    "\n",
    "# Update prices for items above $10 with a 10% increase\n",
    "updated_cart = update_prices(cart.copy(), 10)  # Copy the dictionary to avoid modifying the original\n",
    "\n",
    "# Print updated cart\n",
    "print(updated_cart)"
   ]
  },
  {
   "cell_type": "markdown",
   "metadata": {},
   "source": [
    "<br>\n",
    "\n",
    "Merge d1 and d2. If a key appears in both dictionaries, use the sum in the merged dictionary."
   ]
  },
  {
   "cell_type": "code",
   "execution_count": 1,
   "metadata": {},
   "outputs": [
    {
     "data": {
      "text/plain": [
       "{'a': 10, 'b': 25, 'c': 70, 'd': 60, 'e': 17}"
      ]
     },
     "execution_count": 1,
     "metadata": {},
     "output_type": "execute_result"
    }
   ],
   "source": [
    "\n",
    "d1 = {\"a\": 10, \"b\": 20, \"c\": 40} \n",
    "d2 = {\"b\": 5, \"c\": 30, \"d\": 60, \"e\": 17}\n",
    "\n",
    "dmerged = d1.copy()\n",
    "for kk, vv in d2.items():\n",
    "    dmerged[kk] = dmerged.get(kk, 0) + vv\n",
    "\n",
    "dmerged\n",
    "\n"
   ]
  }
 ],
 "metadata": {
  "kernelspec": {
   "display_name": "base",
   "language": "python",
   "name": "python3"
  },
  "language_info": {
   "codemirror_mode": {
    "name": "ipython",
    "version": 3
   },
   "file_extension": ".py",
   "mimetype": "text/x-python",
   "name": "python",
   "nbconvert_exporter": "python",
   "pygments_lexer": "ipython3",
   "version": "3.12.5"
  }
 },
 "nbformat": 4,
 "nbformat_minor": 2
}
