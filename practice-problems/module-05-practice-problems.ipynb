{
 "cells": [
  {
   "cell_type": "markdown",
   "metadata": {},
   "source": [
    "### CIS189 Module \\#5 Practice Problems"
   ]
  },
  {
   "cell_type": "markdown",
   "metadata": {},
   "source": [
    "**1.** Write code that iterates over the `cereals` list, printing each item. If \"Coco Puffs\" is encountered, \n",
    "print \"I'm Cucu for Coco Puffs!!!\" instead of \"Coco Puffs\".\n",
    "\n",
    "```\n",
    "cereals = [\n",
    "    \"Fruit Loops\", \"Lucky Charms\", \"Rice Krispies\", \"Frosted Flakes\", \"Coco Puffs\", \n",
    "    \"Frosted Mini Wheats\", \"Crispix\", \"Apple Jacks\", \"Fruity Pebbles\"\n",
    "    ]\n",
    "```\n"
   ]
  },
  {
   "cell_type": "code",
   "execution_count": 1,
   "metadata": {},
   "outputs": [
    {
     "name": "stdout",
     "output_type": "stream",
     "text": [
      "Fruit Loops\n",
      "Lucky Charms\n",
      "Rice Krispies\n",
      "Frosted Flakes\n",
      "I'm CuCu for Coco Puffs!!!\n",
      "Frosted Mini Wheats\n",
      "Crispix\n",
      "Apple Jacks\n",
      "Fruity Pebbles\n"
     ]
    }
   ],
   "source": [
    "\n",
    "cereals = [\n",
    "    \"Fruit Loops\", \"Lucky Charms\", \"Rice Krispies\", \"Frosted Flakes\", \"Coco Puffs\", \n",
    "    \"Frosted Mini Wheats\", \"Crispix\", \"Apple Jacks\", \"Fruity Pebbles\"\n",
    "    ]\n",
    "\n",
    "for cereal in cereals:\n",
    "    if cereal == \"Coco Puffs\":\n",
    "        print(\"I'm CuCu for Coco Puffs!!!\")\n",
    "    else:\n",
    "        print(cereal)\n",
    "\n"
   ]
  },
  {
   "cell_type": "markdown",
   "metadata": {},
   "source": [
    "**1.b** Loop over `cereals`, and count the number of cereals that start with \"F\"."
   ]
  },
  {
   "cell_type": "code",
   "execution_count": 2,
   "metadata": {},
   "outputs": [
    {
     "name": "stdout",
     "output_type": "stream",
     "text": [
      "Number of cereals that start with F: 4\n"
     ]
    }
   ],
   "source": [
    "\n",
    "cntr = 0\n",
    "for cereal in cereals:\n",
    "    if cereal.upper().startswith(\"F\"):\n",
    "        cntr+=1\n",
    "\n",
    "print(f\"Number of cereals that start with F: {cntr}\")\n",
    "\n"
   ]
  },
  {
   "cell_type": "markdown",
   "metadata": {},
   "source": [
    "\n",
    "**2.** For the given sub-sequences of DNA, create a list of sub-sequences that have an even number of characters, discarding the odd length sub-sequences.\n",
    "\n",
    "```\n",
    "dna = [\n",
    "    \"AGCTTTTCAT\",\n",
    "    \"TCAT\",\n",
    "    \"TCTGACTGCA\",\n",
    "    \"GGGCAATTA\",\n",
    "    \"TCTGAGCA\",\n",
    "    \"AG\",\n",
    "    \"TATATATATATATATAT\",\n",
    "    ]\n",
    "```\n"
   ]
  },
  {
   "cell_type": "code",
   "execution_count": 3,
   "metadata": {},
   "outputs": [
    {
     "name": "stdout",
     "output_type": "stream",
     "text": [
      "keepers: ['AGCTTTTCAT', 'TCAT', 'TCTGACTGCA', 'TCTGAGCA', 'AG']\n"
     ]
    }
   ],
   "source": [
    "dna = [\n",
    "    \"AGCTTTTCAT\",\n",
    "    \"TCAT\",\n",
    "    \"TCTGACTGCA\",\n",
    "    \"GGGCAATTA\",\n",
    "    \"TCTGAGCA\",\n",
    "    \"AG\",\n",
    "    \"TATATATATATATATAT\",\n",
    "    ]\n",
    "\n",
    "keepers = []\n",
    "for i in dna:\n",
    "    if len(i) % 2 == 0:\n",
    "        keepers.append(i)\n",
    "\n",
    "print(f\"keepers: {keepers}\")\n"
   ]
  },
  {
   "cell_type": "markdown",
   "metadata": {},
   "source": [
    "\n",
    "<br>\n",
    "\n",
    "This can be solved in a single statement using a list comprehension:"
   ]
  },
  {
   "cell_type": "code",
   "execution_count": 20,
   "metadata": {},
   "outputs": [
    {
     "name": "stdout",
     "output_type": "stream",
     "text": [
      "keepers: ['AGCTTTTCAT', 'TCAT', 'TCTGACTGCA', 'TCTGAGCA', 'AG']\n"
     ]
    }
   ],
   "source": [
    "keepers = []\n",
    "for i in dna:\n",
    "    if len(i) % 2 == 0:\n",
    "        keepers.append(i)\n",
    "\n",
    "\n",
    "keepers = [i for i in dna if len(i) % 2 == 0]\n",
    "\n",
    "print(f\"keepers: {keepers}\")\n"
   ]
  },
  {
   "cell_type": "markdown",
   "metadata": {},
   "source": [
    "Can also use `filter`:"
   ]
  },
  {
   "cell_type": "code",
   "execution_count": 4,
   "metadata": {},
   "outputs": [
    {
     "name": "stdout",
     "output_type": "stream",
     "text": [
      "keepers: ['AGCTTTTCAT', 'TCAT', 'TCTGACTGCA', 'TCTGAGCA', 'AG']\n"
     ]
    }
   ],
   "source": [
    "\n",
    "keepers = filter(lambda v: len(v) % 2 == 0, dna)\n",
    "\n",
    "print(f\"keepers: {list(keepers)}\")\n"
   ]
  },
  {
   "cell_type": "markdown",
   "metadata": {},
   "source": [
    "\n",
    "<br>\n",
    "\n",
    "\n",
    "**3.** If we list all the natural numbers below 10 that are multiples of 3 or 5, we get 3, 5, 6, 9. The sum of these multiples is 23. Find the sum of all multiples of 3 or 5 below 1000.\n",
    "\n"
   ]
  },
  {
   "cell_type": "code",
   "execution_count": 10,
   "metadata": {},
   "outputs": [
    {
     "name": "stdout",
     "output_type": "stream",
     "text": [
      "sum(multiples10): 23\n",
      "sum(multiples1000): 233168\n"
     ]
    }
   ],
   "source": [
    "\n",
    "# Verify solution works up to 10.\n",
    "multiples10 = []\n",
    "for i in range(10):\n",
    "    if i % 3 == 0 or i % 5 == 0:\n",
    "        multiples10.append(i)\n",
    "\n",
    "print(f\"sum(multiples10): {sum(multiples10)}\")\n",
    "\n",
    "\n",
    "# Apply logic up to 1000.\n",
    "multiples1000 = []\n",
    "for i in range(1000):\n",
    "    if i % 3 == 0 or i % 5 == 0:\n",
    "        multiples1000.append(i)\n",
    "\n",
    "print(f\"sum(multiples1000): {sum(multiples1000)}\")\n"
   ]
  },
  {
   "cell_type": "markdown",
   "metadata": {},
   "source": [
    "We can create a function that takes `n` as an argument:"
   ]
  },
  {
   "cell_type": "code",
   "execution_count": 9,
   "metadata": {},
   "outputs": [
    {
     "name": "stdout",
     "output_type": "stream",
     "text": [
      "get_sum_of_mults(10)    : 23\n",
      "get_sum_of_mults(100)   : 2318\n",
      "get_sum_of_mults(1000)  : 233168\n",
      "get_sum_of_mults(10000) : 23331668\n",
      "get_sum_of_mults(100000): 2333316668\n"
     ]
    }
   ],
   "source": [
    "\n",
    "\n",
    "def get_sum_of_mults(n):\n",
    "    \"\"\"\n",
    "    Determine the sum of the natural numbers up to n that are multiples of \n",
    "    3 or 5.\n",
    "\n",
    "    Parameters\n",
    "    ----------\n",
    "    n: int\n",
    "        Upper limit of integer range to evaluate. n should not be included in\n",
    "        test.\n",
    "\n",
    "    Returns\n",
    "    -------\n",
    "    int\n",
    "        Sum of the natural numbers up to n that are multiples of 3 or 5.\n",
    "    \"\"\"\n",
    "    multiples = []\n",
    "    for i in range(n):\n",
    "        if i % 3 == 0 or i % 5 == 0:\n",
    "            multiples.append(i)\n",
    "    total = sum(multiples)\n",
    "    return(total)\n",
    "\n",
    "\n",
    "\n",
    "print(f\"get_sum_of_mults(10)     : {get_sum_of_mults(10)}\")\n",
    "print(f\"get_sum_of_mults(100)    : {get_sum_of_mults(100)}\")\n",
    "print(f\"get_sum_of_mults(1000)   : {get_sum_of_mults(1000)}\")\n",
    "print(f\"get_sum_of_mults(10000)  : {get_sum_of_mults(10000)}\")\n",
    "print(f\"get_sum_of_mults(100000) : {get_sum_of_mults(100000)}\")\n"
   ]
  },
  {
   "cell_type": "markdown",
   "metadata": {},
   "source": [
    "This can also be solved using a list comprehension in a single statement:"
   ]
  },
  {
   "cell_type": "code",
   "execution_count": 7,
   "metadata": {},
   "outputs": [
    {
     "name": "stdout",
     "output_type": "stream",
     "text": [
      "total: 233168\n"
     ]
    }
   ],
   "source": [
    "\n",
    "total = sum([i for i in range(1000) if i % 3 == 0 or i % 5 == 0])\n",
    "\n",
    "print(f\"total: {total}\")\n"
   ]
  },
  {
   "cell_type": "markdown",
   "metadata": {},
   "source": [
    "**4.** Each new term in the Fibonacci sequence is generated by adding the previous\n",
    "two terms. By starting with 1 and 2, the first 10 terms will be:\n",
    "\n",
    "```\n",
    "1, 2, 3, 5, 8, 13, 21, 34, 55, 89, ...\n",
    "```\n",
    "\n",
    "By considering the terms in the Fibonacci sequence whose values do not exceed\n",
    "four million, find the sum of the even-valued terms.\n"
   ]
  },
  {
   "cell_type": "code",
   "execution_count": 8,
   "metadata": {},
   "outputs": [
    {
     "name": "stdout",
     "output_type": "stream",
     "text": [
      "sum of even Fibonacci numbers up to 4,000,000: 4,613,732\n"
     ]
    }
   ],
   "source": [
    "\n",
    "\n",
    "def fibonacci_seq(upto):\n",
    "    \"\"\"\n",
    "    Return the Fibonacci sequence up to upto.\n",
    "    \"\"\"\n",
    "    seq = [1, 2]\n",
    "    while seq[-1] < upto:\n",
    "        seq.append(seq[-1] + seq[-2])\n",
    "    return(seq)\n",
    "\n",
    "\n",
    "\n",
    "evens = []\n",
    "for i in fibonacci_seq(4000000):\n",
    "    if i % 2 == 0:\n",
    "        evens.append(i)\n",
    "\n",
    "sum_of_evens = sum(evens)\n",
    "\n",
    "\n",
    "print(f\"sum of even Fibonacci numbers up to 4,000,000: {sum_of_evens:,}\")\n"
   ]
  },
  {
   "cell_type": "markdown",
   "metadata": {},
   "source": [
    "Can forgo the loop and use a list comprehension:"
   ]
  },
  {
   "cell_type": "code",
   "execution_count": 9,
   "metadata": {},
   "outputs": [
    {
     "name": "stdout",
     "output_type": "stream",
     "text": [
      "sum of even Fibonacci numbers up to 4,000,000: 4613732\n"
     ]
    }
   ],
   "source": [
    "\n",
    "sum_of_evens = sum([i for i in fibonacci_seq(4000000) if i % 2 == 0])\n",
    "\n",
    "print(f\"sum of even Fibonacci numbers up to 4,000,000: {sum_of_evens}\")\n"
   ]
  }
 ],
 "metadata": {
  "kernelspec": {
   "display_name": "Python 3",
   "language": "python",
   "name": "python3"
  },
  "language_info": {
   "codemirror_mode": {
    "name": "ipython",
    "version": 3
   },
   "file_extension": ".py",
   "mimetype": "text/x-python",
   "name": "python",
   "nbconvert_exporter": "python",
   "pygments_lexer": "ipython3",
   "version": "3.12.5"
  }
 },
 "nbformat": 4,
 "nbformat_minor": 2
}
