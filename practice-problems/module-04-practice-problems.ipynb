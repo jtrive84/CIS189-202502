{
 "cells": [
  {
   "cell_type": "markdown",
   "metadata": {},
   "source": [
    "### CIS189 Module \\#4 Practice Problems"
   ]
  },
  {
   "cell_type": "markdown",
   "metadata": {},
   "source": [
    "\n",
    "1. Write a function `dash_inserter` that takes a string as input and returns a modified string with a dash inserted between every two characters. If the input string is \"hello\", the function should return \"h-e-l-l-o\". Be sure to add exception handling for instances in which the input isn't a string. "
   ]
  },
  {
   "cell_type": "code",
   "execution_count": 5,
   "metadata": {},
   "outputs": [
    {
     "data": {
      "text/plain": [
       "'h-e-l-l-o'"
      ]
     },
     "execution_count": 5,
     "metadata": {},
     "output_type": "execute_result"
    }
   ],
   "source": [
    "\n",
    "\n",
    "def dash_inserter(s):\n",
    "    \"\"\"\n",
    "    Insert a dash between consecutive characters. \n",
    "    \n",
    "    Parameters\n",
    "    ----------\n",
    "    s: str\n",
    "        Original string.    \n",
    "    \"\"\"\n",
    "    try:\n",
    "        s_list = list(s)\n",
    "        s2 = \"-\".join(s_list)\n",
    "    except Exception as ee:\n",
    "        print(str(ee))\n",
    "    else:\n",
    "        return s2 \n",
    "\n",
    "\n",
    "dash_inserter(\"hello\")"
   ]
  },
  {
   "cell_type": "markdown",
   "metadata": {},
   "source": [
    "\n",
    "2. Write a function `vowel_remover` that takes a string `s` and returns a modified version of `s` with all vowels removed ('a', 'e', 'i', 'o', 'u', 'y') and in lowercase. Be sure to add exception handling for instances in which the input isn't a string. For example, \"Super Bowl in Las Vegas\" should return \"spr bwl n ls vgs\".\n"
   ]
  },
  {
   "cell_type": "code",
   "execution_count": 6,
   "metadata": {},
   "outputs": [
    {
     "data": {
      "text/plain": [
       "'spr bwl n ls vgs'"
      ]
     },
     "execution_count": 6,
     "metadata": {},
     "output_type": "execute_result"
    }
   ],
   "source": [
    "\n",
    "def vowel_remover(s):\n",
    "    \"\"\"\n",
    "    Remove vowels from s.\n",
    "\n",
    "    Parameters\n",
    "    ----------\n",
    "    s: str\n",
    "        Input string.\n",
    "\n",
    "    Returns\n",
    "    -------\n",
    "    str\n",
    "        String with vowels removed. \n",
    "    \"\"\"\n",
    "    try:\n",
    "        s = s.lower()\n",
    "        s = s.replace(\"a\", \"\")\n",
    "        s = s.replace(\"e\", \"\")\n",
    "        s = s.replace(\"i\", \"\")\n",
    "        s = s.replace(\"o\", \"\")\n",
    "        s = s.replace(\"u\", \"\")\n",
    "        s = s.replace(\"y\", \"\")\n",
    "    except Exception as ee:\n",
    "        print(str(ee))\n",
    "    else:\n",
    "        return s\n",
    "\n",
    "s = \"Super Bowl in Las Vegas\"\n",
    "vowel_remover(s)\n"
   ]
  },
  {
   "cell_type": "markdown",
   "metadata": {},
   "source": [
    "3. An example of a DNA string (whose alphabet contains the symbols 'A', 'C', 'G', and 'T') is:\n",
    "\n",
    "> s = \"AGCTTTTCATTCTGACTGCAACGGGCAATATGTCTCTGTGTGGATTAAAAAAAGAGTGTCTGATAGCAGC\"\n",
    "\n",
    "Write a function `symbol_counter` that takes a DNA sequence as a string and returns a list containing the number of As, Cs, Gs and Ts. "
   ]
  },
  {
   "cell_type": "code",
   "execution_count": 8,
   "metadata": {},
   "outputs": [
    {
     "data": {
      "text/plain": [
       "[20, 12, 17, 21]"
      ]
     },
     "execution_count": 8,
     "metadata": {},
     "output_type": "execute_result"
    }
   ],
   "source": [
    "\n",
    "def symbol_counter(s):\n",
    "    \"\"\"\n",
    "    Determine the number of A, C, G and T in s.\n",
    "\n",
    "    Parameters\n",
    "    ----------\n",
    "    s: str\n",
    "        Input DNA string.\n",
    "\n",
    "    Returns\n",
    "    -------\n",
    "    list\n",
    "        Count of A, C, G and T in s.\n",
    "    \"\"\"\n",
    "    s = s.upper().strip()\n",
    "    n_a = s.count(\"A\")\n",
    "    n_c = s.count(\"C\")\n",
    "    n_g = s.count(\"G\")\n",
    "    n_t = s.count(\"T\")\n",
    "    counts = [n_a, n_c, n_g, n_t]\n",
    "    return counts\n",
    "\n",
    "    \n",
    "s = \"AGCTTTTCATTCTGACTGCAACGGGCAATATGTCTCTGTGTGGATTAAAAAAAGAGTGTCTGATAGCAGC\"\n",
    "symbol_counter(s)\n"
   ]
  },
  {
   "cell_type": "code",
   "execution_count": 7,
   "metadata": {},
   "outputs": [
    {
     "data": {
      "text/plain": [
       "Counter({'T': 21, 'A': 20, 'G': 17, 'C': 12})"
      ]
     },
     "execution_count": 7,
     "metadata": {},
     "output_type": "execute_result"
    }
   ],
   "source": [
    "from collections import Counter \n",
    "\n",
    "s = \"AGCTTTTCATTCTGACTGCAACGGGCAATATGTCTCTGTGTGGATTAAAAAAAGAGTGTCTGATAGCAGC\"\n",
    "\n",
    "dcnt = Counter(s)\n",
    "\n",
    "dcnt\n"
   ]
  }
 ],
 "metadata": {
  "kernelspec": {
   "display_name": "Python 3",
   "language": "python",
   "name": "python3"
  },
  "language_info": {
   "codemirror_mode": {
    "name": "ipython",
    "version": 3
   },
   "file_extension": ".py",
   "mimetype": "text/x-python",
   "name": "python",
   "nbconvert_exporter": "python",
   "pygments_lexer": "ipython3",
   "version": "3.12.5"
  }
 },
 "nbformat": 4,
 "nbformat_minor": 2
}
