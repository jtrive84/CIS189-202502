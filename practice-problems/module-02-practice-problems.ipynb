{
 "cells": [
  {
   "cell_type": "markdown",
   "metadata": {},
   "source": [
    "### CIS189 Module \\#2 Practice Problems"
   ]
  },
  {
   "cell_type": "markdown",
   "metadata": {},
   "source": [
    "1. *Daily average temperatures (fahrenheit) over a prior 7 day period along with the corresponding day were the following:*\n",
    "\n",
    "```\n",
    "days1 = [\"sun\", \"mon\", \"tue\", \"wed\", \"thu\", \"fri\", \"sat\"]    \n",
    "temps1 = [-7, 4, 1, 7, 11, 28, 19]\n",
    "```\n",
    "\n"
   ]
  },
  {
   "cell_type": "markdown",
   "metadata": {},
   "source": [
    "- 1.a. *What was the high, low and average temperature over the prior 7 days?*\n",
    "\n",
    "    - **Solution:** Use `min` to find the low temperature, `max` to find the high temperature\n",
    "and `mean` from the built-in statistics library to compute the average:"
   ]
  },
  {
   "cell_type": "code",
   "execution_count": 1,
   "metadata": {},
   "outputs": [
    {
     "name": "stdout",
     "output_type": "stream",
     "text": [
      "Low temperature over 7-day period    : -7 degrees.\n",
      "High temperature over 7-day period   : 28 degrees.\n",
      "Average temperature over 7-day period: 9 degrees.\n"
     ]
    }
   ],
   "source": [
    "\n",
    "import statistics\n",
    "\n",
    "days1 = [\"sun\", \"mon\", \"tue\", \"wed\", \"thu\", \"fri\", \"sat\"]    \n",
    "temps1 = [-7, 4, 1, 7, 11, 28, 19]\n",
    "\n",
    "low_temp = min(temps1)\n",
    "high_temp = max(temps1)\n",
    "avg_temp = statistics.mean(temps1)\n",
    "\n",
    "print(f\"Low temperature over 7-day period    : {low_temp} degrees.\")\n",
    "print(f\"High temperature over 7-day period   : {high_temp} degrees.\")\n",
    "print(f\"Average temperature over 7-day period: {avg_temp} degrees.\")\n"
   ]
  },
  {
   "cell_type": "markdown",
   "metadata": {},
   "source": [
    "<br>\n",
    "\n",
    "- 1.b. *What was the average temperature excluding the first and last days?* (hint: use slice notation)\n"
   ]
  },
  {
   "cell_type": "code",
   "execution_count": 2,
   "metadata": {},
   "outputs": [
    {
     "name": "stdout",
     "output_type": "stream",
     "text": [
      "Original temps1 list         : [-7, 4, 1, 7, 11, 28, 19]\n",
      "Remaining temps after slicing: [4, 1, 7, 11, 28]\n",
      "Average temperature excluding first and last days: 10.2 degrees.\n"
     ]
    }
   ],
   "source": [
    "\n",
    "# Compute average of all but first and last days using slicing.\n",
    "# temps1[1:-1] returns all elements starting at index 1 up to\n",
    "# but not including the last element in temps1.\n",
    "excl_first_last = temps1[1:-1]\n",
    "avg_excl_first_last = statistics.mean(excl_first_last)\n",
    "\n",
    "\n",
    "print(f\"Original temps1 list         : {temps1}\")\n",
    "print(f\"Remaining temps after slicing: {excl_first_last}\")\n",
    "print(f\"Average temperature excluding first and last days: {avg_excl_first_last} degrees.\")\n"
   ]
  },
  {
   "cell_type": "markdown",
   "metadata": {},
   "source": [
    "Note that it isn't necessary to create a new variable `avg_excl_first_last` if you only need to compute the average: You can pass the slice into min/max/mean directly:\n",
    "\n",
    "```python\n",
    "statistics.mean(temps1[1:-1])\n",
    "# 10.2\n",
    "```\n"
   ]
  },
  {
   "cell_type": "markdown",
   "metadata": {},
   "source": [
    "<br>\n",
    "\n",
    "- 1.c. *What day had the highest temperature? What day had the lowest temperature?*\n",
    "\n",
    "    - **Solution:** To determine the day of the week that had the highest and lowest temperatures, it is necessary to first identify the index of the minimum and maximum temperatures in `temps1`. We can then use those indices to lookup the corresponding day from `days1`."
   ]
  },
  {
   "cell_type": "code",
   "execution_count": 3,
   "metadata": {},
   "outputs": [
    {
     "name": "stdout",
     "output_type": "stream",
     "text": [
      "temps1: [-7, 4, 1, 7, 11, 28, 19]\n",
      "days1 : ['sun', 'mon', 'tue', 'wed', 'thu', 'fri', 'sat']\n",
      "\n",
      "low_temp     : -7\n",
      "low_temp_indx: 0\n",
      "low_temp_day : sun\n",
      "\n",
      "high_temp     : 28\n",
      "high_temp_indx: 5\n",
      "high_temp_day : fri\n"
     ]
    }
   ],
   "source": [
    "\n",
    "# Get the index of the minimum temperature from temps1.\n",
    "low_temp = min(temps1)\n",
    "low_temp_indx = temps1.index(low_temp)\n",
    "low_temp_day = days1[low_temp_indx]\n",
    "\n",
    "# Get the index of the maximum temperature from temps1.\n",
    "high_temp = max(temps1)\n",
    "high_temp_indx = temps1.index(high_temp)\n",
    "high_temp_day = days1[high_temp_indx]\n",
    "\n",
    "\n",
    "print(f\"temps1: {temps1}\")\n",
    "print(f\"days1 : {days1}\")\n",
    "\n",
    "print(f\"\\nlow_temp     : {low_temp}\")\n",
    "print(f\"low_temp_indx: {low_temp_indx}\")\n",
    "print(f\"low_temp_day : {low_temp_day}\")\n",
    "\n",
    "print(f\"\\nhigh_temp     : {high_temp}\")\n",
    "print(f\"high_temp_indx: {high_temp_indx}\")\n",
    "print(f\"high_temp_day : {high_temp_day}\")\n"
   ]
  },
  {
   "cell_type": "markdown",
   "metadata": {},
   "source": [
    "<br>\n",
    "\n",
    "- 1.d. *What was the average temperature excluding Wednesday?*\n",
    "\n",
    "    - **Solution** : Find the index associated with \"wed\" in `days1`, then use that index to pop the Wednesday temperature from `temps1`. Compute the average of the remaining elements. \n",
    "    "
   ]
  },
  {
   "cell_type": "code",
   "execution_count": 4,
   "metadata": {},
   "outputs": [
    {
     "name": "stdout",
     "output_type": "stream",
     "text": [
      "temps1 before pop: [-7, 4, 1, 7, 11, 28, 19]\n",
      "temps1 after pop : [-7, 4, 1, 11, 28, 19]\n",
      "Average temperature excluding Wednesday: 9.33 degrees.\n"
     ]
    }
   ],
   "source": [
    "\n",
    "# Print original temps1 list.\n",
    "print(f\"temps1 before pop: {temps1}\")\n",
    "\n",
    "# Find \"wed\" index in days1. \n",
    "wed_indx = days1.index(\"wed\")\n",
    "\n",
    "# Use wed_indx to pop the wed temperature from temps1. \n",
    "temps1.pop(wed_indx)\n",
    "\n",
    "# Print modified temps1 list. \n",
    "print(f\"temps1 after pop : {temps1}\")\n",
    "\n",
    "# Compute average of remaining temperatures.\n",
    "avg_temp_no_wed = statistics.mean(temps1)\n",
    "\n",
    "print(f\"Average temperature excluding Wednesday: {avg_temp_no_wed:.2f} degrees.\")\n"
   ]
  },
  {
   "cell_type": "markdown",
   "metadata": {},
   "source": [
    "<br>\n",
    "\n",
    "\n",
    "2. *New data has come in for the next 7 days:*\n",
    "\n",
    "```\n",
    "days2 = [\"sun\", \"mon\", \"tue\", \"wed\", \"thu\", \"fri\", \"sat\"]    \n",
    "temps2 = [17, 9, 9, 26, 20, 19, 34]\n",
    "```\n",
    "\n",
    "<br>\n",
    "\n",
    "Combine `days1` & `days2` and `temps1` & `temps2` to answer the following questions about temperature over the 14-day period:"
   ]
  },
  {
   "cell_type": "markdown",
   "metadata": {},
   "source": [
    "* 2.a. *What was the high, low and average temperature over the past 14 days?*\n"
   ]
  },
  {
   "cell_type": "code",
   "execution_count": 5,
   "metadata": {},
   "outputs": [
    {
     "name": "stdout",
     "output_type": "stream",
     "text": [
      "days : ['sun', 'mon', 'tue', 'wed', 'thu', 'fri', 'sat', 'sun', 'mon', 'tue', 'wed', 'thu', 'fri', 'sat']\n",
      "temps: [-7, 4, 1, 7, 11, 28, 19, 17, 9, 9, 26, 20, 19, 34]\n"
     ]
    }
   ],
   "source": [
    "\n",
    "# Combine two days and two temps lists into single days and single temps list. \n",
    "days1 = [\"sun\", \"mon\", \"tue\", \"wed\", \"thu\", \"fri\", \"sat\"]    \n",
    "temps1 = [-7, 4, 1, 7, 11, 28, 19]\n",
    "\n",
    "days2 = [\"sun\", \"mon\", \"tue\", \"wed\", \"thu\", \"fri\", \"sat\"]    \n",
    "temps2 = [17, 9, 9, 26, 20, 19, 34]\n",
    "\n",
    "days = days1 + days2\n",
    "temps = temps1 + temps2\n",
    "\n",
    "print(f\"days : {days}\")\n",
    "print(f\"temps: {temps}\")\n"
   ]
  },
  {
   "cell_type": "code",
   "execution_count": 6,
   "metadata": {},
   "outputs": [
    {
     "name": "stdout",
     "output_type": "stream",
     "text": [
      "Low temperature over 14-day period    : -7 degrees.\n",
      "High temperature over 14-day period   : 34 degrees.\n",
      "Average temperature over 14-day period: 14.07 degrees.\n"
     ]
    }
   ],
   "source": [
    "\n",
    "# Use min, max and statistics.mean on the combined list as before.\n",
    "low_temp = min(temps)\n",
    "high_temp = max(temps)\n",
    "avg_temp = statistics.mean(temps)\n",
    "\n",
    "print(f\"Low temperature over 14-day period    : {low_temp} degrees.\")\n",
    "print(f\"High temperature over 14-day period   : {high_temp} degrees.\")\n",
    "print(f\"Average temperature over 14-day period: {avg_temp:.2f} degrees.\")\n"
   ]
  },
  {
   "cell_type": "markdown",
   "metadata": {},
   "source": [
    "* 2.b. *Is the average temperature over the past 14 days higher or lower than the average over the first 7 days?*"
   ]
  },
  {
   "cell_type": "code",
   "execution_count": 7,
   "metadata": {},
   "outputs": [
    {
     "name": "stdout",
     "output_type": "stream",
     "text": [
      "Average temperature over first seven days: 9.00 degrees.\n",
      "Average temperature over fourteen days   : 14.07 degrees.\n"
     ]
    }
   ],
   "source": [
    "\n",
    "avg_temp7 = statistics.mean(temps1)\n",
    "avg_temp14 = statistics.mean(temps)\n",
    "\n",
    "print(f\"Average temperature over first seven days: {avg_temp7:.2f} degrees.\")\n",
    "print(f\"Average temperature over fourteen days   : {avg_temp14:.2f} degrees.\")\n",
    "\n",
    "# Average temperature over full 14-day period is higher than over the first 7-day period. "
   ]
  },
  {
   "cell_type": "markdown",
   "metadata": {},
   "source": [
    "* 2.c. *Is the average Wednesday temperature higher or lower than the average Friday temperature?*"
   ]
  },
  {
   "cell_type": "code",
   "execution_count": 8,
   "metadata": {},
   "outputs": [
    {
     "name": "stdout",
     "output_type": "stream",
     "text": [
      "days : ['sun', 'mon', 'tue', 'wed', 'thu', 'fri', 'sat', 'sun', 'mon', 'tue', 'wed', 'thu', 'fri', 'sat']\n",
      "temps: [-7, 4, 1, 7, 11, 28, 19, 17, 9, 9, 26, 20, 19, 34]\n",
      "\n",
      "-------- Wednesday ---------\n",
      "first_wed_indx : 3\n",
      "second_wed_indx: 10\n",
      "\n",
      "first_wed_temp : 7\n",
      "second_wed_temp: 26\n",
      "\n",
      "avg_wed_temp: 16.50 degrees.\n",
      "\n",
      "---------- Friday ----------\n",
      "first_fri_indx : 5\n",
      "second_fri_indx: 12\n",
      "\n",
      "first_fri_temp : 28\n",
      "second_fri_temp: 19\n",
      "\n",
      "avg_fri_temp: 23.50 degrees.\n",
      "-----------------------------\n"
     ]
    }
   ],
   "source": [
    "\n",
    "# We know the elements repeat from days1 to days2. We can find the index \n",
    "# of the first \"wed\", then add 7 to that value to get the second \"wed\" \n",
    "# index. \n",
    "first_wed_indx = days.index(\"wed\")\n",
    "second_wed_indx = first_wed_indx + 7\n",
    "\n",
    "# Use \"wed\" indices to find corresponding temps.\n",
    "first_wed_temp = temps[first_wed_indx]\n",
    "second_wed_temp = temps[second_wed_indx]\n",
    "\n",
    "# Average Wednesday temp is (first_wed_temp + second_wed_temp) / 2.\n",
    "avg_wed_temp = (first_wed_temp + second_wed_temp) / 2\n",
    "\n",
    "\n",
    "# Do the same for \"fri\".\n",
    "first_fri_indx = days.index(\"fri\")\n",
    "second_fri_indx = first_fri_indx + 7\n",
    "\n",
    "# Use \"fri\" indices to find corresponding temps.\n",
    "first_fri_temp = temps[first_fri_indx]\n",
    "second_fri_temp = temps[second_fri_indx]\n",
    "\n",
    "# Average Friday temp is (first_fri_temp + second_fri_temp) / 2.\n",
    "avg_fri_temp = (first_fri_temp + second_fri_temp) / 2\n",
    "\n",
    "\n",
    "# Print results.\n",
    "print(f\"days : {days}\")\n",
    "print(f\"temps: {temps}\\n\")\n",
    "\n",
    "print(\"-------- Wednesday ---------\")\n",
    "\n",
    "print(f\"first_wed_indx : {first_wed_indx}\")\n",
    "print(f\"second_wed_indx: {second_wed_indx}\\n\")\n",
    "\n",
    "print(f\"first_wed_temp : {first_wed_temp}\")\n",
    "print(f\"second_wed_temp: {second_wed_temp}\\n\")\n",
    "\n",
    "print(f\"avg_wed_temp: {avg_wed_temp:.2f} degrees.\\n\")\n",
    "\n",
    "print(\"---------- Friday ----------\")\n",
    "\n",
    "print(f\"first_fri_indx : {first_fri_indx}\")\n",
    "print(f\"second_fri_indx: {second_fri_indx}\\n\")\n",
    "\n",
    "print(f\"first_fri_temp : {first_fri_temp}\")\n",
    "print(f\"second_fri_temp: {second_fri_temp}\\n\")\n",
    "\n",
    "print(f\"avg_fri_temp: {avg_fri_temp:.2f} degrees.\")\n",
    "print(\"-----------------------------\")\n",
    "\n",
    "# Average friday temperature (23.50) is higher than the average wednesday temperature (16.50).\n"
   ]
  },
  {
   "cell_type": "markdown",
   "metadata": {},
   "source": [
    "* 2.d. *What is the maximum weekend temperature over the 14-day period?*\n",
    "\n",
    "    * **Solution:** Use same approach as in 2.c. but this time to identify weekend temperatures \n",
    "    (i.e. temperatures on \"sat\" and \"sun\"). Put all four temperatures in a list and compute the max.\n",
    "\n",
    "    "
   ]
  },
  {
   "cell_type": "code",
   "execution_count": 9,
   "metadata": {},
   "outputs": [
    {
     "name": "stdout",
     "output_type": "stream",
     "text": [
      "Maximum weekend temperature over 14-day period: 34 degrees.\n"
     ]
    }
   ],
   "source": [
    "\n",
    "# Get first \"sat\" index. Second \"sat\" will be offset by 7 days. \n",
    "first_sat_indx = days.index(\"sat\")\n",
    "second_sat_indx = first_sat_indx + 7\n",
    "first_sat_temp = temps[first_sat_indx]\n",
    "second_sat_temp = temps[second_sat_indx]\n",
    "\n",
    "# Same for \"sun\".\n",
    "first_sun_indx = days.index(\"sun\")\n",
    "second_sun_indx = first_sun_indx + 7\n",
    "first_sun_temp = temps[first_sun_indx]\n",
    "second_sun_temp = temps[second_sun_indx]\n",
    "\n",
    "# Combine all weekend temperatures into a single list.\n",
    "weekend_temps = [first_sat_temp, second_sat_temp, first_sun_temp, second_sun_temp]\n",
    "max_weekend_temp = max(weekend_temps)\n",
    "\n",
    "print(f\"Maximum weekend temperature over 14-day period: {max_weekend_temp} degrees.\")\n"
   ]
  },
  {
   "cell_type": "markdown",
   "metadata": {},
   "source": [
    "<br>\n",
    "\n",
    "\n",
    "3. An sample DNA string (whose alphabet contains the symbols 'A', 'C', 'G', and 'T') is:\n",
    "\n",
    "> s = \"AGCTTTTCATTCTGACTGCAACGGGCAATATGTCTCTGTGTGGATTAAAAAAAGAGTGTCTGATAGCAGC\"\n"
   ]
  },
  {
   "cell_type": "markdown",
   "metadata": {},
   "source": [
    "* 3.a. *How long is `s`?*"
   ]
  },
  {
   "cell_type": "code",
   "execution_count": 10,
   "metadata": {},
   "outputs": [
    {
     "name": "stdout",
     "output_type": "stream",
     "text": [
      "length of s: 70.\n"
     ]
    }
   ],
   "source": [
    "\n",
    "s = \"AGCTTTTCATTCTGACTGCAACGGGCAATATGTCTCTGTGTGGATTAAAAAAAGAGTGTCTGATAGCAGC\"\n",
    "\n",
    "s_length = len(s)\n",
    "\n",
    "print(f\"length of s: {s_length}.\")\n"
   ]
  },
  {
   "cell_type": "markdown",
   "metadata": {},
   "source": [
    "<br>\n",
    "\n",
    "* 3.b. *Print the last 7 characters of s using slice notation.*\n"
   ]
  },
  {
   "cell_type": "code",
   "execution_count": 11,
   "metadata": {},
   "outputs": [
    {
     "name": "stdout",
     "output_type": "stream",
     "text": [
      "Last seven characters of s: TAGCAGC\n"
     ]
    }
   ],
   "source": [
    "\n",
    "last7 = s[-7:]\n",
    "\n",
    "print(f\"Last seven characters of s: {last7}\")"
   ]
  },
  {
   "cell_type": "markdown",
   "metadata": {},
   "source": [
    "* 3.c. *What letter is at index 21? Index 71?*"
   ]
  },
  {
   "cell_type": "code",
   "execution_count": 12,
   "metadata": {},
   "outputs": [
    {
     "name": "stdout",
     "output_type": "stream",
     "text": [
      "Character at index 21: C.\n"
     ]
    },
    {
     "ename": "IndexError",
     "evalue": "string index out of range",
     "output_type": "error",
     "traceback": [
      "\u001b[1;31m---------------------------------------------------------------------------\u001b[0m",
      "\u001b[1;31mIndexError\u001b[0m                                Traceback (most recent call last)",
      "Cell \u001b[1;32mIn[12], line 4\u001b[0m\n\u001b[0;32m      1\u001b[0m char21 \u001b[38;5;241m=\u001b[39m s[\u001b[38;5;241m21\u001b[39m]\n\u001b[0;32m      2\u001b[0m \u001b[38;5;28mprint\u001b[39m(\u001b[38;5;124mf\u001b[39m\u001b[38;5;124m\"\u001b[39m\u001b[38;5;124mCharacter at index 21: \u001b[39m\u001b[38;5;132;01m{\u001b[39;00mchar21\u001b[38;5;132;01m}\u001b[39;00m\u001b[38;5;124m.\u001b[39m\u001b[38;5;124m\"\u001b[39m)\n\u001b[1;32m----> 4\u001b[0m char71 \u001b[38;5;241m=\u001b[39m \u001b[43ms\u001b[49m\u001b[43m[\u001b[49m\u001b[38;5;241;43m71\u001b[39;49m\u001b[43m]\u001b[49m\n\u001b[0;32m      5\u001b[0m \u001b[38;5;28mprint\u001b[39m(\u001b[38;5;124mf\u001b[39m\u001b[38;5;124m\"\u001b[39m\u001b[38;5;124mCharacter at index 71: \u001b[39m\u001b[38;5;132;01m{\u001b[39;00mchar71\u001b[38;5;132;01m}\u001b[39;00m\u001b[38;5;124m.\u001b[39m\u001b[38;5;124m\"\u001b[39m)\n",
      "\u001b[1;31mIndexError\u001b[0m: string index out of range"
     ]
    }
   ],
   "source": [
    "\n",
    "char21 = s[21]\n",
    "print(f\"Character at index 21: {char21}.\")\n",
    "\n",
    "char71 = s[71]\n",
    "print(f\"Character at index 71: {char71}.\")\n"
   ]
  },
  {
   "cell_type": "markdown",
   "metadata": {},
   "source": [
    "* 3.d. *Return four integers (separated by spaces) counting the respective number of times that the symbols 'A', 'C', 'G', and 'T' occur in s.*"
   ]
  },
  {
   "cell_type": "code",
   "execution_count": 13,
   "metadata": {},
   "outputs": [
    {
     "name": "stdout",
     "output_type": "stream",
     "text": [
      "A=20 C=12 G=17 T=21\n"
     ]
    }
   ],
   "source": [
    "\n",
    "# Use str count method to get the number of times each appears in s.\n",
    "n_a = s.count(\"A\")\n",
    "n_c = s.count(\"C\")\n",
    "n_g = s.count(\"G\")\n",
    "n_t = s.count(\"T\")\n",
    "\n",
    "print(f\"A={n_a} C={n_c} G={n_g} T={n_t}\")\n"
   ]
  }
 ],
 "metadata": {
  "kernelspec": {
   "display_name": "Python 3",
   "language": "python",
   "name": "python3"
  },
  "language_info": {
   "codemirror_mode": {
    "name": "ipython",
    "version": 3
   },
   "file_extension": ".py",
   "mimetype": "text/x-python",
   "name": "python",
   "nbconvert_exporter": "python",
   "pygments_lexer": "ipython3",
   "version": "3.12.0"
  }
 },
 "nbformat": 4,
 "nbformat_minor": 2
}
