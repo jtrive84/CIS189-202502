{
 "cells": [
  {
   "cell_type": "markdown",
   "metadata": {},
   "source": [
    "### CIS189 Module \\#7 Practice Problems"
   ]
  },
  {
   "cell_type": "markdown",
   "metadata": {},
   "source": [
    "**1. Read file and count the number of lines**\n",
    "\n",
    "Read *fruits.txt* into Python and print out the number of lines.\n"
   ]
  },
  {
   "cell_type": "code",
   "execution_count": 2,
   "metadata": {},
   "outputs": [
    {
     "name": "stdout",
     "output_type": "stream",
     "text": [
      "60\n"
     ]
    }
   ],
   "source": [
    "\n",
    "with open(\"fruits.txt\", \"r\") as f:\n",
    "\n",
    "    data = f.readlines()\n",
    "\n",
    "print(len(data))\n"
   ]
  },
  {
   "cell_type": "markdown",
   "metadata": {},
   "source": [
    "**2. Read file + filter + write**\n",
    "\n",
    "Read *gettysburg.txt* into a list of words. Filter the list down to words that start with `e`, then write the resulting list to file named *filtered.txt*, one word per line."
   ]
  },
  {
   "cell_type": "code",
   "execution_count": 9,
   "metadata": {},
   "outputs": [],
   "source": [
    "\n",
    "# Read gettysburg.txt into a list of words. \n",
    "with open(\"gettysburg.txt\", \"r\") as f:\n",
    "    words = f.read().split()\n",
    "\n",
    "# Filter down to only those words that start with \"e\".\n",
    "words2 = []\n",
    "for word in words:\n",
    "    if word.startswith(\"e\"):\n",
    "        words2.append(word)\n",
    "\n",
    "# Write elements of words2 to filtered.txt.\n",
    "with open(\"filtered.txt\", \"w\") as f:\n",
    "    for word in words2:\n",
    "        f.write(word +\"\\n\")\n"
   ]
  },
  {
   "cell_type": "markdown",
   "metadata": {},
   "source": [
    "**3. Logic encapsulation**\n",
    "\n",
    "Create a void function `text_filter` that encapsulates the logic from problem 2. Should take three arguments: \n",
    "\n",
    "1) source file path \n",
    "2) filtered file path\n",
    "3) Letter to filter on\n"
   ]
  },
  {
   "cell_type": "code",
   "execution_count": 13,
   "metadata": {},
   "outputs": [
    {
     "name": "stdout",
     "output_type": "stream",
     "text": [
      "9\n"
     ]
    }
   ],
   "source": [
    "\n",
    "def text_filter(src_path, filtered_path, startswith=None):\n",
    "    \"\"\"\n",
    "    Reads src_path as a list of words, filters list to only\n",
    "    those elements beginning with startswith and writes resulting\n",
    "    words to filtered_path.\n",
    "\n",
    "    Parameters\n",
    "    ----------\n",
    "    src_path: str\n",
    "        Path to source text file.\n",
    "\n",
    "    filtered_path: str\n",
    "        Path to write filtered words to.\n",
    "\n",
    "    startswith: str\n",
    "        Filter original list to words starting with this character. If None, \n",
    "        keep all words. \n",
    "    \"\"\"\n",
    "    with open(src_path, \"r\") as f:\n",
    "        words = f.read().split()\n",
    "    \n",
    "    if startswith is not None:\n",
    "        words2 = [w for w in words if w.startswith(startswith)]\n",
    "\n",
    "        print(len(words2))\n",
    "\n",
    "    # Write words2 to file, one word per line.\n",
    "    with open(filtered_path, \"w\") as f:\n",
    "        for word in words2:\n",
    "            f.write(word +\"\\n\")\n",
    "\n",
    "\n",
    "\n",
    "# Testing ----------------------------------------------------------------------\n",
    "            \n",
    "src_path = \"gettysburg.txt\"\n",
    "filtered_path = \"filtered.txt\"\n",
    "first_char = \"b\"\n",
    "text_filter(src_path, filtered_path, startswith=first_char)\n",
    "\n",
    "# filtered.txt:\n",
    "# brought\n",
    "# battle-field\n",
    "# brave\n",
    "# but\n",
    "# be\n",
    "# be\n",
    "# before\n",
    "# birth\n",
    "# by\n"
   ]
  }
 ],
 "metadata": {
  "kernelspec": {
   "display_name": "Python 3",
   "language": "python",
   "name": "python3"
  },
  "language_info": {
   "codemirror_mode": {
    "name": "ipython",
    "version": 3
   },
   "file_extension": ".py",
   "mimetype": "text/x-python",
   "name": "python",
   "nbconvert_exporter": "python",
   "pygments_lexer": "ipython3",
   "version": "3.11.8"
  }
 },
 "nbformat": 4,
 "nbformat_minor": 2
}
